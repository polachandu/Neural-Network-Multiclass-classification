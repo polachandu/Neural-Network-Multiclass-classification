{
 "cells": [
  {
   "cell_type": "markdown",
   "id": "920b1727",
   "metadata": {
    "papermill": {
     "duration": 0.007062,
     "end_time": "2025-02-21T02:15:56.663750",
     "exception": false,
     "start_time": "2025-02-21T02:15:56.656688",
     "status": "completed"
    },
    "tags": []
   },
   "source": [
    "#### Importing Libraries"
   ]
  },
  {
   "cell_type": "code",
   "execution_count": 1,
   "id": "fed7c706",
   "metadata": {
    "execution": {
     "iopub.execute_input": "2025-02-21T02:15:56.678566Z",
     "iopub.status.busy": "2025-02-21T02:15:56.678104Z",
     "iopub.status.idle": "2025-02-21T02:15:56.684083Z",
     "shell.execute_reply": "2025-02-21T02:15:56.683121Z"
    },
    "papermill": {
     "duration": 0.015634,
     "end_time": "2025-02-21T02:15:56.685908",
     "exception": false,
     "start_time": "2025-02-21T02:15:56.670274",
     "status": "completed"
    },
    "tags": []
   },
   "outputs": [],
   "source": [
    "import numpy as np\n",
    "import matplotlib.pyplot as plt\n",
    "import random"
   ]
  },
  {
   "cell_type": "markdown",
   "id": "394967cf",
   "metadata": {
    "papermill": {
     "duration": 0.005921,
     "end_time": "2025-02-21T02:15:56.698436",
     "exception": false,
     "start_time": "2025-02-21T02:15:56.692515",
     "status": "completed"
    },
    "tags": []
   },
   "source": [
    "# Importing Datasets\n",
    "\n",
    "I have already imported the dataset. If you want to use a different dataset, then you can give its path down below.\n",
    "\n",
    "The shape of X should be (n, m),\n",
    "And that of Y should be (10, m)\n",
    "\n",
    "Here, \n",
    "- n = total number of features\n",
    "- m = total number of observations in our dataset\n",
    "- 10 = number of output classes"
   ]
  },
  {
   "cell_type": "code",
   "execution_count": 2,
   "id": "85a77ff1",
   "metadata": {
    "execution": {
     "iopub.execute_input": "2025-02-21T02:15:56.712154Z",
     "iopub.status.busy": "2025-02-21T02:15:56.711790Z",
     "iopub.status.idle": "2025-02-21T02:15:56.822027Z",
     "shell.execute_reply": "2025-02-21T02:15:56.820669Z"
    },
    "papermill": {
     "duration": 0.119539,
     "end_time": "2025-02-21T02:15:56.824231",
     "exception": false,
     "start_time": "2025-02-21T02:15:56.704692",
     "status": "completed"
    },
    "tags": []
   },
   "outputs": [],
   "source": [
    "X_train = np.loadtxt('/kaggle/input/handwrittendataset/train_X.csv', delimiter = ',')\n",
    "Y_train = np.loadtxt('/kaggle/input/handwrittendataset/train_label.csv', delimiter = ',')\n",
    "\n",
    "X_train = X_train.T\n",
    "Y_train = Y_train.T"
   ]
  },
  {
   "cell_type": "code",
   "execution_count": 3,
   "id": "cba98958",
   "metadata": {
    "execution": {
     "iopub.execute_input": "2025-02-21T02:15:56.838297Z",
     "iopub.status.busy": "2025-02-21T02:15:56.837975Z",
     "iopub.status.idle": "2025-02-21T02:15:56.891769Z",
     "shell.execute_reply": "2025-02-21T02:15:56.890581Z"
    },
    "papermill": {
     "duration": 0.063238,
     "end_time": "2025-02-21T02:15:56.893915",
     "exception": false,
     "start_time": "2025-02-21T02:15:56.830677",
     "status": "completed"
    },
    "tags": []
   },
   "outputs": [],
   "source": [
    "X_test = np.loadtxt('/kaggle/input/handwrittendataset/test_X.csv', delimiter = ',')\n",
    "Y_test = np.loadtxt('/kaggle/input/handwrittendataset/test_label.csv', delimiter = ',')\n",
    "\n",
    "X_test = X_test.T\n",
    "Y_test = Y_test.T"
   ]
  },
  {
   "cell_type": "code",
   "execution_count": 4,
   "id": "eb716652",
   "metadata": {
    "execution": {
     "iopub.execute_input": "2025-02-21T02:15:56.908593Z",
     "iopub.status.busy": "2025-02-21T02:15:56.908116Z",
     "iopub.status.idle": "2025-02-21T02:15:56.915729Z",
     "shell.execute_reply": "2025-02-21T02:15:56.914547Z"
    },
    "papermill": {
     "duration": 0.016762,
     "end_time": "2025-02-21T02:15:56.917414",
     "exception": false,
     "start_time": "2025-02-21T02:15:56.900652",
     "status": "completed"
    },
    "tags": []
   },
   "outputs": [
    {
     "name": "stdout",
     "output_type": "stream",
     "text": [
      "shape of X_train :  (784, 1000)\n",
      "shape of Y_train :  (10, 1000)\n",
      "shape of X_test :  (784, 350)\n",
      "shape of Y_test :  (10, 350)\n"
     ]
    }
   ],
   "source": [
    "print(\"shape of X_train : \", X_train.shape)\n",
    "print(\"shape of Y_train : \", Y_train.shape)\n",
    "\n",
    "print(\"shape of X_test : \", X_test.shape)\n",
    "print(\"shape of Y_test : \", Y_test.shape)"
   ]
  },
  {
   "cell_type": "markdown",
   "id": "50f1fd9a",
   "metadata": {
    "papermill": {
     "duration": 0.006083,
     "end_time": "2025-02-21T02:15:56.930059",
     "exception": false,
     "start_time": "2025-02-21T02:15:56.923976",
     "status": "completed"
    },
    "tags": []
   },
   "source": [
    "### Visualizing our Dataset\n",
    "\n",
    "Our dataset is in the form of numbers. So, to visualize it properly, we will display it in the form of image"
   ]
  },
  {
   "cell_type": "code",
   "execution_count": 5,
   "id": "a2c1249c",
   "metadata": {
    "execution": {
     "iopub.execute_input": "2025-02-21T02:15:56.944182Z",
     "iopub.status.busy": "2025-02-21T02:15:56.943813Z",
     "iopub.status.idle": "2025-02-21T02:15:57.243772Z",
     "shell.execute_reply": "2025-02-21T02:15:57.242582Z"
    },
    "papermill": {
     "duration": 0.309103,
     "end_time": "2025-02-21T02:15:57.245607",
     "exception": false,
     "start_time": "2025-02-21T02:15:56.936504",
     "status": "completed"
    },
    "tags": []
   },
   "outputs": [
    {
     "data": {
      "image/png": "[encoded data removed]",
      "text/plain": [
       "<Figure size 640x480 with 1 Axes>"
      ]
     },
     "metadata": {},
     "output_type": "display_data"
    }
   ],
   "source": [
    "index = int(random.randrange(0,X_train.shape[1]))\n",
    "plt.imshow(X_train[:, index].reshape((28,28)),cmap='gray')\n",
    "plt.show()"
   ]
  },
  {
   "cell_type": "markdown",
   "id": "1a915751",
   "metadata": {
    "papermill": {
     "duration": 0.006319,
     "end_time": "2025-02-21T02:15:57.258721",
     "exception": false,
     "start_time": "2025-02-21T02:15:57.252402",
     "status": "completed"
    },
    "tags": []
   },
   "source": [
    "# Model\n",
    "\n",
    "![nn](Images/nn.png)\n",
    "\n",
    "## Initialize parameters Randomly\n",
    "$ W_1 = np.random.randn(n_1, n_0) $\n",
    "\n",
    "$ b_1 = np.zeros((n_1, 1))$\n",
    "\n",
    "$ W_2 = np.random.randn(n_2, n_1) $\n",
    "\n",
    "$ b_2 = np.zeros((n_2, 1))$\n",
    "\n",
    "\n",
    "## *Repeat Below Steps for many times : *\n",
    "\n",
    "\n",
    "## Forward Propagation \n",
    "\n",
    "$ Z_1 = W_1 * X + B_1 $\n",
    "\n",
    "$ A_1 = f ( Z_1 ) $  \n",
    "\n",
    "$ Z_2 = W2 * A_1 + B_2 $\n",
    "\n",
    "$ A_2 = Softmax( Z_2 ) $\n",
    "\n",
    "## Softmax \n",
    "\n",
    "$ a_i = \\frac{e^{z_i}}{\\sum_{i=k}^ne^{z_k}}$\n",
    "\n",
    "\n",
    "## Cost Function \n",
    "\n",
    "$Loss = - \\sum_{i=k}^{n}[ y_k*log(a_k) ]$\n",
    "\n",
    "$Cost = - \\frac{1}{m}\\sum_{i=1}^{m}\\sum_{k=1}^{n}[ y_k*log(a_k) ]$\n",
    "\n",
    "\n",
    "\n",
    "## Backward Propagation\n",
    "$dZ_2 = ( A_2 - Y )$\n",
    "\n",
    "$ dW_2 = \\frac{1}{m}. dZ_2 . A_1^T$\n",
    "\n",
    "$ dB_2 = \\frac{1}{m}.sum(dZ_2, 1)$\n",
    "\n",
    "\n",
    "\n",
    "$dZ_1 = W_2^T . dZ_2 * f_1^|(Z_1) $\n",
    "\n",
    "$dW_1 = \\frac{1}{m}.dZ_1.X^T$\n",
    "\n",
    "$dB_1 = \\frac{1}{m}.sum(dZ_1, 1)$\n",
    "\n",
    "\n",
    "## Updating Parameters\n",
    "\n",
    "$ W_2 = W_2 -  \\alpha * \\frac{\\partial Cost }{\\partial W_2}$ \n",
    "\n",
    "$ B_2 = B_2 -  \\alpha * \\frac{\\partial Cost }{\\partial B_2}$ \n",
    "\n",
    "$ W_1 = W_1 -  \\alpha * \\frac{\\partial Cost }{\\partial W_1}$ \n",
    "\n",
    "$ B_1 = B_1 -  \\alpha * \\frac{\\partial Cost }{\\partial B_1}$ \n"
   ]
  },
  {
   "cell_type": "markdown",
   "id": "c50dbe7e",
   "metadata": {
    "papermill": {
     "duration": 0.006338,
     "end_time": "2025-02-21T02:15:57.271677",
     "exception": false,
     "start_time": "2025-02-21T02:15:57.265339",
     "status": "completed"
    },
    "tags": []
   },
   "source": [
    "# Activation Functions\n",
    "\n",
    "***Now, its your time to implement !***\n",
    "\n",
    "Complete the below functions for Activations."
   ]
  },
  {
   "cell_type": "code",
   "execution_count": 6,
   "id": "a4464992",
   "metadata": {
    "execution": {
     "iopub.execute_input": "2025-02-21T02:15:57.286003Z",
     "iopub.status.busy": "2025-02-21T02:15:57.285676Z",
     "iopub.status.idle": "2025-02-21T02:15:57.289917Z",
     "shell.execute_reply": "2025-02-21T02:15:57.288837Z"
    },
    "papermill": {
     "duration": 0.013662,
     "end_time": "2025-02-21T02:15:57.291767",
     "exception": false,
     "start_time": "2025-02-21T02:15:57.278105",
     "status": "completed"
    },
    "tags": []
   },
   "outputs": [],
   "source": [
    "def tanh(x):\n",
    "    return np.tanh(x)"
   ]
  },
  {
   "cell_type": "code",
   "execution_count": 7,
   "id": "f04ecd90",
   "metadata": {
    "execution": {
     "iopub.execute_input": "2025-02-21T02:15:57.306626Z",
     "iopub.status.busy": "2025-02-21T02:15:57.306191Z",
     "iopub.status.idle": "2025-02-21T02:15:57.311249Z",
     "shell.execute_reply": "2025-02-21T02:15:57.309767Z"
    },
    "papermill": {
     "duration": 0.015388,
     "end_time": "2025-02-21T02:15:57.313872",
     "exception": false,
     "start_time": "2025-02-21T02:15:57.298484",
     "status": "completed"
    },
    "tags": []
   },
   "outputs": [],
   "source": [
    "def relu(x):\n",
    "    return np.maximum(x,0)"
   ]
  },
  {
   "cell_type": "code",
   "execution_count": 8,
   "id": "0bbf1653",
   "metadata": {
    "execution": {
     "iopub.execute_input": "2025-02-21T02:15:57.328864Z",
     "iopub.status.busy": "2025-02-21T02:15:57.328538Z",
     "iopub.status.idle": "2025-02-21T02:15:57.333494Z",
     "shell.execute_reply": "2025-02-21T02:15:57.332259Z"
    },
    "papermill": {
     "duration": 0.014323,
     "end_time": "2025-02-21T02:15:57.335391",
     "exception": false,
     "start_time": "2025-02-21T02:15:57.321068",
     "status": "completed"
    },
    "tags": []
   },
   "outputs": [],
   "source": [
    "def softmax(z):\n",
    "    expX = np.exp(x)\n",
    "    return expX/np.sum(expX)"
   ]
  },
  {
   "cell_type": "markdown",
   "id": "fa770507",
   "metadata": {
    "papermill": {
     "duration": 0.006834,
     "end_time": "2025-02-21T02:15:57.348979",
     "exception": false,
     "start_time": "2025-02-21T02:15:57.342145",
     "status": "completed"
    },
    "tags": []
   },
   "source": [
    "The function *derivative_tanh* must return the derivative of tanh.\n",
    "The function *derivative_relu* must return the derivative of ReLU\n",
    "\n",
    "\n",
    "Also note, I made a small mistake in video. derivative of tanh is given by 1 - tanh^2(x).\n",
    "\n",
    "\n",
    "so, derivative_tanh(x):\n",
    "\n",
    "return 1 - np.power(np.tanh(x), 2)"
   ]
  },
  {
   "cell_type": "code",
   "execution_count": 9,
   "id": "fd76142a",
   "metadata": {
    "execution": {
     "iopub.execute_input": "2025-02-21T02:15:57.363444Z",
     "iopub.status.busy": "2025-02-21T02:15:57.363017Z",
     "iopub.status.idle": "2025-02-21T02:15:57.367958Z",
     "shell.execute_reply": "2025-02-21T02:15:57.366798Z"
    },
    "papermill": {
     "duration": 0.014028,
     "end_time": "2025-02-21T02:15:57.369815",
     "exception": false,
     "start_time": "2025-02-21T02:15:57.355787",
     "status": "completed"
    },
    "tags": []
   },
   "outputs": [],
   "source": [
    "def derivative_tanh(x):\n",
    "    return (1-np.power(np.tanh(x),2))\n",
    "\n",
    "def derivative_relu(x):\n",
    "    return np.array(x>0, dtype = np.float32)"
   ]
  },
  {
   "cell_type": "markdown",
   "id": "0f7c9383",
   "metadata": {
    "papermill": {
     "duration": 0.006303,
     "end_time": "2025-02-21T02:15:57.382974",
     "exception": false,
     "start_time": "2025-02-21T02:15:57.376671",
     "status": "completed"
    },
    "tags": []
   },
   "source": [
    "# Initialize Parameters\n",
    "\n",
    "We need to initialize the **W** parameters randomly, and **B** with zeros\n",
    "\n",
    "- np.random.randn(a, b) return a numpy array of shape(a, b) with small random values\n",
    "- For making the values small, we multiply 0.01\n",
    "- np.zeros((a, b) return a numpy array of shape(a, b) with zeros \n",
    "\n",
    "### Why need small weights W?\n",
    "If we initialize weights will large values, then Z = W * X + B, will be large. For functions like tanh and sigmoid, the slope becomes very less for large Z value, thus learning can be very slow.\n",
    "\n",
    "#### Remember, we had an increase in the cost function at the beginning while training the model with ReLU activation function?\n",
    "It is because our weights were still very large and it was creating problem for training our model.\n",
    "\n",
    "Multiply weights with 0.001 instead of 0.01, and you will see that the graph becomes normal, with a smooth decrease in cost value.\n",
    "\n",
    "There are many weight initialization techniques available as well, to solve other such problems. We will learn those in the upcoming videos.\n",
    "\n",
    "Now, We need to return a dictionary containing all the parameters.\n",
    "\n",
    "More about np.random.randn here : https://numpy.org/doc/stable/reference/random/generated/numpy.random.randn.html"
   ]
  },
  {
   "cell_type": "code",
   "execution_count": 10,
   "id": "a10c4468",
   "metadata": {
    "execution": {
     "iopub.execute_input": "2025-02-21T02:15:57.397632Z",
     "iopub.status.busy": "2025-02-21T02:15:57.397248Z",
     "iopub.status.idle": "2025-02-21T02:15:57.402845Z",
     "shell.execute_reply": "2025-02-21T02:15:57.401727Z"
    },
    "papermill": {
     "duration": 0.014932,
     "end_time": "2025-02-21T02:15:57.404563",
     "exception": false,
     "start_time": "2025-02-21T02:15:57.389631",
     "status": "completed"
    },
    "tags": []
   },
   "outputs": [],
   "source": [
    "def initialize_parameters(n_x, n_h, n_y):\n",
    "    \n",
    "    ## Complete the code below ##\n",
    "    w1 = np.random.rand(n_h,n_x)*0.01\n",
    "    b1 = np.zeros(n_h,1)\n",
    "    w2 = np.random.rand(n_y,n_h)\n",
    "    b2 = np.zeros(n_y,1)\n",
    "    ## Your Code ends ##\n",
    "    \n",
    "    parameters = {\n",
    "        \"w1\" : w1, \n",
    "        \"b1\" : b1, \n",
    "        \"w2\" : w2,\n",
    "        \"b2\" : b2\n",
    "    }\n",
    "    \n",
    "    return parameters"
   ]
  },
  {
   "cell_type": "markdown",
   "id": "5f424af8",
   "metadata": {
    "papermill": {
     "duration": 0.006929,
     "end_time": "2025-02-21T02:15:57.418282",
     "exception": false,
     "start_time": "2025-02-21T02:15:57.411353",
     "status": "completed"
    },
    "tags": []
   },
   "source": [
    "# Forward Propagation\n",
    "\n",
    "We need to impletement the following equation for forward propagation :\n",
    "\n",
    "$ Z_1 = W_1 * X + B_1 $\n",
    "\n",
    "$ A_1 = f ( Z_1 ) $  \n",
    "\n",
    "$ Z_2 = W2 * A_1 + B_2 $\n",
    "\n",
    "$ A_2 = Softmax( Z_2 ) $\n",
    "\n",
    "For f(x), you can use either tanh or ReLU activation function. \n",
    "\n",
    "But also use the same for Backpropagation as well"
   ]
  },
  {
   "cell_type": "code",
   "execution_count": 11,
   "id": "9377a38a",
   "metadata": {
    "execution": {
     "iopub.execute_input": "2025-02-21T02:15:57.433608Z",
     "iopub.status.busy": "2025-02-21T02:15:57.433149Z",
     "iopub.status.idle": "2025-02-21T02:15:57.439104Z",
     "shell.execute_reply": "2025-02-21T02:15:57.437915Z"
    },
    "papermill": {
     "duration": 0.015288,
     "end_time": "2025-02-21T02:15:57.440843",
     "exception": false,
     "start_time": "2025-02-21T02:15:57.425555",
     "status": "completed"
    },
    "tags": []
   },
   "outputs": [],
   "source": [
    "def forward_prop(x, parameters):\n",
    "    \n",
    "    # To fetch the parameters\n",
    "    w1 = parameters['w1']\n",
    "    b1 = parameters['b1']\n",
    "    w2 = parameters['w2']\n",
    "    b2 = parameters['b2']\n",
    "    \n",
    "    ## Complete the Code below : ##\n",
    "    z1 = np.dot(w1,x) + b1\n",
    "    a1 = relu(z1)\n",
    "    z2 = np.dot(w2,a1) + b2\n",
    "    a2 = softmax(z2)\n",
    "    ## Your Code ends ##\n",
    "    \n",
    "    # To return our Zs and As\n",
    "    forward_cache = {\n",
    "        \"z1\" : z1,\n",
    "        \"a1\" : a1,\n",
    "        \"z2\" : z2,\n",
    "        \"a2\" : a2\n",
    "    }\n",
    "    \n",
    "    return forward_cache"
   ]
  },
  {
   "cell_type": "markdown",
   "id": "80cfd974",
   "metadata": {
    "papermill": {
     "duration": 0.006245,
     "end_time": "2025-02-21T02:15:57.453718",
     "exception": false,
     "start_time": "2025-02-21T02:15:57.447473",
     "status": "completed"
    },
    "tags": []
   },
   "source": [
    "# Cost Function\n",
    "\n",
    "$Loss = - \\sum_{k=1}^{n}[ y_k*log(a_k) ]$ .. *for 1 observation*\n",
    "\n",
    "$Cost = - \\frac{1}{m}\\sum_{i=1}^{m}\\sum_{k=1}^{n}[ y_k*log(a_k) ]$  .. *for all m observations*\n",
    "\n",
    "You need to return the cost in the below function\n",
    "\n",
    "You can use np.sum()\n",
    "- np.sum(A, axis = 1, keepdims = True) return the column-wise sum for a matrix A\n",
    "- np.sum(A, axis = 0, keepdims = True) returns the row-wise sum for a matrix A\n",
    "- np.sum(A) returns the summation of all the elements of A\n",
    "\n",
    "*keepdims = True keeps the dimenstion in place. In certain cases, the returned sum can be of shape(m,) instead of shape(m, 1).\n",
    "So, keepdims = True forces it to return the sum in shape(m, 1) instead of shape(m,)*\n",
    "\n",
    "\n",
    "More about np.sum() here : https://numpy.org/doc/stable/reference/generated/numpy.sum.html"
   ]
  },
  {
   "cell_type": "code",
   "execution_count": 12,
   "id": "67abe20d",
   "metadata": {
    "execution": {
     "iopub.execute_input": "2025-02-21T02:15:57.467821Z",
     "iopub.status.busy": "2025-02-21T02:15:57.467442Z",
     "iopub.status.idle": "2025-02-21T02:15:57.472053Z",
     "shell.execute_reply": "2025-02-21T02:15:57.471133Z"
    },
    "papermill": {
     "duration": 0.013863,
     "end_time": "2025-02-21T02:15:57.473926",
     "exception": false,
     "start_time": "2025-02-21T02:15:57.460063",
     "status": "completed"
    },
    "tags": []
   },
   "outputs": [],
   "source": [
    "def cost_function(a2, y):\n",
    "    m = y.shape[1]\n",
    "    cost = -(1/m)*np.sum(y*np.log(a2))\n",
    "    return cost"
   ]
  },
  {
   "cell_type": "markdown",
   "id": "c31826c6",
   "metadata": {
    "papermill": {
     "duration": 0.006133,
     "end_time": "2025-02-21T02:15:57.486790",
     "exception": false,
     "start_time": "2025-02-21T02:15:57.480657",
     "status": "completed"
    },
    "tags": []
   },
   "source": [
    "# Backward Propagation\n",
    "\n",
    "We need to implement the below equations\n",
    "\n",
    "$dZ_2 = ( A_2 - Y )$\n",
    "\n",
    "$ dW_2 = \\frac{1}{m}. dZ_2 . A_2^T$\n",
    "\n",
    "$ dB_2 = \\frac{1}{m}.sum(dZ_2, 1)$\n",
    "\n",
    "\n",
    "\n",
    "$dZ_1 = W_2^T . dZ_2 * f_1^|(Z_1) $\n",
    "\n",
    "$dW_1 = \\frac{1}{m}.dZ_1.A_1^T$\n",
    "\n",
    "$dB_1 = \\frac{1}{m}.sum(dZ_1, 1)$\n",
    "\n",
    "Helper python functions :\n",
    "- A.T returns the transpose of matrix A\n",
    "- np.dot(A, B) returns the matrix multiplication of A and B\n",
    "- A*B returns the element wise multi-plication for A and B\n",
    "- np.sum(A, axis = 1, keepdims = True) return the column-wise sum for a matrix A\n",
    "- np.sum(A, axis = 0, keepdims = True) returns the row-wise sum for a matrix A"
   ]
  },
  {
   "cell_type": "code",
   "execution_count": 13,
   "id": "2cad25d7",
   "metadata": {
    "execution": {
     "iopub.execute_input": "2025-02-21T02:15:57.501013Z",
     "iopub.status.busy": "2025-02-21T02:15:57.500691Z",
     "iopub.status.idle": "2025-02-21T02:15:57.506988Z",
     "shell.execute_reply": "2025-02-21T02:15:57.506063Z"
    },
    "papermill": {
     "duration": 0.015587,
     "end_time": "2025-02-21T02:15:57.508701",
     "exception": false,
     "start_time": "2025-02-21T02:15:57.493114",
     "status": "completed"
    },
    "tags": []
   },
   "outputs": [],
   "source": [
    "def backward_prop(x, y, parameters, forward_cache):\n",
    "    \n",
    "    m = x.shape[1]\n",
    "    \n",
    "    # Fetching our parameters\n",
    "    w1 = parameters['w1']\n",
    "    b1 = parameters['b1']\n",
    "    w2 = parameters['w2']\n",
    "    b2 = parameters['b2'] \n",
    "    \n",
    "    # Fetching our forward_cache\n",
    "    a1 = forward_cache['a1']\n",
    "    a2 = forward_cache['a2']\n",
    "    \n",
    "    \n",
    "    ## Complete the Code below ##\n",
    "    dz2 = a2-y\n",
    "    dw2 = 1/m*(np.dot(dz2,a2.T))\n",
    "    db2 = 1/m*np.sum(dz2,axis = 1, keepdims = True)\n",
    "    \n",
    "    dz1 = 1/m*np.dot(w2.T, dz2)*derivative_relu(a1)\n",
    "    dw1 = 1/m*np.dot(dz1,a1.T)\n",
    "    db1 = 1/m*np.sum(dz1, axis=1, keepdims = True)\n",
    "    ## Your Code ends ##\n",
    "    \n",
    "    ## Returning the Gradients\n",
    "    gradients = {\n",
    "        \"dw1\" : dw1,\n",
    "        \"db1\" : db1,\n",
    "        \"dw2\" : dw2, \n",
    "        \"db2\" : db2\n",
    "    }\n",
    "    \n",
    "    return gradients"
   ]
  },
  {
   "cell_type": "markdown",
   "id": "7ac839a6",
   "metadata": {
    "papermill": {
     "duration": 0.006361,
     "end_time": "2025-02-21T02:15:57.522436",
     "exception": false,
     "start_time": "2025-02-21T02:15:57.516075",
     "status": "completed"
    },
    "tags": []
   },
   "source": [
    "# Update Parameters"
   ]
  },
  {
   "cell_type": "code",
   "execution_count": 14,
   "id": "227579d8",
   "metadata": {
    "execution": {
     "iopub.execute_input": "2025-02-21T02:15:57.537352Z",
     "iopub.status.busy": "2025-02-21T02:15:57.536983Z",
     "iopub.status.idle": "2025-02-21T02:15:57.542894Z",
     "shell.execute_reply": "2025-02-21T02:15:57.541600Z"
    },
    "papermill": {
     "duration": 0.015807,
     "end_time": "2025-02-21T02:15:57.544812",
     "exception": false,
     "start_time": "2025-02-21T02:15:57.529005",
     "status": "completed"
    },
    "tags": []
   },
   "outputs": [],
   "source": [
    "def update_parameters(parameters, gradients, learning_rate):\n",
    "    \n",
    "    # Fetching our parameters\n",
    "    w1 = parameters['w1']\n",
    "    b1 = parameters['b1']\n",
    "    w2 = parameters['w2']\n",
    "    b2 = parameters['b2'] \n",
    "    \n",
    "    # Fetching our gradients\n",
    "    dw1 = gradients['dw1']\n",
    "    db1 = gradients['db1']\n",
    "    dw2 = gradients['dw2']\n",
    "    db2 = gradients['db2']\n",
    "    \n",
    "    ## Complete the Code below ##\n",
    "    w1 = w1-learning_rate*dw1\n",
    "    b1 = b1-learning_rate*db1\n",
    "    w2 = w2-learning_rate*dw2\n",
    "    b2 = b2-learning_rate*db2\n",
    "    ## Your code ends ##\n",
    "    \n",
    "    # Returning the updated parameters\n",
    "    Parameters = {\n",
    "        \"w1\" : w1, \n",
    "        \"b1\" : b1, \n",
    "        \"w2\" : w2,\n",
    "        \"b2\" : b2\n",
    "    }\n",
    "    \n",
    "    return Parameters"
   ]
  },
  {
   "cell_type": "markdown",
   "id": "040977b8",
   "metadata": {
    "papermill": {
     "duration": 0.006596,
     "end_time": "2025-02-21T02:15:57.558411",
     "exception": false,
     "start_time": "2025-02-21T02:15:57.551815",
     "status": "completed"
    },
    "tags": []
   },
   "source": [
    "# Complete Model\n",
    "\n",
    "Implement the entire Neural Network here\n",
    "\n",
    "### Instructions :\n",
    "\n",
    "We need to initialize parameters once, and after that, we will run the following in a loop:\n",
    "- forward_prop(x, parameters)\n",
    "- cost_function(a2, y)\n",
    "- backward_prop(x, y, parameters, forward_cache)\n",
    "- parameters = update_parameters(parameters, gradients, learning_rate)\n",
    "\n",
    "### Return :\n",
    "- parameters, which will be our trained parameters\n",
    "- cost_list, which contains cost for every iterations."
   ]
  },
  {
   "cell_type": "code",
   "execution_count": 15,
   "id": "b672b323",
   "metadata": {
    "execution": {
     "iopub.execute_input": "2025-02-21T02:15:57.572780Z",
     "iopub.status.busy": "2025-02-21T02:15:57.572400Z",
     "iopub.status.idle": "2025-02-21T02:15:57.576585Z",
     "shell.execute_reply": "2025-02-21T02:15:57.575364Z"
    },
    "papermill": {
     "duration": 0.013199,
     "end_time": "2025-02-21T02:15:57.578120",
     "exception": false,
     "start_time": "2025-02-21T02:15:57.564921",
     "status": "completed"
    },
    "tags": []
   },
   "outputs": [],
   "source": [
    "# def model(x, y, n_h, learning_rate, iterations):\n",
    "    \n",
    "#     ## Complete the Code Below ##\n",
    "#     n_x =                        # must return the number of neurons/features in input layer\n",
    "#     n_y =                        # must return the number of neurons in output layer\n",
    "#     ## Your Code ends ##\n",
    "    \n",
    "#     cost_list = []\n",
    "    \n",
    "#     ## Complete the Code Below ##\n",
    "#     parameters = \n",
    "#     ## Your Code ends ##\n",
    "    \n",
    "#     ## Complete the Code Below ##\n",
    "#     for i in range(          ):\n",
    "        \n",
    "#         # Forward Propagation\n",
    "     \n",
    "#         # Cost Function\n",
    "        \n",
    "#         # Backward propagation\n",
    "        \n",
    "#         # Update Parameters\n",
    "        \n",
    "#         cost_list.append(    )\n",
    "        \n",
    "#         if i%(iterations/10) == 0 :\n",
    "#             print(\"cost after\", i, \"iters is\" ,     cost   )\n",
    "            \n",
    "            \n",
    "#     ## Your Code ends ##\n",
    "    \n",
    "    \n",
    "#     return parameters, cost_list"
   ]
  },
  {
   "cell_type": "code",
   "execution_count": 16,
   "id": "7a8a3980",
   "metadata": {
    "execution": {
     "iopub.execute_input": "2025-02-21T02:15:57.593122Z",
     "iopub.status.busy": "2025-02-21T02:15:57.592802Z",
     "iopub.status.idle": "2025-02-21T02:15:57.596756Z",
     "shell.execute_reply": "2025-02-21T02:15:57.595553Z"
    },
    "papermill": {
     "duration": 0.013569,
     "end_time": "2025-02-21T02:15:57.598625",
     "exception": false,
     "start_time": "2025-02-21T02:15:57.585056",
     "status": "completed"
    },
    "tags": []
   },
   "outputs": [],
   "source": [
    "## Complete the Code Below ##\n",
    "\n",
    "# n_h = \n",
    "# learning_rate = \n",
    "# iterations = \n",
    "\n",
    "## Your Code ends ##\n",
    "\n",
    "# Parameters, Cost_list = model(X, Y, n_h = n_h, learning_rate = learning_rate, iterations = iterations)"
   ]
  },
  {
   "cell_type": "code",
   "execution_count": 17,
   "id": "e8c025d1",
   "metadata": {
    "execution": {
     "iopub.execute_input": "2025-02-21T02:15:57.613170Z",
     "iopub.status.busy": "2025-02-21T02:15:57.612805Z",
     "iopub.status.idle": "2025-02-21T02:15:57.616736Z",
     "shell.execute_reply": "2025-02-21T02:15:57.615678Z"
    },
    "papermill": {
     "duration": 0.01315,
     "end_time": "2025-02-21T02:15:57.618439",
     "exception": false,
     "start_time": "2025-02-21T02:15:57.605289",
     "status": "completed"
    },
    "tags": []
   },
   "outputs": [],
   "source": [
    "# t = np.arange(0, iterations+1)\n",
    "# plt.plot(t, Cost_list)\n",
    "# plt.show()"
   ]
  },
  {
   "cell_type": "markdown",
   "id": "c5c8f6d3",
   "metadata": {
    "papermill": {
     "duration": 0.006316,
     "end_time": "2025-02-21T02:15:57.632183",
     "exception": false,
     "start_time": "2025-02-21T02:15:57.625867",
     "status": "completed"
    },
    "tags": []
   },
   "source": [
    "# Checking Accuracy\n",
    "\n",
    "Run the below cells to check your model Accuracy "
   ]
  },
  {
   "cell_type": "code",
   "execution_count": 18,
   "id": "c2154af4",
   "metadata": {
    "execution": {
     "iopub.execute_input": "2025-02-21T02:15:57.647100Z",
     "iopub.status.busy": "2025-02-21T02:15:57.646766Z",
     "iopub.status.idle": "2025-02-21T02:15:57.651356Z",
     "shell.execute_reply": "2025-02-21T02:15:57.650106Z"
    },
    "papermill": {
     "duration": 0.014744,
     "end_time": "2025-02-21T02:15:57.653574",
     "exception": false,
     "start_time": "2025-02-21T02:15:57.638830",
     "status": "completed"
    },
    "tags": []
   },
   "outputs": [],
   "source": [
    "# def accuracy(inp, labels, parameters):\n",
    "#     forward_cache = forward_prop(inp, parameters)\n",
    "#     a_out = forward_cache['a2']   # containes propabilities with shape(10, 1)\n",
    "    \n",
    "#     a_out = np.argmax(a_out, 0)  # 0 represents row wise \n",
    "    \n",
    "#     labels = np.argmax(labels, 0)\n",
    "    \n",
    "#     acc = np.mean(a_out == labels)*100\n",
    "    \n",
    "#     return acc"
   ]
  },
  {
   "cell_type": "code",
   "execution_count": 19,
   "id": "1337c83b",
   "metadata": {
    "execution": {
     "iopub.execute_input": "2025-02-21T02:15:57.668373Z",
     "iopub.status.busy": "2025-02-21T02:15:57.668012Z",
     "iopub.status.idle": "2025-02-21T02:15:57.672185Z",
     "shell.execute_reply": "2025-02-21T02:15:57.670842Z"
    },
    "papermill": {
     "duration": 0.013698,
     "end_time": "2025-02-21T02:15:57.674101",
     "exception": false,
     "start_time": "2025-02-21T02:15:57.660403",
     "status": "completed"
    },
    "tags": []
   },
   "outputs": [],
   "source": [
    "# print(\"Accuracy of Train Dataset\", accuracy(X_train, Y_train, Parameters), \"%\")\n",
    "# print(\"Accuracy of Test Dataset\", round(accuracy(X_test, Y_test, Parameters), 2), \"%\")"
   ]
  },
  {
   "cell_type": "code",
   "execution_count": 20,
   "id": "14a04d96",
   "metadata": {
    "execution": {
     "iopub.execute_input": "2025-02-21T02:15:57.688721Z",
     "iopub.status.busy": "2025-02-21T02:15:57.688313Z",
     "iopub.status.idle": "2025-02-21T02:15:57.692817Z",
     "shell.execute_reply": "2025-02-21T02:15:57.691469Z"
    },
    "papermill": {
     "duration": 0.013861,
     "end_time": "2025-02-21T02:15:57.694703",
     "exception": false,
     "start_time": "2025-02-21T02:15:57.680842",
     "status": "completed"
    },
    "tags": []
   },
   "outputs": [],
   "source": [
    "# idx = int(random.randrange(0,X_test.shape[1]))\n",
    "# plt.imshow(X_test[:, idx].reshape((28,28)),cmap='gray')\n",
    "# plt.show()\n",
    "\n",
    "# cache = forward_prop(X_test[:, idx].reshape(X_test[:, idx].shape[0], 1), Parameters)\n",
    "# a_pred = cache['a2']  \n",
    "# a_pred = np.argmax(a_pred, 0)\n",
    "\n",
    "# print(\"Our model says it is :\", a_pred[0])"
   ]
  },
  {
   "cell_type": "code",
   "execution_count": null,
   "id": "277d1471",
   "metadata": {
    "papermill": {
     "duration": 0.006681,
     "end_time": "2025-02-21T02:15:57.708155",
     "exception": false,
     "start_time": "2025-02-21T02:15:57.701474",
     "status": "completed"
    },
    "tags": []
   },
   "outputs": [],
   "source": []
  }
 ],
 "metadata": {
  "kaggle": {
   "accelerator": "none",
   "dataSources": [
    {
     "datasetId": 6702547,
     "sourceId": 10799257,
     "sourceType": "datasetVersion"
    }
   ],
   "dockerImageVersionId": 30886,
   "isGpuEnabled": false,
   "isInternetEnabled": false,
   "language": "python",
   "sourceType": "notebook"
  },
  "kernelspec": {
   "display_name": "Python 3",
   "language": "python",
   "name": "python3"
  },
  "language_info": {
   "codemirror_mode": {
    "name": "ipython",
    "version": 3
   },
   "file_extension": ".py",
   "mimetype": "text/x-python",
   "name": "python",
   "nbconvert_exporter": "python",
   "pygments_lexer": "ipython3",
   "version": "3.10.12"
  },
  "papermill": {
   "default_parameters": {},
   "duration": 4.632501,
   "end_time": "2025-02-21T02:15:58.234479",
   "environment_variables": {},
   "exception": null,
   "input_path": "__notebook__.ipynb",
   "output_path": "__notebook__.ipynb",
   "parameters": {},
   "start_time": "2025-02-21T02:15:53.601978",
   "version": "2.6.0"
  }
 },
 "nbformat": 4,
 "nbformat_minor": 5
}
