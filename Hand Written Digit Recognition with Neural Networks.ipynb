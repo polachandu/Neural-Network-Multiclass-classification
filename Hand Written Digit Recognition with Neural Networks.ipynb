{
 "cells": [
  {
   "cell_type": "markdown",
   "id": "564c8b37",
   "metadata": {
    "papermill": {
     "duration": 0.005558,
     "end_time": "2025-02-23T21:59:02.417893",
     "exception": false,
     "start_time": "2025-02-23T21:59:02.412335",
     "status": "completed"
    },
    "tags": []
   },
   "source": [
    "#### Importing Libraries"
   ]
  },
  {
   "cell_type": "code",
   "execution_count": 1,
   "id": "69797cce",
   "metadata": {
    "execution": {
     "iopub.execute_input": "2025-02-23T21:59:02.428243Z",
     "iopub.status.busy": "2025-02-23T21:59:02.427878Z",
     "iopub.status.idle": "2025-02-23T21:59:02.434391Z",
     "shell.execute_reply": "2025-02-23T21:59:02.432918Z"
    },
    "papermill": {
     "duration": 0.014256,
     "end_time": "2025-02-23T21:59:02.436678",
     "exception": false,
     "start_time": "2025-02-23T21:59:02.422422",
     "status": "completed"
    },
    "tags": []
   },
   "outputs": [],
   "source": [
    "import numpy as np\n",
    "import matplotlib.pyplot as plt\n",
    "import random"
   ]
  },
  {
   "cell_type": "markdown",
   "id": "08080e5c",
   "metadata": {
    "papermill": {
     "duration": 0.005479,
     "end_time": "2025-02-23T21:59:02.447776",
     "exception": false,
     "start_time": "2025-02-23T21:59:02.442297",
     "status": "completed"
    },
    "tags": []
   },
   "source": [
    "# Importing Datasets\n",
    "\n",
    "I have already imported the dataset. If you want to use a different dataset, then you can give its path down below.\n",
    "\n",
    "The shape of X should be (n, m),\n",
    "And that of Y should be (10, m)\n",
    "\n",
    "Here, \n",
    "- n = total number of features\n",
    "- m = total number of observations in our dataset\n",
    "- 10 = number of output classes"
   ]
  },
  {
   "cell_type": "code",
   "execution_count": 2,
   "id": "287084ac",
   "metadata": {
    "execution": {
     "iopub.execute_input": "2025-02-23T21:59:02.457700Z",
     "iopub.status.busy": "2025-02-23T21:59:02.457416Z",
     "iopub.status.idle": "2025-02-23T21:59:02.532534Z",
     "shell.execute_reply": "2025-02-23T21:59:02.531764Z"
    },
    "papermill": {
     "duration": 0.082051,
     "end_time": "2025-02-23T21:59:02.534279",
     "exception": false,
     "start_time": "2025-02-23T21:59:02.452228",
     "status": "completed"
    },
    "tags": []
   },
   "outputs": [],
   "source": [
    "X_train = np.loadtxt('/kaggle/input/handwrittendataset/train_X.csv', delimiter = ',')\n",
    "Y_train = np.loadtxt('/kaggle/input/handwrittendataset/train_label.csv', delimiter = ',')\n",
    "\n",
    "X_train = X_train.T\n",
    "Y_train = Y_train.T"
   ]
  },
  {
   "cell_type": "code",
   "execution_count": 3,
   "id": "27ac121f",
   "metadata": {
    "execution": {
     "iopub.execute_input": "2025-02-23T21:59:02.545289Z",
     "iopub.status.busy": "2025-02-23T21:59:02.544931Z",
     "iopub.status.idle": "2025-02-23T21:59:02.582170Z",
     "shell.execute_reply": "2025-02-23T21:59:02.581097Z"
    },
    "papermill": {
     "duration": 0.044665,
     "end_time": "2025-02-23T21:59:02.584025",
     "exception": false,
     "start_time": "2025-02-23T21:59:02.539360",
     "status": "completed"
    },
    "tags": []
   },
   "outputs": [],
   "source": [
    "X_test = np.loadtxt('/kaggle/input/handwrittendataset/test_X.csv', delimiter = ',')\n",
    "Y_test = np.loadtxt('/kaggle/input/handwrittendataset/test_label.csv', delimiter = ',')\n",
    "\n",
    "X_test = X_test.T\n",
    "Y_test = Y_test.T"
   ]
  },
  {
   "cell_type": "code",
   "execution_count": 4,
   "id": "3ba1c212",
   "metadata": {
    "execution": {
     "iopub.execute_input": "2025-02-23T21:59:02.594442Z",
     "iopub.status.busy": "2025-02-23T21:59:02.594127Z",
     "iopub.status.idle": "2025-02-23T21:59:02.600849Z",
     "shell.execute_reply": "2025-02-23T21:59:02.599084Z"
    },
    "papermill": {
     "duration": 0.013893,
     "end_time": "2025-02-23T21:59:02.602602",
     "exception": false,
     "start_time": "2025-02-23T21:59:02.588709",
     "status": "completed"
    },
    "tags": []
   },
   "outputs": [
    {
     "name": "stdout",
     "output_type": "stream",
     "text": [
      "shape of X_train :  (784, 1000)\n",
      "shape of Y_train :  (10, 1000)\n",
      "shape of X_test :  (784, 350)\n",
      "shape of Y_test :  (10, 350)\n"
     ]
    }
   ],
   "source": [
    "print(\"shape of X_train : \", X_train.shape)\n",
    "print(\"shape of Y_train : \", Y_train.shape)\n",
    "\n",
    "print(\"shape of X_test : \", X_test.shape)\n",
    "print(\"shape of Y_test : \", Y_test.shape)"
   ]
  },
  {
   "cell_type": "markdown",
   "id": "eacbbb7b",
   "metadata": {
    "papermill": {
     "duration": 0.004486,
     "end_time": "2025-02-23T21:59:02.611870",
     "exception": false,
     "start_time": "2025-02-23T21:59:02.607384",
     "status": "completed"
    },
    "tags": []
   },
   "source": [
    "### Visualizing our Dataset\n",
    "\n",
    "Our dataset is in the form of numbers. So, to visualize it properly, we will display it in the form of image"
   ]
  },
  {
   "cell_type": "code",
   "execution_count": 5,
   "id": "da19abe5",
   "metadata": {
    "execution": {
     "iopub.execute_input": "2025-02-23T21:59:02.621895Z",
     "iopub.status.busy": "2025-02-23T21:59:02.621530Z",
     "iopub.status.idle": "2025-02-23T21:59:02.853846Z",
     "shell.execute_reply": "2025-02-23T21:59:02.852503Z"
    },
    "papermill": {
     "duration": 0.239378,
     "end_time": "2025-02-23T21:59:02.855443",
     "exception": false,
     "start_time": "2025-02-23T21:59:02.616065",
     "status": "completed"
    },
    "tags": []
   },
   "outputs": [
    {
     "data": {
      "image/png": "[encoded data removed]",
      "text/plain": [
       "<Figure size 640x480 with 1 Axes>"
      ]
     },
     "metadata": {},
     "output_type": "display_data"
    }
   ],
   "source": [
    "index = int(random.randrange(0,X_train.shape[1]))\n",
    "plt.imshow(X_train[:, index].reshape((28,28)),cmap='gray')\n",
    "plt.show()"
   ]
  },
  {
   "cell_type": "markdown",
   "id": "6928b881",
   "metadata": {
    "papermill": {
     "duration": 0.005691,
     "end_time": "2025-02-23T21:59:02.866214",
     "exception": false,
     "start_time": "2025-02-23T21:59:02.860523",
     "status": "completed"
    },
    "tags": []
   },
   "source": [
    "# Model\n",
    "\n",
    "![nn](Images/nn.png)\n",
    "\n",
    "## Initialize parameters Randomly\n",
    "$ W_1 = np.random.randn(n_1, n_0) $\n",
    "\n",
    "$ b_1 = np.zeros((n_1, 1))$\n",
    "\n",
    "$ W_2 = np.random.randn(n_2, n_1) $\n",
    "\n",
    "$ b_2 = np.zeros((n_2, 1))$\n",
    "\n",
    "\n",
    "## *Repeat Below Steps for many times : *\n",
    "\n",
    "\n",
    "## Forward Propagation \n",
    "\n",
    "$ Z_1 = W_1 * X + B_1 $\n",
    "\n",
    "$ A_1 = f ( Z_1 ) $  \n",
    "\n",
    "$ Z_2 = W2 * A_1 + B_2 $\n",
    "\n",
    "$ A_2 = Softmax( Z_2 ) $\n",
    "\n",
    "## Softmax \n",
    "\n",
    "$ a_i = \\frac{e^{z_i}}{\\sum_{i=k}^ne^{z_k}}$\n",
    "\n",
    "\n",
    "## Cost Function \n",
    "\n",
    "$Loss = - \\sum_{i=k}^{n}[ y_k*log(a_k) ]$\n",
    "\n",
    "$Cost = - \\frac{1}{m}\\sum_{i=1}^{m}\\sum_{k=1}^{n}[ y_k*log(a_k) ]$\n",
    "\n",
    "\n",
    "\n",
    "## Backward Propagation\n",
    "$dZ_2 = ( A_2 - Y )$\n",
    "\n",
    "$ dW_2 = \\frac{1}{m}. dZ_2 . A_1^T$\n",
    "\n",
    "$ dB_2 = \\frac{1}{m}.sum(dZ_2, 1)$\n",
    "\n",
    "\n",
    "\n",
    "$dZ_1 = W_2^T . dZ_2 * f_1^|(Z_1) $\n",
    "\n",
    "$dW_1 = \\frac{1}{m}.dZ_1.X^T$\n",
    "\n",
    "$dB_1 = \\frac{1}{m}.sum(dZ_1, 1)$\n",
    "\n",
    "\n",
    "## Updating Parameters\n",
    "\n",
    "$ W_2 = W_2 -  \\alpha * \\frac{\\partial Cost }{\\partial W_2}$ \n",
    "\n",
    "$ B_2 = B_2 -  \\alpha * \\frac{\\partial Cost }{\\partial B_2}$ \n",
    "\n",
    "$ W_1 = W_1 -  \\alpha * \\frac{\\partial Cost }{\\partial W_1}$ \n",
    "\n",
    "$ B_1 = B_1 -  \\alpha * \\frac{\\partial Cost }{\\partial B_1}$ \n"
   ]
  },
  {
   "cell_type": "markdown",
   "id": "1c4dfb83",
   "metadata": {
    "papermill": {
     "duration": 0.004304,
     "end_time": "2025-02-23T21:59:02.876192",
     "exception": false,
     "start_time": "2025-02-23T21:59:02.871888",
     "status": "completed"
    },
    "tags": []
   },
   "source": [
    "# Activation Functions\n",
    "\n",
    "***Now, its your time to implement !***\n",
    "\n",
    "Complete the below functions for Activations."
   ]
  },
  {
   "cell_type": "code",
   "execution_count": 6,
   "id": "cd03fd4b",
   "metadata": {
    "execution": {
     "iopub.execute_input": "2025-02-23T21:59:02.886854Z",
     "iopub.status.busy": "2025-02-23T21:59:02.886480Z",
     "iopub.status.idle": "2025-02-23T21:59:02.891413Z",
     "shell.execute_reply": "2025-02-23T21:59:02.890025Z"
    },
    "papermill": {
     "duration": 0.012515,
     "end_time": "2025-02-23T21:59:02.893373",
     "exception": false,
     "start_time": "2025-02-23T21:59:02.880858",
     "status": "completed"
    },
    "tags": []
   },
   "outputs": [],
   "source": [
    "def tanh(x):\n",
    "    return np.tanh(x)"
   ]
  },
  {
   "cell_type": "code",
   "execution_count": 7,
   "id": "5d96e5aa",
   "metadata": {
    "execution": {
     "iopub.execute_input": "2025-02-23T21:59:02.905179Z",
     "iopub.status.busy": "2025-02-23T21:59:02.904839Z",
     "iopub.status.idle": "2025-02-23T21:59:02.909462Z",
     "shell.execute_reply": "2025-02-23T21:59:02.908339Z"
    },
    "papermill": {
     "duration": 0.013053,
     "end_time": "2025-02-23T21:59:02.911679",
     "exception": false,
     "start_time": "2025-02-23T21:59:02.898626",
     "status": "completed"
    },
    "tags": []
   },
   "outputs": [],
   "source": [
    "def relu(x):\n",
    "    return np.maximum(x,0)"
   ]
  },
  {
   "cell_type": "code",
   "execution_count": 8,
   "id": "c93683a6",
   "metadata": {
    "execution": {
     "iopub.execute_input": "2025-02-23T21:59:02.923634Z",
     "iopub.status.busy": "2025-02-23T21:59:02.923332Z",
     "iopub.status.idle": "2025-02-23T21:59:02.927479Z",
     "shell.execute_reply": "2025-02-23T21:59:02.926281Z"
    },
    "papermill": {
     "duration": 0.011421,
     "end_time": "2025-02-23T21:59:02.929050",
     "exception": false,
     "start_time": "2025-02-23T21:59:02.917629",
     "status": "completed"
    },
    "tags": []
   },
   "outputs": [],
   "source": [
    "def softmax(x):\n",
    "    expX = np.exp(x)\n",
    "    return expX/np.sum(expX, axis = 0)"
   ]
  },
  {
   "cell_type": "markdown",
   "id": "897e6ee4",
   "metadata": {
    "papermill": {
     "duration": 0.004379,
     "end_time": "2025-02-23T21:59:02.938629",
     "exception": false,
     "start_time": "2025-02-23T21:59:02.934250",
     "status": "completed"
    },
    "tags": []
   },
   "source": [
    "The function *derivative_tanh* must return the derivative of tanh.\n",
    "The function *derivative_relu* must return the derivative of ReLU\n",
    "\n",
    "\n",
    "Also note, I made a small mistake in video. derivative of tanh is given by 1 - tanh^2(x).\n",
    "\n",
    "\n",
    "so, derivative_tanh(x):\n",
    "\n",
    "return 1 - np.power(np.tanh(x), 2)"
   ]
  },
  {
   "cell_type": "code",
   "execution_count": 9,
   "id": "817348a7",
   "metadata": {
    "execution": {
     "iopub.execute_input": "2025-02-23T21:59:02.949143Z",
     "iopub.status.busy": "2025-02-23T21:59:02.948664Z",
     "iopub.status.idle": "2025-02-23T21:59:02.954163Z",
     "shell.execute_reply": "2025-02-23T21:59:02.952945Z"
    },
    "papermill": {
     "duration": 0.01266,
     "end_time": "2025-02-23T21:59:02.955775",
     "exception": false,
     "start_time": "2025-02-23T21:59:02.943115",
     "status": "completed"
    },
    "tags": []
   },
   "outputs": [],
   "source": [
    "def derivative_tanh(x):\n",
    "    return (1-np.power(np.tanh(x),2))\n",
    "\n",
    "def derivative_relu(x):\n",
    "    x = np.nan_to_num(x, nan=0.0, posinf=1.0, neginf=-1.0)\n",
    "    return np.array(x>0, dtype = np.float32)"
   ]
  },
  {
   "cell_type": "markdown",
   "id": "0799f975",
   "metadata": {
    "papermill": {
     "duration": 0.004336,
     "end_time": "2025-02-23T21:59:02.965456",
     "exception": false,
     "start_time": "2025-02-23T21:59:02.961120",
     "status": "completed"
    },
    "tags": []
   },
   "source": [
    "# Initialize Parameters\n",
    "\n",
    "We need to initialize the **W** parameters randomly, and **B** with zeros\n",
    "\n",
    "- np.random.randn(a, b) return a numpy array of shape(a, b) with small random values\n",
    "- For making the values small, we multiply 0.01\n",
    "- np.zeros((a, b) return a numpy array of shape(a, b) with zeros \n",
    "\n",
    "### Why need small weights W?\n",
    "If we initialize weights will large values, then Z = W * X + B, will be large. For functions like tanh and sigmoid, the slope becomes very less for large Z value, thus learning can be very slow.\n",
    "\n",
    "#### Remember, we had an increase in the cost function at the beginning while training the model with ReLU activation function?\n",
    "It is because our weights were still very large and it was creating problem for training our model.\n",
    "\n",
    "Multiply weights with 0.001 instead of 0.01, and you will see that the graph becomes normal, with a smooth decrease in cost value.\n",
    "\n",
    "There are many weight initialization techniques available as well, to solve other such problems. We will learn those in the upcoming videos.\n",
    "\n",
    "Now, We need to return a dictionary containing all the parameters.\n",
    "\n",
    "More about np.random.randn here : https://numpy.org/doc/stable/reference/random/generated/numpy.random.randn.html"
   ]
  },
  {
   "cell_type": "code",
   "execution_count": 10,
   "id": "93475f9e",
   "metadata": {
    "execution": {
     "iopub.execute_input": "2025-02-23T21:59:02.975779Z",
     "iopub.status.busy": "2025-02-23T21:59:02.975439Z",
     "iopub.status.idle": "2025-02-23T21:59:02.980465Z",
     "shell.execute_reply": "2025-02-23T21:59:02.979423Z"
    },
    "papermill": {
     "duration": 0.012252,
     "end_time": "2025-02-23T21:59:02.982154",
     "exception": false,
     "start_time": "2025-02-23T21:59:02.969902",
     "status": "completed"
    },
    "tags": []
   },
   "outputs": [],
   "source": [
    "def initialize_parameters(n_x, n_h, n_y):\n",
    "    \n",
    "    ## Complete the code below ##\n",
    "    w1 = np.random.rand(n_h,n_x)*0.01\n",
    "    b1 = np.zeros((n_h,1))\n",
    "    \n",
    "    w2 = np.random.rand(n_y,n_h)*0.01\n",
    "    b2 = np.zeros((n_y,1))\n",
    "    ## Your Code ends ##\n",
    "    \n",
    "    parameters = {\n",
    "        \"w1\" : w1, \n",
    "        \"b1\" : b1, \n",
    "        \"w2\" : w2,\n",
    "        \"b2\" : b2\n",
    "    }\n",
    "    \n",
    "    return parameters"
   ]
  },
  {
   "cell_type": "markdown",
   "id": "5afa71b2",
   "metadata": {
    "papermill": {
     "duration": 0.004303,
     "end_time": "2025-02-23T21:59:02.991607",
     "exception": false,
     "start_time": "2025-02-23T21:59:02.987304",
     "status": "completed"
    },
    "tags": []
   },
   "source": [
    "# Forward Propagation\n",
    "\n",
    "We need to impletement the following equation for forward propagation :\n",
    "\n",
    "$ Z_1 = W_1 * X + B_1 $\n",
    "\n",
    "$ A_1 = f ( Z_1 ) $  \n",
    "\n",
    "$ Z_2 = W2 * A_1 + B_2 $\n",
    "\n",
    "$ A_2 = Softmax( Z_2 ) $\n",
    "\n",
    "For f(x), you can use either tanh or ReLU activation function. \n",
    "\n",
    "But also use the same for Backpropagation as well"
   ]
  },
  {
   "cell_type": "code",
   "execution_count": 11,
   "id": "7b283d5e",
   "metadata": {
    "execution": {
     "iopub.execute_input": "2025-02-23T21:59:03.002394Z",
     "iopub.status.busy": "2025-02-23T21:59:03.002073Z",
     "iopub.status.idle": "2025-02-23T21:59:03.007354Z",
     "shell.execute_reply": "2025-02-23T21:59:03.006353Z"
    },
    "papermill": {
     "duration": 0.01301,
     "end_time": "2025-02-23T21:59:03.009234",
     "exception": false,
     "start_time": "2025-02-23T21:59:02.996224",
     "status": "completed"
    },
    "tags": []
   },
   "outputs": [],
   "source": [
    "def forward_prop(x, parameters):\n",
    "    \n",
    "    # To fetch the parameters\n",
    "    w1 = parameters['w1']\n",
    "    b1 = parameters['b1']\n",
    "    w2 = parameters['w2']\n",
    "    b2 = parameters['b2']\n",
    "    \n",
    "    ## Complete the Code below : ##\n",
    "    z1 = np.dot(w1,x) + b1\n",
    "    a1 = tanh(z1)\n",
    "    z2 = np.dot(w2,a1) + b2\n",
    "    a2 = softmax(z2)\n",
    "    ## Your Code ends ##\n",
    "    \n",
    "    # To return our Zs and As\n",
    "    forward_cache = {\n",
    "        \"z1\" : z1,\n",
    "        \"a1\" : a1,\n",
    "        \"z2\" : z2,\n",
    "        \"a2\" : a2\n",
    "    }\n",
    "    \n",
    "    return forward_cache"
   ]
  },
  {
   "cell_type": "markdown",
   "id": "f2cc431f",
   "metadata": {
    "papermill": {
     "duration": 0.004571,
     "end_time": "2025-02-23T21:59:03.018962",
     "exception": false,
     "start_time": "2025-02-23T21:59:03.014391",
     "status": "completed"
    },
    "tags": []
   },
   "source": [
    "# Cost Function\n",
    "\n",
    "$Loss = - \\sum_{k=1}^{n}[ y_k*log(a_k) ]$ .. *for 1 observation*\n",
    "\n",
    "$Cost = - \\frac{1}{m}\\sum_{i=1}^{m}\\sum_{k=1}^{n}[ y_k*log(a_k) ]$  .. *for all m observations*\n",
    "\n",
    "You need to return the cost in the below function\n",
    "\n",
    "You can use np.sum()\n",
    "- np.sum(A, axis = 1, keepdims = True) return the column-wise sum for a matrix A\n",
    "- np.sum(A, axis = 0, keepdims = True) returns the row-wise sum for a matrix A\n",
    "- np.sum(A) returns the summation of all the elements of A\n",
    "\n",
    "*keepdims = True keeps the dimenstion in place. In certain cases, the returned sum can be of shape(m,) instead of shape(m, 1).\n",
    "So, keepdims = True forces it to return the sum in shape(m, 1) instead of shape(m,)*\n",
    "\n",
    "\n",
    "More about np.sum() here : https://numpy.org/doc/stable/reference/generated/numpy.sum.html"
   ]
  },
  {
   "cell_type": "code",
   "execution_count": 12,
   "id": "9b74396c",
   "metadata": {
    "execution": {
     "iopub.execute_input": "2025-02-23T21:59:03.029282Z",
     "iopub.status.busy": "2025-02-23T21:59:03.028962Z",
     "iopub.status.idle": "2025-02-23T21:59:03.033630Z",
     "shell.execute_reply": "2025-02-23T21:59:03.032519Z"
    },
    "papermill": {
     "duration": 0.012059,
     "end_time": "2025-02-23T21:59:03.035611",
     "exception": false,
     "start_time": "2025-02-23T21:59:03.023552",
     "status": "completed"
    },
    "tags": []
   },
   "outputs": [],
   "source": [
    "def cost_function(a2, y):\n",
    "    m = y.shape[1]\n",
    "    cost = -(1/m)*np.sum(y*np.log(a2))\n",
    "    return cost"
   ]
  },
  {
   "cell_type": "markdown",
   "id": "74f715a9",
   "metadata": {
    "papermill": {
     "duration": 0.004404,
     "end_time": "2025-02-23T21:59:03.045504",
     "exception": false,
     "start_time": "2025-02-23T21:59:03.041100",
     "status": "completed"
    },
    "tags": []
   },
   "source": [
    "# Backward Propagation\n",
    "\n",
    "We need to implement the below equations\n",
    "\n",
    "$dZ_2 = ( A_2 - Y )$\n",
    "\n",
    "$ dW_2 = \\frac{1}{m}. dZ_2 . A_2^T$\n",
    "\n",
    "$ dB_2 = \\frac{1}{m}.sum(dZ_2, 1)$\n",
    "\n",
    "\n",
    "\n",
    "$dZ_1 = W_2^T . dZ_2 * f_1^|(Z_1) $\n",
    "\n",
    "$dW_1 = \\frac{1}{m}.dZ_1.A_1^T$\n",
    "\n",
    "$dB_1 = \\frac{1}{m}.sum(dZ_1, 1)$\n",
    "\n",
    "Helper python functions :\n",
    "- A.T returns the transpose of matrix A\n",
    "- np.dot(A, B) returns the matrix multiplication of A and B\n",
    "- A*B returns the element wise multi-plication for A and B\n",
    "- np.sum(A, axis = 1, keepdims = True) return the column-wise sum for a matrix A\n",
    "- np.sum(A, axis = 0, keepdims = True) returns the row-wise sum for a matrix A"
   ]
  },
  {
   "cell_type": "code",
   "execution_count": 13,
   "id": "d0e99453",
   "metadata": {
    "execution": {
     "iopub.execute_input": "2025-02-23T21:59:03.056512Z",
     "iopub.status.busy": "2025-02-23T21:59:03.056201Z",
     "iopub.status.idle": "2025-02-23T21:59:03.062608Z",
     "shell.execute_reply": "2025-02-23T21:59:03.061440Z"
    },
    "papermill": {
     "duration": 0.014546,
     "end_time": "2025-02-23T21:59:03.064678",
     "exception": false,
     "start_time": "2025-02-23T21:59:03.050132",
     "status": "completed"
    },
    "tags": []
   },
   "outputs": [],
   "source": [
    "def backward_prop(x, y, parameters, forward_cache):\n",
    "    \n",
    "    m = x.shape[1]\n",
    "    \n",
    "    # Fetching our parameters\n",
    "    w1 = parameters['w1']\n",
    "    b1 = parameters['b1']\n",
    "    w2 = parameters['w2']\n",
    "    b2 = parameters['b2'] \n",
    "    \n",
    "    # Fetching our forward_cache\n",
    "    a1 = forward_cache['a1']\n",
    "    a2 = forward_cache['a2']\n",
    "    \n",
    "    \n",
    "    ## Complete the Code below ##\n",
    "    dz2 = a2-y\n",
    "    dw2 = (1/m)*(np.dot(dz2,a1.T))\n",
    "    db2 = (1/m)*np.sum(dz2,axis = 1, keepdims = True)\n",
    "    \n",
    "    dz1 = (1/m)*(np.dot(w2.T, dz2))*derivative_tanh(a1)\n",
    "    dw1 = (1/m)*np.dot(dz1,x.T)\n",
    "    db1 = (1/m)*np.sum(dz1, axis=1, keepdims = True)\n",
    "    ## Your Code ends ##\n",
    "    \n",
    "    ## Returning the Gradients\n",
    "    gradients = {\n",
    "        \"dw1\" : dw1,\n",
    "        \"db1\" : db1,\n",
    "        \"dw2\" : dw2, \n",
    "        \"db2\" : db2\n",
    "    }\n",
    "    \n",
    "    return gradients"
   ]
  },
  {
   "cell_type": "markdown",
   "id": "3fbc740f",
   "metadata": {
    "papermill": {
     "duration": 0.00432,
     "end_time": "2025-02-23T21:59:03.074254",
     "exception": false,
     "start_time": "2025-02-23T21:59:03.069934",
     "status": "completed"
    },
    "tags": []
   },
   "source": [
    "# Update Parameters"
   ]
  },
  {
   "cell_type": "code",
   "execution_count": 14,
   "id": "13b445d8",
   "metadata": {
    "execution": {
     "iopub.execute_input": "2025-02-23T21:59:03.084703Z",
     "iopub.status.busy": "2025-02-23T21:59:03.084377Z",
     "iopub.status.idle": "2025-02-23T21:59:03.090432Z",
     "shell.execute_reply": "2025-02-23T21:59:03.089035Z"
    },
    "papermill": {
     "duration": 0.013661,
     "end_time": "2025-02-23T21:59:03.092421",
     "exception": false,
     "start_time": "2025-02-23T21:59:03.078760",
     "status": "completed"
    },
    "tags": []
   },
   "outputs": [],
   "source": [
    "def update_parameters(parameters, gradients, learning_rate):\n",
    "    \n",
    "    # Fetching our parameters\n",
    "    w1 = parameters['w1']\n",
    "    b1 = parameters['b1']\n",
    "    w2 = parameters['w2']\n",
    "    b2 = parameters['b2'] \n",
    "    \n",
    "    # Fetching our gradients\n",
    "    dw1 = gradients['dw1']\n",
    "    db1 = gradients['db1']\n",
    "    dw2 = gradients['dw2']\n",
    "    db2 = gradients['db2']\n",
    "    \n",
    "    ## Complete the Code below ##\n",
    "    w1 = w1-(learning_rate*dw1)\n",
    "    b1 = b1-(learning_rate*db1)\n",
    "    w2 = w2-(learning_rate*dw2)\n",
    "    b2 = b2-(learning_rate*db2)\n",
    "    ## Your code ends ##\n",
    "    \n",
    "    # Returning the updated parameters\n",
    "    Parameters = {\n",
    "        \"w1\" : w1, \n",
    "        \"b1\" : b1, \n",
    "        \"w2\" : w2,\n",
    "        \"b2\" : b2\n",
    "    }\n",
    "    \n",
    "    return Parameters"
   ]
  },
  {
   "cell_type": "markdown",
   "id": "d8cab4f2",
   "metadata": {
    "papermill": {
     "duration": 0.004578,
     "end_time": "2025-02-23T21:59:03.102521",
     "exception": false,
     "start_time": "2025-02-23T21:59:03.097943",
     "status": "completed"
    },
    "tags": []
   },
   "source": [
    "# Complete Model\n",
    "\n",
    "Implement the entire Neural Network here\n",
    "\n",
    "### Instructions :\n",
    "\n",
    "We need to initialize parameters once, and after that, we will run the following in a loop:\n",
    "- forward_prop(x, parameters)\n",
    "- cost_function(a2, y)\n",
    "- backward_prop(x, y, parameters, forward_cache)\n",
    "- parameters = update_parameters(parameters, gradients, learning_rate)\n",
    "\n",
    "### Return :\n",
    "- parameters, which will be our trained parameters\n",
    "- cost_list, which contains cost for every iterations."
   ]
  },
  {
   "cell_type": "code",
   "execution_count": 15,
   "id": "9f1d4517",
   "metadata": {
    "execution": {
     "iopub.execute_input": "2025-02-23T21:59:03.113046Z",
     "iopub.status.busy": "2025-02-23T21:59:03.112669Z",
     "iopub.status.idle": "2025-02-23T21:59:03.118501Z",
     "shell.execute_reply": "2025-02-23T21:59:03.117186Z"
    },
    "papermill": {
     "duration": 0.012961,
     "end_time": "2025-02-23T21:59:03.120099",
     "exception": false,
     "start_time": "2025-02-23T21:59:03.107138",
     "status": "completed"
    },
    "tags": []
   },
   "outputs": [],
   "source": [
    "def model(x, y, n_h, learning_rate, iterations):\n",
    "    \n",
    "    ## Complete the Code Below ##\n",
    "    n_x = x.shape[0]                       # must return the number of neurons/features in input layer\n",
    "    n_y = y.shape[0]                       # must return the number of neurons in output layer\n",
    "    ## Your Code ends ##\n",
    "    \n",
    "    cost_list = []\n",
    "    \n",
    "    ## Complete the Code Below ##\n",
    "    parameters = initialize_parameters(n_x,n_h,n_y)\n",
    "    ## Your Code ends ##\n",
    "    \n",
    "    ## Complete the Code Below ##\n",
    "    for i in range(iterations):\n",
    "        \n",
    "        # Forward Propagation\n",
    "        forward_cache = forward_prop(x,parameters)\n",
    "        # Cost Function\n",
    "        cost = cost_function(forward_cache['a2'],y)\n",
    "        # Backward propagation\n",
    "        gradients = backward_prop(x, y, parameters, forward_cache)\n",
    "        # Update Parameters\n",
    "        parameters = update_parameters(parameters, gradients, learning_rate)\n",
    "        cost_list.append(cost)\n",
    "        \n",
    "        if (i%(iterations/10) == 0):\n",
    "            print(\"cost after\", i, \"iters is\" ,     cost   )\n",
    "            \n",
    "            \n",
    "    ## Your Code ends ##\n",
    "    \n",
    "    \n",
    "    return parameters, cost_list"
   ]
  },
  {
   "cell_type": "code",
   "execution_count": 16,
   "id": "4696e476",
   "metadata": {
    "execution": {
     "iopub.execute_input": "2025-02-23T21:59:03.131206Z",
     "iopub.status.busy": "2025-02-23T21:59:03.130909Z",
     "iopub.status.idle": "2025-02-23T21:59:11.589702Z",
     "shell.execute_reply": "2025-02-23T21:59:11.588874Z"
    },
    "papermill": {
     "duration": 8.466082,
     "end_time": "2025-02-23T21:59:11.591530",
     "exception": false,
     "start_time": "2025-02-23T21:59:03.125448",
     "status": "completed"
    },
    "tags": []
   },
   "outputs": [
    {
     "name": "stdout",
     "output_type": "stream",
     "text": [
      "cost after 0 iters is 2.3088771000554598\n",
      "cost after 10 iters is 2.2986189600602986\n",
      "cost after 20 iters is 2.2984947756862786\n",
      "cost after 30 iters is 2.298492932635821\n",
      "cost after 40 iters is 2.2984929036741253\n",
      "cost after 50 iters is 2.2984929032076593\n",
      "cost after 60 iters is 2.2984929032000396\n",
      "cost after 70 iters is 2.2984929031999135\n",
      "cost after 80 iters is 2.2984929031999117\n",
      "cost after 90 iters is 2.2984929031999117\n"
     ]
    }
   ],
   "source": [
    "# Complete the Code Below ##\n",
    "\n",
    "n_h = 1000\n",
    "learning_rate = 0.002\n",
    "iterations = 100\n",
    "\n",
    "# Your Code ends ##\n",
    "\n",
    "Parameters, Cost_list = model(X_train, Y_train, n_h = n_h, learning_rate = learning_rate, iterations = iterations)"
   ]
  },
  {
   "cell_type": "code",
   "execution_count": 17,
   "id": "c78e80bc",
   "metadata": {
    "execution": {
     "iopub.execute_input": "2025-02-23T21:59:11.603953Z",
     "iopub.status.busy": "2025-02-23T21:59:11.603485Z",
     "iopub.status.idle": "2025-02-23T21:59:11.720267Z",
     "shell.execute_reply": "2025-02-23T21:59:11.719207Z"
    },
    "papermill": {
     "duration": 0.124706,
     "end_time": "2025-02-23T21:59:11.722137",
     "exception": false,
     "start_time": "2025-02-23T21:59:11.597431",
     "status": "completed"
    },
    "tags": []
   },
   "outputs": [
    {
     "data": {
      "image/png": "[encoded data removed]",
      "text/plain": [
       "<Figure size 640x480 with 1 Axes>"
      ]
     },
     "metadata": {},
     "output_type": "display_data"
    }
   ],
   "source": [
    "t = np.arange(0, iterations)\n",
    "plt.plot(t, Cost_list)\n",
    "plt.show()"
   ]
  },
  {
   "cell_type": "markdown",
   "id": "6c011da0",
   "metadata": {
    "papermill": {
     "duration": 0.005186,
     "end_time": "2025-02-23T21:59:11.733231",
     "exception": false,
     "start_time": "2025-02-23T21:59:11.728045",
     "status": "completed"
    },
    "tags": []
   },
   "source": [
    "# Checking Accuracy\n",
    "\n",
    "Run the below cells to check your model Accuracy "
   ]
  },
  {
   "cell_type": "code",
   "execution_count": 18,
   "id": "2123e387",
   "metadata": {
    "execution": {
     "iopub.execute_input": "2025-02-23T21:59:11.744643Z",
     "iopub.status.busy": "2025-02-23T21:59:11.744349Z",
     "iopub.status.idle": "2025-02-23T21:59:11.748362Z",
     "shell.execute_reply": "2025-02-23T21:59:11.747538Z"
    },
    "papermill": {
     "duration": 0.011301,
     "end_time": "2025-02-23T21:59:11.749655",
     "exception": false,
     "start_time": "2025-02-23T21:59:11.738354",
     "status": "completed"
    },
    "tags": []
   },
   "outputs": [],
   "source": [
    "def accuracy(inp, labels, parameters):\n",
    "    forward_cache = forward_prop(inp, parameters)\n",
    "    a_out = forward_cache['a2']   # containes propabilities with shape(10, 1)\n",
    "    \n",
    "    a_out = np.argmax(a_out, 0)  # 0 represents row wise \n",
    "    \n",
    "    labels = np.argmax(labels, 0)\n",
    "    \n",
    "    acc = np.mean(a_out == labels)*100\n",
    "    \n",
    "    return acc"
   ]
  },
  {
   "cell_type": "code",
   "execution_count": 19,
   "id": "cc1f4eac",
   "metadata": {
    "execution": {
     "iopub.execute_input": "2025-02-23T21:59:11.762597Z",
     "iopub.status.busy": "2025-02-23T21:59:11.762212Z",
     "iopub.status.idle": "2025-02-23T21:59:11.816462Z",
     "shell.execute_reply": "2025-02-23T21:59:11.815655Z"
    },
    "papermill": {
     "duration": 0.061671,
     "end_time": "2025-02-23T21:59:11.817583",
     "exception": false,
     "start_time": "2025-02-23T21:59:11.755912",
     "status": "completed"
    },
    "tags": []
   },
   "outputs": [
    {
     "name": "stdout",
     "output_type": "stream",
     "text": [
      "Accuracy of Train Dataset 11.799999999999999 %\n",
      "Accuracy of Test Dataset 12.57 %\n"
     ]
    }
   ],
   "source": [
    "print(\"Accuracy of Train Dataset\", accuracy(X_train, Y_train, Parameters), \"%\")\n",
    "print(\"Accuracy of Test Dataset\", round(accuracy(X_test, Y_test, Parameters), 2), \"%\")"
   ]
  },
  {
   "cell_type": "code",
   "execution_count": 20,
   "id": "fa28f379",
   "metadata": {
    "execution": {
     "iopub.execute_input": "2025-02-23T21:59:11.830085Z",
     "iopub.status.busy": "2025-02-23T21:59:11.829704Z",
     "iopub.status.idle": "2025-02-23T21:59:11.997310Z",
     "shell.execute_reply": "2025-02-23T21:59:11.996327Z"
    },
    "papermill": {
     "duration": 0.175204,
     "end_time": "2025-02-23T21:59:11.998680",
     "exception": false,
     "start_time": "2025-02-23T21:59:11.823476",
     "status": "completed"
    },
    "tags": []
   },
   "outputs": [
    {
     "data": {
      "image/png": "[encoded data removed]",
      "text/plain": [
       "<Figure size 640x480 with 1 Axes>"
      ]
     },
     "metadata": {},
     "output_type": "display_data"
    },
    {
     "name": "stdout",
     "output_type": "stream",
     "text": [
      "Our model says it is : 1\n"
     ]
    }
   ],
   "source": [
    "idx = int(random.randrange(0,X_test.shape[1]))\n",
    "plt.imshow(X_test[:, idx].reshape((28,28)),cmap='gray')\n",
    "plt.show()\n",
    "\n",
    "cache = forward_prop(X_test[:, idx].reshape(X_test[:, idx].shape[0], 1), Parameters)\n",
    "a_pred = cache['a2']  \n",
    "a_pred = np.argmax(a_pred, 0)\n",
    "\n",
    "print(\"Our model says it is :\", a_pred[0])"
   ]
  },
  {
   "cell_type": "code",
   "execution_count": null,
   "id": "6442a2dc",
   "metadata": {
    "papermill": {
     "duration": 0.005272,
     "end_time": "2025-02-23T21:59:12.009791",
     "exception": false,
     "start_time": "2025-02-23T21:59:12.004519",
     "status": "completed"
    },
    "tags": []
   },
   "outputs": [],
   "source": []
  }
 ],
 "metadata": {
  "kaggle": {
   "accelerator": "none",
   "dataSources": [
    {
     "datasetId": 6702547,
     "sourceId": 10799257,
     "sourceType": "datasetVersion"
    }
   ],
   "dockerImageVersionId": 30886,
   "isGpuEnabled": false,
   "isInternetEnabled": false,
   "language": "python",
   "sourceType": "notebook"
  },
  "kernelspec": {
   "display_name": "Python 3",
   "language": "python",
   "name": "python3"
  },
  "language_info": {
   "codemirror_mode": {
    "name": "ipython",
    "version": 3
   },
   "file_extension": ".py",
   "mimetype": "text/x-python",
   "name": "python",
   "nbconvert_exporter": "python",
   "pygments_lexer": "ipython3",
   "version": "3.10.12"
  },
  "papermill": {
   "default_parameters": {},
   "duration": 12.662911,
   "end_time": "2025-02-23T21:59:12.536603",
   "environment_variables": {},
   "exception": null,
   "input_path": "__notebook__.ipynb",
   "output_path": "__notebook__.ipynb",
   "parameters": {},
   "start_time": "2025-02-23T21:58:59.873692",
   "version": "2.6.0"
  }
 },
 "nbformat": 4,
 "nbformat_minor": 5
}
