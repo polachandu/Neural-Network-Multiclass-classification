{
 "cells": [
  {
   "cell_type": "markdown",
   "id": "670c1ede",
   "metadata": {
    "papermill": {
     "duration": 0.006882,
     "end_time": "2025-02-21T02:17:04.146075",
     "exception": false,
     "start_time": "2025-02-21T02:17:04.139193",
     "status": "completed"
    },
    "tags": []
   },
   "source": [
    "#### Importing Libraries"
   ]
  },
  {
   "cell_type": "code",
   "execution_count": 1,
   "id": "a514f5d5",
   "metadata": {
    "execution": {
     "iopub.execute_input": "2025-02-21T02:17:04.160125Z",
     "iopub.status.busy": "2025-02-21T02:17:04.159743Z",
     "iopub.status.idle": "2025-02-21T02:17:04.165106Z",
     "shell.execute_reply": "2025-02-21T02:17:04.164150Z"
    },
    "papermill": {
     "duration": 0.014144,
     "end_time": "2025-02-21T02:17:04.166623",
     "exception": false,
     "start_time": "2025-02-21T02:17:04.152479",
     "status": "completed"
    },
    "tags": []
   },
   "outputs": [],
   "source": [
    "import numpy as np\n",
    "import matplotlib.pyplot as plt\n",
    "import random"
   ]
  },
  {
   "cell_type": "markdown",
   "id": "882bc1d8",
   "metadata": {
    "papermill": {
     "duration": 0.005873,
     "end_time": "2025-02-21T02:17:04.178795",
     "exception": false,
     "start_time": "2025-02-21T02:17:04.172922",
     "status": "completed"
    },
    "tags": []
   },
   "source": [
    "# Importing Datasets\n",
    "\n",
    "I have already imported the dataset. If you want to use a different dataset, then you can give its path down below.\n",
    "\n",
    "The shape of X should be (n, m),\n",
    "And that of Y should be (10, m)\n",
    "\n",
    "Here, \n",
    "- n = total number of features\n",
    "- m = total number of observations in our dataset\n",
    "- 10 = number of output classes"
   ]
  },
  {
   "cell_type": "code",
   "execution_count": 2,
   "id": "7b3b7e5f",
   "metadata": {
    "execution": {
     "iopub.execute_input": "2025-02-21T02:17:04.192118Z",
     "iopub.status.busy": "2025-02-21T02:17:04.191790Z",
     "iopub.status.idle": "2025-02-21T02:17:04.272554Z",
     "shell.execute_reply": "2025-02-21T02:17:04.271600Z"
    },
    "papermill": {
     "duration": 0.08948,
     "end_time": "2025-02-21T02:17:04.274289",
     "exception": false,
     "start_time": "2025-02-21T02:17:04.184809",
     "status": "completed"
    },
    "tags": []
   },
   "outputs": [],
   "source": [
    "X_train = np.loadtxt('/kaggle/input/handwrittendataset/train_X.csv', delimiter = ',')\n",
    "Y_train = np.loadtxt('/kaggle/input/handwrittendataset/train_label.csv', delimiter = ',')\n",
    "\n",
    "X_train = X_train.T\n",
    "Y_train = Y_train.T"
   ]
  },
  {
   "cell_type": "code",
   "execution_count": 3,
   "id": "8ad0bf93",
   "metadata": {
    "execution": {
     "iopub.execute_input": "2025-02-21T02:17:04.288008Z",
     "iopub.status.busy": "2025-02-21T02:17:04.287671Z",
     "iopub.status.idle": "2025-02-21T02:17:04.321167Z",
     "shell.execute_reply": "2025-02-21T02:17:04.320146Z"
    },
    "papermill": {
     "duration": 0.042323,
     "end_time": "2025-02-21T02:17:04.322907",
     "exception": false,
     "start_time": "2025-02-21T02:17:04.280584",
     "status": "completed"
    },
    "tags": []
   },
   "outputs": [],
   "source": [
    "X_test = np.loadtxt('/kaggle/input/handwrittendataset/test_X.csv', delimiter = ',')\n",
    "Y_test = np.loadtxt('/kaggle/input/handwrittendataset/test_label.csv', delimiter = ',')\n",
    "\n",
    "X_test = X_test.T\n",
    "Y_test = Y_test.T"
   ]
  },
  {
   "cell_type": "code",
   "execution_count": 4,
   "id": "2f753aa9",
   "metadata": {
    "execution": {
     "iopub.execute_input": "2025-02-21T02:17:04.336796Z",
     "iopub.status.busy": "2025-02-21T02:17:04.336389Z",
     "iopub.status.idle": "2025-02-21T02:17:04.343615Z",
     "shell.execute_reply": "2025-02-21T02:17:04.342568Z"
    },
    "papermill": {
     "duration": 0.015956,
     "end_time": "2025-02-21T02:17:04.345208",
     "exception": false,
     "start_time": "2025-02-21T02:17:04.329252",
     "status": "completed"
    },
    "tags": []
   },
   "outputs": [
    {
     "name": "stdout",
     "output_type": "stream",
     "text": [
      "shape of X_train :  (784, 1000)\n",
      "shape of Y_train :  (10, 1000)\n",
      "shape of X_test :  (784, 350)\n",
      "shape of Y_test :  (10, 350)\n"
     ]
    }
   ],
   "source": [
    "print(\"shape of X_train : \", X_train.shape)\n",
    "print(\"shape of Y_train : \", Y_train.shape)\n",
    "\n",
    "print(\"shape of X_test : \", X_test.shape)\n",
    "print(\"shape of Y_test : \", Y_test.shape)"
   ]
  },
  {
   "cell_type": "markdown",
   "id": "9f983a25",
   "metadata": {
    "papermill": {
     "duration": 0.005913,
     "end_time": "2025-02-21T02:17:04.357581",
     "exception": false,
     "start_time": "2025-02-21T02:17:04.351668",
     "status": "completed"
    },
    "tags": []
   },
   "source": [
    "### Visualizing our Dataset\n",
    "\n",
    "Our dataset is in the form of numbers. So, to visualize it properly, we will display it in the form of image"
   ]
  },
  {
   "cell_type": "code",
   "execution_count": 5,
   "id": "094482fe",
   "metadata": {
    "execution": {
     "iopub.execute_input": "2025-02-21T02:17:04.371449Z",
     "iopub.status.busy": "2025-02-21T02:17:04.371131Z",
     "iopub.status.idle": "2025-02-21T02:17:04.628079Z",
     "shell.execute_reply": "2025-02-21T02:17:04.627040Z"
    },
    "papermill": {
     "duration": 0.266028,
     "end_time": "2025-02-21T02:17:04.630014",
     "exception": false,
     "start_time": "2025-02-21T02:17:04.363986",
     "status": "completed"
    },
    "tags": []
   },
   "outputs": [
    {
     "data": {
      "image/png": "[encoded data removed]",
      "text/plain": [
       "<Figure size 640x480 with 1 Axes>"
      ]
     },
     "metadata": {},
     "output_type": "display_data"
    }
   ],
   "source": [
    "index = int(random.randrange(0,X_train.shape[1]))\n",
    "plt.imshow(X_train[:, index].reshape((28,28)),cmap='gray')\n",
    "plt.show()"
   ]
  },
  {
   "cell_type": "markdown",
   "id": "7599cebd",
   "metadata": {
    "papermill": {
     "duration": 0.006399,
     "end_time": "2025-02-21T02:17:04.643000",
     "exception": false,
     "start_time": "2025-02-21T02:17:04.636601",
     "status": "completed"
    },
    "tags": []
   },
   "source": [
    "# Model\n",
    "\n",
    "![nn](Images/nn.png)\n",
    "\n",
    "## Initialize parameters Randomly\n",
    "$ W_1 = np.random.randn(n_1, n_0) $\n",
    "\n",
    "$ b_1 = np.zeros((n_1, 1))$\n",
    "\n",
    "$ W_2 = np.random.randn(n_2, n_1) $\n",
    "\n",
    "$ b_2 = np.zeros((n_2, 1))$\n",
    "\n",
    "\n",
    "## *Repeat Below Steps for many times : *\n",
    "\n",
    "\n",
    "## Forward Propagation \n",
    "\n",
    "$ Z_1 = W_1 * X + B_1 $\n",
    "\n",
    "$ A_1 = f ( Z_1 ) $  \n",
    "\n",
    "$ Z_2 = W2 * A_1 + B_2 $\n",
    "\n",
    "$ A_2 = Softmax( Z_2 ) $\n",
    "\n",
    "## Softmax \n",
    "\n",
    "$ a_i = \\frac{e^{z_i}}{\\sum_{i=k}^ne^{z_k}}$\n",
    "\n",
    "\n",
    "## Cost Function \n",
    "\n",
    "$Loss = - \\sum_{i=k}^{n}[ y_k*log(a_k) ]$\n",
    "\n",
    "$Cost = - \\frac{1}{m}\\sum_{i=1}^{m}\\sum_{k=1}^{n}[ y_k*log(a_k) ]$\n",
    "\n",
    "\n",
    "\n",
    "## Backward Propagation\n",
    "$dZ_2 = ( A_2 - Y )$\n",
    "\n",
    "$ dW_2 = \\frac{1}{m}. dZ_2 . A_1^T$\n",
    "\n",
    "$ dB_2 = \\frac{1}{m}.sum(dZ_2, 1)$\n",
    "\n",
    "\n",
    "\n",
    "$dZ_1 = W_2^T . dZ_2 * f_1^|(Z_1) $\n",
    "\n",
    "$dW_1 = \\frac{1}{m}.dZ_1.X^T$\n",
    "\n",
    "$dB_1 = \\frac{1}{m}.sum(dZ_1, 1)$\n",
    "\n",
    "\n",
    "## Updating Parameters\n",
    "\n",
    "$ W_2 = W_2 -  \\alpha * \\frac{\\partial Cost }{\\partial W_2}$ \n",
    "\n",
    "$ B_2 = B_2 -  \\alpha * \\frac{\\partial Cost }{\\partial B_2}$ \n",
    "\n",
    "$ W_1 = W_1 -  \\alpha * \\frac{\\partial Cost }{\\partial W_1}$ \n",
    "\n",
    "$ B_1 = B_1 -  \\alpha * \\frac{\\partial Cost }{\\partial B_1}$ \n"
   ]
  },
  {
   "cell_type": "markdown",
   "id": "01a69ada",
   "metadata": {
    "papermill": {
     "duration": 0.006203,
     "end_time": "2025-02-21T02:17:04.656441",
     "exception": false,
     "start_time": "2025-02-21T02:17:04.650238",
     "status": "completed"
    },
    "tags": []
   },
   "source": [
    "# Activation Functions\n",
    "\n",
    "***Now, its your time to implement !***\n",
    "\n",
    "Complete the below functions for Activations."
   ]
  },
  {
   "cell_type": "code",
   "execution_count": 6,
   "id": "c48bdeb5",
   "metadata": {
    "execution": {
     "iopub.execute_input": "2025-02-21T02:17:04.670389Z",
     "iopub.status.busy": "2025-02-21T02:17:04.670067Z",
     "iopub.status.idle": "2025-02-21T02:17:04.674149Z",
     "shell.execute_reply": "2025-02-21T02:17:04.673158Z"
    },
    "papermill": {
     "duration": 0.012927,
     "end_time": "2025-02-21T02:17:04.675791",
     "exception": false,
     "start_time": "2025-02-21T02:17:04.662864",
     "status": "completed"
    },
    "tags": []
   },
   "outputs": [],
   "source": [
    "def tanh(x):\n",
    "    return np.tanh(x)"
   ]
  },
  {
   "cell_type": "code",
   "execution_count": 7,
   "id": "2dc71d21",
   "metadata": {
    "execution": {
     "iopub.execute_input": "2025-02-21T02:17:04.689665Z",
     "iopub.status.busy": "2025-02-21T02:17:04.689318Z",
     "iopub.status.idle": "2025-02-21T02:17:04.693414Z",
     "shell.execute_reply": "2025-02-21T02:17:04.692400Z"
    },
    "papermill": {
     "duration": 0.012903,
     "end_time": "2025-02-21T02:17:04.695094",
     "exception": false,
     "start_time": "2025-02-21T02:17:04.682191",
     "status": "completed"
    },
    "tags": []
   },
   "outputs": [],
   "source": [
    "def relu(x):\n",
    "    return np.maximum(x,0)"
   ]
  },
  {
   "cell_type": "code",
   "execution_count": 8,
   "id": "86ee49b5",
   "metadata": {
    "execution": {
     "iopub.execute_input": "2025-02-21T02:17:04.709800Z",
     "iopub.status.busy": "2025-02-21T02:17:04.709418Z",
     "iopub.status.idle": "2025-02-21T02:17:04.713517Z",
     "shell.execute_reply": "2025-02-21T02:17:04.712604Z"
    },
    "papermill": {
     "duration": 0.013237,
     "end_time": "2025-02-21T02:17:04.715108",
     "exception": false,
     "start_time": "2025-02-21T02:17:04.701871",
     "status": "completed"
    },
    "tags": []
   },
   "outputs": [],
   "source": [
    "def softmax(z):\n",
    "    expX = np.exp(x)\n",
    "    return expX/np.sum(expX)"
   ]
  },
  {
   "cell_type": "markdown",
   "id": "1b34d471",
   "metadata": {
    "papermill": {
     "duration": 0.006183,
     "end_time": "2025-02-21T02:17:04.727967",
     "exception": false,
     "start_time": "2025-02-21T02:17:04.721784",
     "status": "completed"
    },
    "tags": []
   },
   "source": [
    "The function *derivative_tanh* must return the derivative of tanh.\n",
    "The function *derivative_relu* must return the derivative of ReLU\n",
    "\n",
    "\n",
    "Also note, I made a small mistake in video. derivative of tanh is given by 1 - tanh^2(x).\n",
    "\n",
    "\n",
    "so, derivative_tanh(x):\n",
    "\n",
    "return 1 - np.power(np.tanh(x), 2)"
   ]
  },
  {
   "cell_type": "code",
   "execution_count": 9,
   "id": "00ac1cc3",
   "metadata": {
    "execution": {
     "iopub.execute_input": "2025-02-21T02:17:04.742038Z",
     "iopub.status.busy": "2025-02-21T02:17:04.741705Z",
     "iopub.status.idle": "2025-02-21T02:17:04.746319Z",
     "shell.execute_reply": "2025-02-21T02:17:04.745274Z"
    },
    "papermill": {
     "duration": 0.013627,
     "end_time": "2025-02-21T02:17:04.747877",
     "exception": false,
     "start_time": "2025-02-21T02:17:04.734250",
     "status": "completed"
    },
    "tags": []
   },
   "outputs": [],
   "source": [
    "def derivative_tanh(x):\n",
    "    return (1-np.power(np.tanh(x),2))\n",
    "\n",
    "def derivative_relu(x):\n",
    "    return np.array(x>0, dtype = np.float32)"
   ]
  },
  {
   "cell_type": "markdown",
   "id": "da5bf731",
   "metadata": {
    "papermill": {
     "duration": 0.005953,
     "end_time": "2025-02-21T02:17:04.760270",
     "exception": false,
     "start_time": "2025-02-21T02:17:04.754317",
     "status": "completed"
    },
    "tags": []
   },
   "source": [
    "# Initialize Parameters\n",
    "\n",
    "We need to initialize the **W** parameters randomly, and **B** with zeros\n",
    "\n",
    "- np.random.randn(a, b) return a numpy array of shape(a, b) with small random values\n",
    "- For making the values small, we multiply 0.01\n",
    "- np.zeros((a, b) return a numpy array of shape(a, b) with zeros \n",
    "\n",
    "### Why need small weights W?\n",
    "If we initialize weights will large values, then Z = W * X + B, will be large. For functions like tanh and sigmoid, the slope becomes very less for large Z value, thus learning can be very slow.\n",
    "\n",
    "#### Remember, we had an increase in the cost function at the beginning while training the model with ReLU activation function?\n",
    "It is because our weights were still very large and it was creating problem for training our model.\n",
    "\n",
    "Multiply weights with 0.001 instead of 0.01, and you will see that the graph becomes normal, with a smooth decrease in cost value.\n",
    "\n",
    "There are many weight initialization techniques available as well, to solve other such problems. We will learn those in the upcoming videos.\n",
    "\n",
    "Now, We need to return a dictionary containing all the parameters.\n",
    "\n",
    "More about np.random.randn here : https://numpy.org/doc/stable/reference/random/generated/numpy.random.randn.html"
   ]
  },
  {
   "cell_type": "code",
   "execution_count": 10,
   "id": "f86100cb",
   "metadata": {
    "execution": {
     "iopub.execute_input": "2025-02-21T02:17:04.773984Z",
     "iopub.status.busy": "2025-02-21T02:17:04.773587Z",
     "iopub.status.idle": "2025-02-21T02:17:04.778566Z",
     "shell.execute_reply": "2025-02-21T02:17:04.777732Z"
    },
    "papermill": {
     "duration": 0.01362,
     "end_time": "2025-02-21T02:17:04.780080",
     "exception": false,
     "start_time": "2025-02-21T02:17:04.766460",
     "status": "completed"
    },
    "tags": []
   },
   "outputs": [],
   "source": [
    "def initialize_parameters(n_x, n_h, n_y):\n",
    "    \n",
    "    ## Complete the code below ##\n",
    "    w1 = np.random.rand(n_h,n_x)*0.01\n",
    "    b1 = np.zeros(n_h,1)\n",
    "    w2 = np.random.rand(n_y,n_h)\n",
    "    b2 = np.zeros(n_y,1)\n",
    "    ## Your Code ends ##\n",
    "    \n",
    "    parameters = {\n",
    "        \"w1\" : w1, \n",
    "        \"b1\" : b1, \n",
    "        \"w2\" : w2,\n",
    "        \"b2\" : b2\n",
    "    }\n",
    "    \n",
    "    return parameters"
   ]
  },
  {
   "cell_type": "markdown",
   "id": "5d36ca9a",
   "metadata": {
    "papermill": {
     "duration": 0.006002,
     "end_time": "2025-02-21T02:17:04.792471",
     "exception": false,
     "start_time": "2025-02-21T02:17:04.786469",
     "status": "completed"
    },
    "tags": []
   },
   "source": [
    "# Forward Propagation\n",
    "\n",
    "We need to impletement the following equation for forward propagation :\n",
    "\n",
    "$ Z_1 = W_1 * X + B_1 $\n",
    "\n",
    "$ A_1 = f ( Z_1 ) $  \n",
    "\n",
    "$ Z_2 = W2 * A_1 + B_2 $\n",
    "\n",
    "$ A_2 = Softmax( Z_2 ) $\n",
    "\n",
    "For f(x), you can use either tanh or ReLU activation function. \n",
    "\n",
    "But also use the same for Backpropagation as well"
   ]
  },
  {
   "cell_type": "code",
   "execution_count": 11,
   "id": "d5eb1acb",
   "metadata": {
    "execution": {
     "iopub.execute_input": "2025-02-21T02:17:04.806368Z",
     "iopub.status.busy": "2025-02-21T02:17:04.806034Z",
     "iopub.status.idle": "2025-02-21T02:17:04.811200Z",
     "shell.execute_reply": "2025-02-21T02:17:04.810297Z"
    },
    "papermill": {
     "duration": 0.013729,
     "end_time": "2025-02-21T02:17:04.812585",
     "exception": false,
     "start_time": "2025-02-21T02:17:04.798856",
     "status": "completed"
    },
    "tags": []
   },
   "outputs": [],
   "source": [
    "def forward_prop(x, parameters):\n",
    "    \n",
    "    # To fetch the parameters\n",
    "    w1 = parameters['w1']\n",
    "    b1 = parameters['b1']\n",
    "    w2 = parameters['w2']\n",
    "    b2 = parameters['b2']\n",
    "    \n",
    "    ## Complete the Code below : ##\n",
    "    z1 = np.dot(w1,x) + b1\n",
    "    a1 = relu(z1)\n",
    "    z2 = np.dot(w2,a1) + b2\n",
    "    a2 = softmax(z2)\n",
    "    ## Your Code ends ##\n",
    "    \n",
    "    # To return our Zs and As\n",
    "    forward_cache = {\n",
    "        \"z1\" : z1,\n",
    "        \"a1\" : a1,\n",
    "        \"z2\" : z2,\n",
    "        \"a2\" : a2\n",
    "    }\n",
    "    \n",
    "    return forward_cache"
   ]
  },
  {
   "cell_type": "markdown",
   "id": "746430bf",
   "metadata": {
    "papermill": {
     "duration": 0.006543,
     "end_time": "2025-02-21T02:17:04.825625",
     "exception": false,
     "start_time": "2025-02-21T02:17:04.819082",
     "status": "completed"
    },
    "tags": []
   },
   "source": [
    "# Cost Function\n",
    "\n",
    "$Loss = - \\sum_{k=1}^{n}[ y_k*log(a_k) ]$ .. *for 1 observation*\n",
    "\n",
    "$Cost = - \\frac{1}{m}\\sum_{i=1}^{m}\\sum_{k=1}^{n}[ y_k*log(a_k) ]$  .. *for all m observations*\n",
    "\n",
    "You need to return the cost in the below function\n",
    "\n",
    "You can use np.sum()\n",
    "- np.sum(A, axis = 1, keepdims = True) return the column-wise sum for a matrix A\n",
    "- np.sum(A, axis = 0, keepdims = True) returns the row-wise sum for a matrix A\n",
    "- np.sum(A) returns the summation of all the elements of A\n",
    "\n",
    "*keepdims = True keeps the dimenstion in place. In certain cases, the returned sum can be of shape(m,) instead of shape(m, 1).\n",
    "So, keepdims = True forces it to return the sum in shape(m, 1) instead of shape(m,)*\n",
    "\n",
    "\n",
    "More about np.sum() here : https://numpy.org/doc/stable/reference/generated/numpy.sum.html"
   ]
  },
  {
   "cell_type": "code",
   "execution_count": 12,
   "id": "b730b8de",
   "metadata": {
    "execution": {
     "iopub.execute_input": "2025-02-21T02:17:04.839653Z",
     "iopub.status.busy": "2025-02-21T02:17:04.839298Z",
     "iopub.status.idle": "2025-02-21T02:17:04.843816Z",
     "shell.execute_reply": "2025-02-21T02:17:04.842858Z"
    },
    "papermill": {
     "duration": 0.013383,
     "end_time": "2025-02-21T02:17:04.845392",
     "exception": false,
     "start_time": "2025-02-21T02:17:04.832009",
     "status": "completed"
    },
    "tags": []
   },
   "outputs": [],
   "source": [
    "def cost_function(a2, y):\n",
    "    m = y.shape[1]\n",
    "    cost = -(1/m)*np.sum(y*np.log(a2))\n",
    "    return cost"
   ]
  },
  {
   "cell_type": "markdown",
   "id": "4a6d3d06",
   "metadata": {
    "papermill": {
     "duration": 0.006087,
     "end_time": "2025-02-21T02:17:04.858048",
     "exception": false,
     "start_time": "2025-02-21T02:17:04.851961",
     "status": "completed"
    },
    "tags": []
   },
   "source": [
    "# Backward Propagation\n",
    "\n",
    "We need to implement the below equations\n",
    "\n",
    "$dZ_2 = ( A_2 - Y )$\n",
    "\n",
    "$ dW_2 = \\frac{1}{m}. dZ_2 . A_2^T$\n",
    "\n",
    "$ dB_2 = \\frac{1}{m}.sum(dZ_2, 1)$\n",
    "\n",
    "\n",
    "\n",
    "$dZ_1 = W_2^T . dZ_2 * f_1^|(Z_1) $\n",
    "\n",
    "$dW_1 = \\frac{1}{m}.dZ_1.A_1^T$\n",
    "\n",
    "$dB_1 = \\frac{1}{m}.sum(dZ_1, 1)$\n",
    "\n",
    "Helper python functions :\n",
    "- A.T returns the transpose of matrix A\n",
    "- np.dot(A, B) returns the matrix multiplication of A and B\n",
    "- A*B returns the element wise multi-plication for A and B\n",
    "- np.sum(A, axis = 1, keepdims = True) return the column-wise sum for a matrix A\n",
    "- np.sum(A, axis = 0, keepdims = True) returns the row-wise sum for a matrix A"
   ]
  },
  {
   "cell_type": "code",
   "execution_count": 13,
   "id": "6a91c6a3",
   "metadata": {
    "execution": {
     "iopub.execute_input": "2025-02-21T02:17:04.872064Z",
     "iopub.status.busy": "2025-02-21T02:17:04.871716Z",
     "iopub.status.idle": "2025-02-21T02:17:04.878003Z",
     "shell.execute_reply": "2025-02-21T02:17:04.877099Z"
    },
    "papermill": {
     "duration": 0.015258,
     "end_time": "2025-02-21T02:17:04.879618",
     "exception": false,
     "start_time": "2025-02-21T02:17:04.864360",
     "status": "completed"
    },
    "tags": []
   },
   "outputs": [],
   "source": [
    "def backward_prop(x, y, parameters, forward_cache):\n",
    "    \n",
    "    m = x.shape[1]\n",
    "    \n",
    "    # Fetching our parameters\n",
    "    w1 = parameters['w1']\n",
    "    b1 = parameters['b1']\n",
    "    w2 = parameters['w2']\n",
    "    b2 = parameters['b2'] \n",
    "    \n",
    "    # Fetching our forward_cache\n",
    "    a1 = forward_cache['a1']\n",
    "    a2 = forward_cache['a2']\n",
    "    \n",
    "    \n",
    "    ## Complete the Code below ##\n",
    "    dz2 = a2-y\n",
    "    dw2 = 1/m*(np.dot(dz2,a2.T))\n",
    "    db2 = 1/m*np.sum(dz2,axis = 1, keepdims = True)\n",
    "    \n",
    "    dz1 = 1/m*np.dot(w2.T, dz2)*derivative_relu(a1)\n",
    "    dw1 = 1/m*np.dot(dz1,a1.T)\n",
    "    db1 = 1/m*np.sum(dz1, axis=1, keepdims = True)\n",
    "    ## Your Code ends ##\n",
    "    \n",
    "    ## Returning the Gradients\n",
    "    gradients = {\n",
    "        \"dw1\" : dw1,\n",
    "        \"db1\" : db1,\n",
    "        \"dw2\" : dw2, \n",
    "        \"db2\" : db2\n",
    "    }\n",
    "    \n",
    "    return gradients"
   ]
  },
  {
   "cell_type": "markdown",
   "id": "5ae2b7d7",
   "metadata": {
    "papermill": {
     "duration": 0.00598,
     "end_time": "2025-02-21T02:17:04.892105",
     "exception": false,
     "start_time": "2025-02-21T02:17:04.886125",
     "status": "completed"
    },
    "tags": []
   },
   "source": [
    "# Update Parameters"
   ]
  },
  {
   "cell_type": "code",
   "execution_count": 14,
   "id": "d26704c2",
   "metadata": {
    "execution": {
     "iopub.execute_input": "2025-02-21T02:17:04.905972Z",
     "iopub.status.busy": "2025-02-21T02:17:04.905582Z",
     "iopub.status.idle": "2025-02-21T02:17:04.910941Z",
     "shell.execute_reply": "2025-02-21T02:17:04.909998Z"
    },
    "papermill": {
     "duration": 0.014164,
     "end_time": "2025-02-21T02:17:04.912571",
     "exception": false,
     "start_time": "2025-02-21T02:17:04.898407",
     "status": "completed"
    },
    "tags": []
   },
   "outputs": [],
   "source": [
    "def update_parameters(parameters, gradients, learning_rate):\n",
    "    \n",
    "    # Fetching our parameters\n",
    "    w1 = parameters['w1']\n",
    "    b1 = parameters['b1']\n",
    "    w2 = parameters['w2']\n",
    "    b2 = parameters['b2'] \n",
    "    \n",
    "    # Fetching our gradients\n",
    "    dw1 = gradients['dw1']\n",
    "    db1 = gradients['db1']\n",
    "    dw2 = gradients['dw2']\n",
    "    db2 = gradients['db2']\n",
    "    \n",
    "    ## Complete the Code below ##\n",
    "    w1 = w1-learning_rate*dw1\n",
    "    b1 = b1-learning_rate*db1\n",
    "    w2 = w2-learning_rate*dw2\n",
    "    b2 = b2-learning_rate*db2\n",
    "    ## Your code ends ##\n",
    "    \n",
    "    # Returning the updated parameters\n",
    "    Parameters = {\n",
    "        \"w1\" : w1, \n",
    "        \"b1\" : b1, \n",
    "        \"w2\" : w2,\n",
    "        \"b2\" : b2\n",
    "    }\n",
    "    \n",
    "    return Parameters"
   ]
  },
  {
   "cell_type": "markdown",
   "id": "2f09b7ee",
   "metadata": {
    "papermill": {
     "duration": 0.006187,
     "end_time": "2025-02-21T02:17:04.925310",
     "exception": false,
     "start_time": "2025-02-21T02:17:04.919123",
     "status": "completed"
    },
    "tags": []
   },
   "source": [
    "# Complete Model\n",
    "\n",
    "Implement the entire Neural Network here\n",
    "\n",
    "### Instructions :\n",
    "\n",
    "We need to initialize parameters once, and after that, we will run the following in a loop:\n",
    "- forward_prop(x, parameters)\n",
    "- cost_function(a2, y)\n",
    "- backward_prop(x, y, parameters, forward_cache)\n",
    "- parameters = update_parameters(parameters, gradients, learning_rate)\n",
    "\n",
    "### Return :\n",
    "- parameters, which will be our trained parameters\n",
    "- cost_list, which contains cost for every iterations."
   ]
  },
  {
   "cell_type": "code",
   "execution_count": 15,
   "id": "1349fe2c",
   "metadata": {
    "execution": {
     "iopub.execute_input": "2025-02-21T02:17:04.939301Z",
     "iopub.status.busy": "2025-02-21T02:17:04.938991Z",
     "iopub.status.idle": "2025-02-21T02:17:04.943021Z",
     "shell.execute_reply": "2025-02-21T02:17:04.942154Z"
    },
    "papermill": {
     "duration": 0.012683,
     "end_time": "2025-02-21T02:17:04.944409",
     "exception": false,
     "start_time": "2025-02-21T02:17:04.931726",
     "status": "completed"
    },
    "tags": []
   },
   "outputs": [],
   "source": [
    "# def model(x, y, n_h, learning_rate, iterations):\n",
    "    \n",
    "#     ## Complete the Code Below ##\n",
    "#     n_x =                        # must return the number of neurons/features in input layer\n",
    "#     n_y =                        # must return the number of neurons in output layer\n",
    "#     ## Your Code ends ##\n",
    "    \n",
    "#     cost_list = []\n",
    "    \n",
    "#     ## Complete the Code Below ##\n",
    "#     parameters = \n",
    "#     ## Your Code ends ##\n",
    "    \n",
    "#     ## Complete the Code Below ##\n",
    "#     for i in range(          ):\n",
    "        \n",
    "#         # Forward Propagation\n",
    "     \n",
    "#         # Cost Function\n",
    "        \n",
    "#         # Backward propagation\n",
    "        \n",
    "#         # Update Parameters\n",
    "        \n",
    "#         cost_list.append(    )\n",
    "        \n",
    "#         if i%(iterations/10) == 0 :\n",
    "#             print(\"cost after\", i, \"iters is\" ,     cost   )\n",
    "            \n",
    "            \n",
    "#     ## Your Code ends ##\n",
    "    \n",
    "    \n",
    "#     return parameters, cost_list"
   ]
  },
  {
   "cell_type": "code",
   "execution_count": 16,
   "id": "e7d94a6e",
   "metadata": {
    "execution": {
     "iopub.execute_input": "2025-02-21T02:17:04.958520Z",
     "iopub.status.busy": "2025-02-21T02:17:04.958151Z",
     "iopub.status.idle": "2025-02-21T02:17:04.961817Z",
     "shell.execute_reply": "2025-02-21T02:17:04.960873Z"
    },
    "papermill": {
     "duration": 0.01255,
     "end_time": "2025-02-21T02:17:04.963414",
     "exception": false,
     "start_time": "2025-02-21T02:17:04.950864",
     "status": "completed"
    },
    "tags": []
   },
   "outputs": [],
   "source": [
    "## Complete the Code Below ##\n",
    "\n",
    "# n_h = \n",
    "# learning_rate = \n",
    "# iterations = \n",
    "\n",
    "## Your Code ends ##\n",
    "\n",
    "# Parameters, Cost_list = model(X, Y, n_h = n_h, learning_rate = learning_rate, iterations = iterations)"
   ]
  },
  {
   "cell_type": "code",
   "execution_count": 17,
   "id": "92a84d72",
   "metadata": {
    "execution": {
     "iopub.execute_input": "2025-02-21T02:17:04.977723Z",
     "iopub.status.busy": "2025-02-21T02:17:04.977348Z",
     "iopub.status.idle": "2025-02-21T02:17:04.980861Z",
     "shell.execute_reply": "2025-02-21T02:17:04.979950Z"
    },
    "papermill": {
     "duration": 0.012293,
     "end_time": "2025-02-21T02:17:04.982439",
     "exception": false,
     "start_time": "2025-02-21T02:17:04.970146",
     "status": "completed"
    },
    "tags": []
   },
   "outputs": [],
   "source": [
    "# t = np.arange(0, iterations+1)\n",
    "# plt.plot(t, Cost_list)\n",
    "# plt.show()"
   ]
  },
  {
   "cell_type": "markdown",
   "id": "d5a535cb",
   "metadata": {
    "papermill": {
     "duration": 0.006385,
     "end_time": "2025-02-21T02:17:04.995453",
     "exception": false,
     "start_time": "2025-02-21T02:17:04.989068",
     "status": "completed"
    },
    "tags": []
   },
   "source": [
    "# Checking Accuracy\n",
    "\n",
    "Run the below cells to check your model Accuracy "
   ]
  },
  {
   "cell_type": "code",
   "execution_count": 18,
   "id": "d52f8765",
   "metadata": {
    "execution": {
     "iopub.execute_input": "2025-02-21T02:17:05.010188Z",
     "iopub.status.busy": "2025-02-21T02:17:05.009862Z",
     "iopub.status.idle": "2025-02-21T02:17:05.013624Z",
     "shell.execute_reply": "2025-02-21T02:17:05.012750Z"
    },
    "papermill": {
     "duration": 0.012781,
     "end_time": "2025-02-21T02:17:05.015305",
     "exception": false,
     "start_time": "2025-02-21T02:17:05.002524",
     "status": "completed"
    },
    "tags": []
   },
   "outputs": [],
   "source": [
    "# def accuracy(inp, labels, parameters):\n",
    "#     forward_cache = forward_prop(inp, parameters)\n",
    "#     a_out = forward_cache['a2']   # containes propabilities with shape(10, 1)\n",
    "    \n",
    "#     a_out = np.argmax(a_out, 0)  # 0 represents row wise \n",
    "    \n",
    "#     labels = np.argmax(labels, 0)\n",
    "    \n",
    "#     acc = np.mean(a_out == labels)*100\n",
    "    \n",
    "#     return acc"
   ]
  },
  {
   "cell_type": "code",
   "execution_count": 19,
   "id": "37664197",
   "metadata": {
    "execution": {
     "iopub.execute_input": "2025-02-21T02:17:05.029750Z",
     "iopub.status.busy": "2025-02-21T02:17:05.029391Z",
     "iopub.status.idle": "2025-02-21T02:17:05.032818Z",
     "shell.execute_reply": "2025-02-21T02:17:05.031928Z"
    },
    "papermill": {
     "duration": 0.012393,
     "end_time": "2025-02-21T02:17:05.034315",
     "exception": false,
     "start_time": "2025-02-21T02:17:05.021922",
     "status": "completed"
    },
    "tags": []
   },
   "outputs": [],
   "source": [
    "# print(\"Accuracy of Train Dataset\", accuracy(X_train, Y_train, Parameters), \"%\")\n",
    "# print(\"Accuracy of Test Dataset\", round(accuracy(X_test, Y_test, Parameters), 2), \"%\")"
   ]
  },
  {
   "cell_type": "code",
   "execution_count": 20,
   "id": "c1f0d089",
   "metadata": {
    "execution": {
     "iopub.execute_input": "2025-02-21T02:17:05.048165Z",
     "iopub.status.busy": "2025-02-21T02:17:05.047808Z",
     "iopub.status.idle": "2025-02-21T02:17:05.051727Z",
     "shell.execute_reply": "2025-02-21T02:17:05.050775Z"
    },
    "papermill": {
     "duration": 0.012436,
     "end_time": "2025-02-21T02:17:05.053210",
     "exception": false,
     "start_time": "2025-02-21T02:17:05.040774",
     "status": "completed"
    },
    "tags": []
   },
   "outputs": [],
   "source": [
    "# idx = int(random.randrange(0,X_test.shape[1]))\n",
    "# plt.imshow(X_test[:, idx].reshape((28,28)),cmap='gray')\n",
    "# plt.show()\n",
    "\n",
    "# cache = forward_prop(X_test[:, idx].reshape(X_test[:, idx].shape[0], 1), Parameters)\n",
    "# a_pred = cache['a2']  \n",
    "# a_pred = np.argmax(a_pred, 0)\n",
    "\n",
    "# print(\"Our model says it is :\", a_pred[0])"
   ]
  },
  {
   "cell_type": "code",
   "execution_count": null,
   "id": "eb9d987a",
   "metadata": {
    "papermill": {
     "duration": 0.005943,
     "end_time": "2025-02-21T02:17:05.065605",
     "exception": false,
     "start_time": "2025-02-21T02:17:05.059662",
     "status": "completed"
    },
    "tags": []
   },
   "outputs": [],
   "source": []
  }
 ],
 "metadata": {
  "kaggle": {
   "accelerator": "none",
   "dataSources": [
    {
     "datasetId": 6702547,
     "sourceId": 10799257,
     "sourceType": "datasetVersion"
    }
   ],
   "dockerImageVersionId": 30886,
   "isGpuEnabled": false,
   "isInternetEnabled": false,
   "language": "python",
   "sourceType": "notebook"
  },
  "kernelspec": {
   "display_name": "Python 3",
   "language": "python",
   "name": "python3"
  },
  "language_info": {
   "codemirror_mode": {
    "name": "ipython",
    "version": 3
   },
   "file_extension": ".py",
   "mimetype": "text/x-python",
   "name": "python",
   "nbconvert_exporter": "python",
   "pygments_lexer": "ipython3",
   "version": "3.10.12"
  },
  "papermill": {
   "default_parameters": {},
   "duration": 4.149719,
   "end_time": "2025-02-21T02:17:05.490950",
   "environment_variables": {},
   "exception": null,
   "input_path": "__notebook__.ipynb",
   "output_path": "__notebook__.ipynb",
   "parameters": {},
   "start_time": "2025-02-21T02:17:01.341231",
   "version": "2.6.0"
  }
 },
 "nbformat": 4,
 "nbformat_minor": 5
}
