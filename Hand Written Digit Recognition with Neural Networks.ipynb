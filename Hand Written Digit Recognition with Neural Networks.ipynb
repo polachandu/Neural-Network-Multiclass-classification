{
 "cells": [
  {
   "cell_type": "markdown",
   "id": "6f211064",
   "metadata": {
    "papermill": {
     "duration": 0.007188,
     "end_time": "2025-02-24T01:59:36.044858",
     "exception": false,
     "start_time": "2025-02-24T01:59:36.037670",
     "status": "completed"
    },
    "tags": []
   },
   "source": [
    "#### Importing Libraries"
   ]
  },
  {
   "cell_type": "code",
   "execution_count": 1,
   "id": "c53c4533",
   "metadata": {
    "execution": {
     "iopub.execute_input": "2025-02-24T01:59:36.059382Z",
     "iopub.status.busy": "2025-02-24T01:59:36.058869Z",
     "iopub.status.idle": "2025-02-24T01:59:36.065051Z",
     "shell.execute_reply": "2025-02-24T01:59:36.063897Z"
    },
    "papermill": {
     "duration": 0.015614,
     "end_time": "2025-02-24T01:59:36.067014",
     "exception": false,
     "start_time": "2025-02-24T01:59:36.051400",
     "status": "completed"
    },
    "tags": []
   },
   "outputs": [],
   "source": [
    "import numpy as np\n",
    "import matplotlib.pyplot as plt\n",
    "import random"
   ]
  },
  {
   "cell_type": "markdown",
   "id": "540cc7cc",
   "metadata": {
    "papermill": {
     "duration": 0.005976,
     "end_time": "2025-02-24T01:59:36.079945",
     "exception": false,
     "start_time": "2025-02-24T01:59:36.073969",
     "status": "completed"
    },
    "tags": []
   },
   "source": [
    "# Importing Datasets\n",
    "\n",
    "I have already imported the dataset. If you want to use a different dataset, then you can give its path down below.\n",
    "\n",
    "The shape of X should be (n, m),\n",
    "And that of Y should be (10, m)\n",
    "\n",
    "Here, \n",
    "- n = total number of features\n",
    "- m = total number of observations in our dataset\n",
    "- 10 = number of output classes"
   ]
  },
  {
   "cell_type": "code",
   "execution_count": 2,
   "id": "ad88cda0",
   "metadata": {
    "execution": {
     "iopub.execute_input": "2025-02-24T01:59:36.093639Z",
     "iopub.status.busy": "2025-02-24T01:59:36.093160Z",
     "iopub.status.idle": "2025-02-24T01:59:36.195144Z",
     "shell.execute_reply": "2025-02-24T01:59:36.194103Z"
    },
    "papermill": {
     "duration": 0.110979,
     "end_time": "2025-02-24T01:59:36.196990",
     "exception": false,
     "start_time": "2025-02-24T01:59:36.086011",
     "status": "completed"
    },
    "tags": []
   },
   "outputs": [],
   "source": [
    "X_train = np.loadtxt('/kaggle/input/handwrittendataset/train_X.csv', delimiter = ',')\n",
    "Y_train = np.loadtxt('/kaggle/input/handwrittendataset/train_label.csv', delimiter = ',')\n",
    "\n",
    "X_train = X_train.T\n",
    "Y_train = Y_train.T"
   ]
  },
  {
   "cell_type": "code",
   "execution_count": 3,
   "id": "8b569638",
   "metadata": {
    "execution": {
     "iopub.execute_input": "2025-02-24T01:59:36.212073Z",
     "iopub.status.busy": "2025-02-24T01:59:36.211746Z",
     "iopub.status.idle": "2025-02-24T01:59:36.249864Z",
     "shell.execute_reply": "2025-02-24T01:59:36.248922Z"
    },
    "papermill": {
     "duration": 0.047317,
     "end_time": "2025-02-24T01:59:36.251660",
     "exception": false,
     "start_time": "2025-02-24T01:59:36.204343",
     "status": "completed"
    },
    "tags": []
   },
   "outputs": [],
   "source": [
    "X_test = np.loadtxt('/kaggle/input/handwrittendataset/test_X.csv', delimiter = ',')\n",
    "Y_test = np.loadtxt('/kaggle/input/handwrittendataset/test_label.csv', delimiter = ',')\n",
    "\n",
    "X_test = X_test.T\n",
    "Y_test = Y_test.T"
   ]
  },
  {
   "cell_type": "code",
   "execution_count": 4,
   "id": "89f151b0",
   "metadata": {
    "execution": {
     "iopub.execute_input": "2025-02-24T01:59:36.265533Z",
     "iopub.status.busy": "2025-02-24T01:59:36.265127Z",
     "iopub.status.idle": "2025-02-24T01:59:36.272563Z",
     "shell.execute_reply": "2025-02-24T01:59:36.271486Z"
    },
    "papermill": {
     "duration": 0.016659,
     "end_time": "2025-02-24T01:59:36.274685",
     "exception": false,
     "start_time": "2025-02-24T01:59:36.258026",
     "status": "completed"
    },
    "tags": []
   },
   "outputs": [
    {
     "name": "stdout",
     "output_type": "stream",
     "text": [
      "shape of X_train :  (784, 1000)\n",
      "shape of Y_train :  (10, 1000)\n",
      "shape of X_test :  (784, 350)\n",
      "shape of Y_test :  (10, 350)\n"
     ]
    }
   ],
   "source": [
    "print(\"shape of X_train : \", X_train.shape)\n",
    "print(\"shape of Y_train : \", Y_train.shape)\n",
    "\n",
    "print(\"shape of X_test : \", X_test.shape)\n",
    "print(\"shape of Y_test : \", Y_test.shape)"
   ]
  },
  {
   "cell_type": "markdown",
   "id": "085adf69",
   "metadata": {
    "papermill": {
     "duration": 0.006123,
     "end_time": "2025-02-24T01:59:36.287452",
     "exception": false,
     "start_time": "2025-02-24T01:59:36.281329",
     "status": "completed"
    },
    "tags": []
   },
   "source": [
    "### Visualizing our Dataset\n",
    "\n",
    "Our dataset is in the form of numbers. So, to visualize it properly, we will display it in the form of image"
   ]
  },
  {
   "cell_type": "code",
   "execution_count": 5,
   "id": "3552bb5c",
   "metadata": {
    "execution": {
     "iopub.execute_input": "2025-02-24T01:59:36.301483Z",
     "iopub.status.busy": "2025-02-24T01:59:36.301097Z",
     "iopub.status.idle": "2025-02-24T01:59:36.597026Z",
     "shell.execute_reply": "2025-02-24T01:59:36.595972Z"
    },
    "papermill": {
     "duration": 0.305105,
     "end_time": "2025-02-24T01:59:36.598871",
     "exception": false,
     "start_time": "2025-02-24T01:59:36.293766",
     "status": "completed"
    },
    "tags": []
   },
   "outputs": [
    {
     "data": {
      "image/png": "[encoded data removed]",
      "text/plain": [
       "<Figure size 640x480 with 1 Axes>"
      ]
     },
     "metadata": {},
     "output_type": "display_data"
    }
   ],
   "source": [
    "index = int(random.randrange(0,X_train.shape[1]))\n",
    "plt.imshow(X_train[:, index].reshape((28,28)),cmap='gray')\n",
    "plt.show()"
   ]
  },
  {
   "cell_type": "markdown",
   "id": "b6b3f569",
   "metadata": {
    "papermill": {
     "duration": 0.006412,
     "end_time": "2025-02-24T01:59:36.612010",
     "exception": false,
     "start_time": "2025-02-24T01:59:36.605598",
     "status": "completed"
    },
    "tags": []
   },
   "source": [
    "# Model\n",
    "\n",
    "![nn](Images/nn.png)\n",
    "\n",
    "## Initialize parameters Randomly\n",
    "$ W_1 = np.random.randn(n_1, n_0) $\n",
    "\n",
    "$ b_1 = np.zeros((n_1, 1))$\n",
    "\n",
    "$ W_2 = np.random.randn(n_2, n_1) $\n",
    "\n",
    "$ b_2 = np.zeros((n_2, 1))$\n",
    "\n",
    "\n",
    "## *Repeat Below Steps for many times : *\n",
    "\n",
    "\n",
    "## Forward Propagation \n",
    "\n",
    "$ Z_1 = W_1 * X + B_1 $\n",
    "\n",
    "$ A_1 = f ( Z_1 ) $  \n",
    "\n",
    "$ Z_2 = W2 * A_1 + B_2 $\n",
    "\n",
    "$ A_2 = Softmax( Z_2 ) $\n",
    "\n",
    "## Softmax \n",
    "\n",
    "$ a_i = \\frac{e^{z_i}}{\\sum_{i=k}^ne^{z_k}}$\n",
    "\n",
    "\n",
    "## Cost Function \n",
    "\n",
    "$Loss = - \\sum_{i=k}^{n}[ y_k*log(a_k) ]$\n",
    "\n",
    "$Cost = - \\frac{1}{m}\\sum_{i=1}^{m}\\sum_{k=1}^{n}[ y_k*log(a_k) ]$\n",
    "\n",
    "\n",
    "\n",
    "## Backward Propagation\n",
    "$dZ_2 = ( A_2 - Y )$\n",
    "\n",
    "$ dW_2 = \\frac{1}{m}. dZ_2 . A_1^T$\n",
    "\n",
    "$ dB_2 = \\frac{1}{m}.sum(dZ_2, 1)$\n",
    "\n",
    "\n",
    "\n",
    "$dZ_1 = W_2^T . dZ_2 * f_1^|(Z_1) $\n",
    "\n",
    "$dW_1 = \\frac{1}{m}.dZ_1.X^T$\n",
    "\n",
    "$dB_1 = \\frac{1}{m}.sum(dZ_1, 1)$\n",
    "\n",
    "\n",
    "## Updating Parameters\n",
    "\n",
    "$ W_2 = W_2 -  \\alpha * \\frac{\\partial Cost }{\\partial W_2}$ \n",
    "\n",
    "$ B_2 = B_2 -  \\alpha * \\frac{\\partial Cost }{\\partial B_2}$ \n",
    "\n",
    "$ W_1 = W_1 -  \\alpha * \\frac{\\partial Cost }{\\partial W_1}$ \n",
    "\n",
    "$ B_1 = B_1 -  \\alpha * \\frac{\\partial Cost }{\\partial B_1}$ \n"
   ]
  },
  {
   "cell_type": "markdown",
   "id": "1e290c0c",
   "metadata": {
    "papermill": {
     "duration": 0.006281,
     "end_time": "2025-02-24T01:59:36.625034",
     "exception": false,
     "start_time": "2025-02-24T01:59:36.618753",
     "status": "completed"
    },
    "tags": []
   },
   "source": [
    "# Activation Functions\n",
    "\n",
    "***Now, its your time to implement !***\n",
    "\n",
    "Complete the below functions for Activations."
   ]
  },
  {
   "cell_type": "code",
   "execution_count": 6,
   "id": "ef80b5a2",
   "metadata": {
    "execution": {
     "iopub.execute_input": "2025-02-24T01:59:36.639863Z",
     "iopub.status.busy": "2025-02-24T01:59:36.639531Z",
     "iopub.status.idle": "2025-02-24T01:59:36.644009Z",
     "shell.execute_reply": "2025-02-24T01:59:36.642858Z"
    },
    "papermill": {
     "duration": 0.014217,
     "end_time": "2025-02-24T01:59:36.645894",
     "exception": false,
     "start_time": "2025-02-24T01:59:36.631677",
     "status": "completed"
    },
    "tags": []
   },
   "outputs": [],
   "source": [
    "def tanh(x):\n",
    "    return np.tanh(x)"
   ]
  },
  {
   "cell_type": "code",
   "execution_count": 7,
   "id": "09bd6406",
   "metadata": {
    "execution": {
     "iopub.execute_input": "2025-02-24T01:59:36.660482Z",
     "iopub.status.busy": "2025-02-24T01:59:36.660093Z",
     "iopub.status.idle": "2025-02-24T01:59:36.664428Z",
     "shell.execute_reply": "2025-02-24T01:59:36.663346Z"
    },
    "papermill": {
     "duration": 0.013534,
     "end_time": "2025-02-24T01:59:36.666187",
     "exception": false,
     "start_time": "2025-02-24T01:59:36.652653",
     "status": "completed"
    },
    "tags": []
   },
   "outputs": [],
   "source": [
    "def relu(x):\n",
    "    return np.maximum(x,0)"
   ]
  },
  {
   "cell_type": "code",
   "execution_count": 8,
   "id": "5de193d2",
   "metadata": {
    "execution": {
     "iopub.execute_input": "2025-02-24T01:59:36.681107Z",
     "iopub.status.busy": "2025-02-24T01:59:36.680787Z",
     "iopub.status.idle": "2025-02-24T01:59:36.685373Z",
     "shell.execute_reply": "2025-02-24T01:59:36.684351Z"
    },
    "papermill": {
     "duration": 0.013842,
     "end_time": "2025-02-24T01:59:36.687155",
     "exception": false,
     "start_time": "2025-02-24T01:59:36.673313",
     "status": "completed"
    },
    "tags": []
   },
   "outputs": [],
   "source": [
    "def softmax(x):\n",
    "    expX = np.exp(x)\n",
    "    return expX/np.sum(expX, axis = 0)"
   ]
  },
  {
   "cell_type": "markdown",
   "id": "cae0deb3",
   "metadata": {
    "papermill": {
     "duration": 0.006279,
     "end_time": "2025-02-24T01:59:36.700897",
     "exception": false,
     "start_time": "2025-02-24T01:59:36.694618",
     "status": "completed"
    },
    "tags": []
   },
   "source": [
    "The function *derivative_tanh* must return the derivative of tanh.\n",
    "The function *derivative_relu* must return the derivative of ReLU\n",
    "\n",
    "\n",
    "Also note, I made a small mistake in video. derivative of tanh is given by 1 - tanh^2(x).\n",
    "\n",
    "\n",
    "so, derivative_tanh(x):\n",
    "\n",
    "return 1 - np.power(np.tanh(x), 2)"
   ]
  },
  {
   "cell_type": "code",
   "execution_count": 9,
   "id": "940e29b8",
   "metadata": {
    "execution": {
     "iopub.execute_input": "2025-02-24T01:59:36.715890Z",
     "iopub.status.busy": "2025-02-24T01:59:36.715551Z",
     "iopub.status.idle": "2025-02-24T01:59:36.720782Z",
     "shell.execute_reply": "2025-02-24T01:59:36.719740Z"
    },
    "papermill": {
     "duration": 0.0147,
     "end_time": "2025-02-24T01:59:36.722538",
     "exception": false,
     "start_time": "2025-02-24T01:59:36.707838",
     "status": "completed"
    },
    "tags": []
   },
   "outputs": [],
   "source": [
    "def derivative_tanh(x):\n",
    "    return (1 - np.tanh(x)**2)\n",
    "\n",
    "def derivative_relu(x):\n",
    "    x = np.nan_to_num(x, nan=0.0, posinf=1.0, neginf=-1.0)\n",
    "    return np.array(x>0, dtype = np.float32)"
   ]
  },
  {
   "cell_type": "markdown",
   "id": "3f118be2",
   "metadata": {
    "papermill": {
     "duration": 0.006214,
     "end_time": "2025-02-24T01:59:36.735893",
     "exception": false,
     "start_time": "2025-02-24T01:59:36.729679",
     "status": "completed"
    },
    "tags": []
   },
   "source": [
    "# Initialize Parameters\n",
    "\n",
    "We need to initialize the **W** parameters randomly, and **B** with zeros\n",
    "\n",
    "- np.random.randn(a, b) return a numpy array of shape(a, b) with small random values\n",
    "- For making the values small, we multiply 0.01\n",
    "- np.zeros((a, b) return a numpy array of shape(a, b) with zeros \n",
    "\n",
    "### Why need small weights W?\n",
    "If we initialize weights will large values, then Z = W * X + B, will be large. For functions like tanh and sigmoid, the slope becomes very less for large Z value, thus learning can be very slow.\n",
    "\n",
    "#### Remember, we had an increase in the cost function at the beginning while training the model with ReLU activation function?\n",
    "It is because our weights were still very large and it was creating problem for training our model.\n",
    "\n",
    "Multiply weights with 0.001 instead of 0.01, and you will see that the graph becomes normal, with a smooth decrease in cost value.\n",
    "\n",
    "There are many weight initialization techniques available as well, to solve other such problems. We will learn those in the upcoming videos.\n",
    "\n",
    "Now, We need to return a dictionary containing all the parameters.\n",
    "\n",
    "More about np.random.randn here : https://numpy.org/doc/stable/reference/random/generated/numpy.random.randn.html"
   ]
  },
  {
   "cell_type": "code",
   "execution_count": 10,
   "id": "106802e8",
   "metadata": {
    "execution": {
     "iopub.execute_input": "2025-02-24T01:59:36.751175Z",
     "iopub.status.busy": "2025-02-24T01:59:36.750802Z",
     "iopub.status.idle": "2025-02-24T01:59:36.756603Z",
     "shell.execute_reply": "2025-02-24T01:59:36.755495Z"
    },
    "papermill": {
     "duration": 0.015521,
     "end_time": "2025-02-24T01:59:36.758390",
     "exception": false,
     "start_time": "2025-02-24T01:59:36.742869",
     "status": "completed"
    },
    "tags": []
   },
   "outputs": [],
   "source": [
    "def initialize_parameters(n_x, n_h, n_y):\n",
    "    \n",
    "    ## Complete the code below ##\n",
    "    w1 = np.random.randn(n_h,n_x)*0.01\n",
    "    b1 = np.zeros((n_h,1))\n",
    "    \n",
    "    w2 = np.random.randn(n_y,n_h)*0.01\n",
    "    b2 = np.zeros((n_y,1))\n",
    "    ## Your Code ends ##\n",
    "    \n",
    "    parameters = {\n",
    "        \"w1\" : w1, \n",
    "        \"b1\" : b1, \n",
    "        \"w2\" : w2,\n",
    "        \"b2\" : b2\n",
    "    }\n",
    "    \n",
    "    return parameters"
   ]
  },
  {
   "cell_type": "markdown",
   "id": "5788eee8",
   "metadata": {
    "papermill": {
     "duration": 0.0069,
     "end_time": "2025-02-24T01:59:36.772560",
     "exception": false,
     "start_time": "2025-02-24T01:59:36.765660",
     "status": "completed"
    },
    "tags": []
   },
   "source": [
    "# Forward Propagation\n",
    "\n",
    "We need to impletement the following equation for forward propagation :\n",
    "\n",
    "$ Z_1 = W_1 * X + B_1 $\n",
    "\n",
    "$ A_1 = f ( Z_1 ) $  \n",
    "\n",
    "$ Z_2 = W2 * A_1 + B_2 $\n",
    "\n",
    "$ A_2 = Softmax( Z_2 ) $\n",
    "\n",
    "For f(x), you can use either tanh or ReLU activation function. \n",
    "\n",
    "But also use the same for Backpropagation as well"
   ]
  },
  {
   "cell_type": "code",
   "execution_count": 11,
   "id": "22ce7dda",
   "metadata": {
    "execution": {
     "iopub.execute_input": "2025-02-24T01:59:36.787630Z",
     "iopub.status.busy": "2025-02-24T01:59:36.787223Z",
     "iopub.status.idle": "2025-02-24T01:59:36.793126Z",
     "shell.execute_reply": "2025-02-24T01:59:36.792014Z"
    },
    "papermill": {
     "duration": 0.015953,
     "end_time": "2025-02-24T01:59:36.795341",
     "exception": false,
     "start_time": "2025-02-24T01:59:36.779388",
     "status": "completed"
    },
    "tags": []
   },
   "outputs": [],
   "source": [
    "def forward_prop(x, parameters):\n",
    "    \n",
    "    # To fetch the parameters\n",
    "    w1 = parameters['w1']\n",
    "    b1 = parameters['b1']\n",
    "    w2 = parameters['w2']\n",
    "    b2 = parameters['b2']\n",
    "    \n",
    "    ## Complete the Code below : ##\n",
    "    z1 = np.dot(w1,x) + b1\n",
    "    a1 = relu(z1)\n",
    "    z2 = np.dot(w2,a1) + b2\n",
    "    a2 = softmax(z2)\n",
    "    ## Your Code ends ##\n",
    "    \n",
    "    # To return our Zs and As\n",
    "    forward_cache = {\n",
    "        \"z1\" : z1,\n",
    "        \"a1\" : a1,\n",
    "        \"z2\" : z2,\n",
    "        \"a2\" : a2\n",
    "    }\n",
    "    \n",
    "    return forward_cache"
   ]
  },
  {
   "cell_type": "markdown",
   "id": "0e6ca22a",
   "metadata": {
    "papermill": {
     "duration": 0.007338,
     "end_time": "2025-02-24T01:59:36.809482",
     "exception": false,
     "start_time": "2025-02-24T01:59:36.802144",
     "status": "completed"
    },
    "tags": []
   },
   "source": [
    "# Cost Function\n",
    "\n",
    "$Loss = - \\sum_{k=1}^{n}[ y_k*log(a_k) ]$ .. *for 1 observation*\n",
    "\n",
    "$Cost = - \\frac{1}{m}\\sum_{i=1}^{m}\\sum_{k=1}^{n}[ y_k*log(a_k) ]$  .. *for all m observations*\n",
    "\n",
    "You need to return the cost in the below function\n",
    "\n",
    "You can use np.sum()\n",
    "- np.sum(A, axis = 1, keepdims = True) return the column-wise sum for a matrix A\n",
    "- np.sum(A, axis = 0, keepdims = True) returns the row-wise sum for a matrix A\n",
    "- np.sum(A) returns the summation of all the elements of A\n",
    "\n",
    "*keepdims = True keeps the dimenstion in place. In certain cases, the returned sum can be of shape(m,) instead of shape(m, 1).\n",
    "So, keepdims = True forces it to return the sum in shape(m, 1) instead of shape(m,)*\n",
    "\n",
    "\n",
    "More about np.sum() here : https://numpy.org/doc/stable/reference/generated/numpy.sum.html"
   ]
  },
  {
   "cell_type": "code",
   "execution_count": 12,
   "id": "218a1041",
   "metadata": {
    "execution": {
     "iopub.execute_input": "2025-02-24T01:59:36.824390Z",
     "iopub.status.busy": "2025-02-24T01:59:36.823921Z",
     "iopub.status.idle": "2025-02-24T01:59:36.829030Z",
     "shell.execute_reply": "2025-02-24T01:59:36.827882Z"
    },
    "papermill": {
     "duration": 0.014318,
     "end_time": "2025-02-24T01:59:36.830779",
     "exception": false,
     "start_time": "2025-02-24T01:59:36.816461",
     "status": "completed"
    },
    "tags": []
   },
   "outputs": [],
   "source": [
    "def cost_function(a2, y):\n",
    "    m = y.shape[1]\n",
    "    cost = -(1/m)*np.sum(y*np.log(a2))\n",
    "    return cost"
   ]
  },
  {
   "cell_type": "markdown",
   "id": "af2a8e70",
   "metadata": {
    "papermill": {
     "duration": 0.006207,
     "end_time": "2025-02-24T01:59:36.844148",
     "exception": false,
     "start_time": "2025-02-24T01:59:36.837941",
     "status": "completed"
    },
    "tags": []
   },
   "source": [
    "# Backward Propagation\n",
    "\n",
    "We need to implement the below equations\n",
    "\n",
    "$dZ_2 = ( A_2 - Y )$\n",
    "\n",
    "$ dW_2 = \\frac{1}{m}. dZ_2 . A_2^T$\n",
    "\n",
    "$ dB_2 = \\frac{1}{m}.sum(dZ_2, 1)$\n",
    "\n",
    "\n",
    "\n",
    "$dZ_1 = W_2^T . dZ_2 * f_1^|(Z_1) $\n",
    "\n",
    "$dW_1 = \\frac{1}{m}.dZ_1.A_1^T$\n",
    "\n",
    "$dB_1 = \\frac{1}{m}.sum(dZ_1, 1)$\n",
    "\n",
    "Helper python functions :\n",
    "- A.T returns the transpose of matrix A\n",
    "- np.dot(A, B) returns the matrix multiplication of A and B\n",
    "- A*B returns the element wise multi-plication for A and B\n",
    "- np.sum(A, axis = 1, keepdims = True) return the column-wise sum for a matrix A\n",
    "- np.sum(A, axis = 0, keepdims = True) returns the row-wise sum for a matrix A"
   ]
  },
  {
   "cell_type": "code",
   "execution_count": 13,
   "id": "1dd5f82a",
   "metadata": {
    "execution": {
     "iopub.execute_input": "2025-02-24T01:59:36.858412Z",
     "iopub.status.busy": "2025-02-24T01:59:36.857986Z",
     "iopub.status.idle": "2025-02-24T01:59:36.864514Z",
     "shell.execute_reply": "2025-02-24T01:59:36.863479Z"
    },
    "papermill": {
     "duration": 0.015539,
     "end_time": "2025-02-24T01:59:36.866161",
     "exception": false,
     "start_time": "2025-02-24T01:59:36.850622",
     "status": "completed"
    },
    "tags": []
   },
   "outputs": [],
   "source": [
    "def backward_prop(x, y, parameters, forward_cache):\n",
    "    \n",
    "    m = x.shape[1]\n",
    "    \n",
    "    # Fetching our parameters\n",
    "    w1 = parameters['w1']\n",
    "    b1 = parameters['b1']\n",
    "    w2 = parameters['w2']\n",
    "    b2 = parameters['b2'] \n",
    "    \n",
    "    # Fetching our forward_cache\n",
    "    a1 = forward_cache['a1']\n",
    "    a2 = forward_cache['a2']\n",
    "    \n",
    "    \n",
    "    ## Complete the Code below ##\n",
    "    dz2 = a2-y\n",
    "    dw2 = (1/m)*(np.dot(dz2,a1.T))\n",
    "    db2 = (1/m)*np.sum(dz2,axis = 1, keepdims = True)\n",
    "    \n",
    "    dz1 = (1/m)*(np.dot(w2.T, dz2))*derivative_relu(a1)\n",
    "    dw1 = (1/m)*np.dot(dz1,x.T)\n",
    "    db1 = (1/m)*np.sum(dz1, axis=1, keepdims = True)\n",
    "    ## Your Code ends ##\n",
    "    \n",
    "    ## Returning the Gradients\n",
    "    gradients = {\n",
    "        \"dw1\" : dw1,\n",
    "        \"db1\" : db1,\n",
    "        \"dw2\" : dw2, \n",
    "        \"db2\" : db2\n",
    "    }\n",
    "    \n",
    "    return gradients"
   ]
  },
  {
   "cell_type": "markdown",
   "id": "cea49600",
   "metadata": {
    "papermill": {
     "duration": 0.006465,
     "end_time": "2025-02-24T01:59:36.879809",
     "exception": false,
     "start_time": "2025-02-24T01:59:36.873344",
     "status": "completed"
    },
    "tags": []
   },
   "source": [
    "# Update Parameters"
   ]
  },
  {
   "cell_type": "code",
   "execution_count": 14,
   "id": "0099096d",
   "metadata": {
    "execution": {
     "iopub.execute_input": "2025-02-24T01:59:36.894141Z",
     "iopub.status.busy": "2025-02-24T01:59:36.893802Z",
     "iopub.status.idle": "2025-02-24T01:59:36.899811Z",
     "shell.execute_reply": "2025-02-24T01:59:36.898644Z"
    },
    "papermill": {
     "duration": 0.015276,
     "end_time": "2025-02-24T01:59:36.901649",
     "exception": false,
     "start_time": "2025-02-24T01:59:36.886373",
     "status": "completed"
    },
    "tags": []
   },
   "outputs": [],
   "source": [
    "def update_parameters(parameters, gradients, learning_rate):\n",
    "    \n",
    "    # Fetching our parameters\n",
    "    w1 = parameters['w1']\n",
    "    b1 = parameters['b1']\n",
    "    w2 = parameters['w2']\n",
    "    b2 = parameters['b2'] \n",
    "    \n",
    "    # Fetching our gradients\n",
    "    dw1 = gradients['dw1']\n",
    "    db1 = gradients['db1']\n",
    "    dw2 = gradients['dw2']\n",
    "    db2 = gradients['db2']\n",
    "    \n",
    "    ## Complete the Code below ##\n",
    "    w1 = w1-(learning_rate*dw1)\n",
    "    b1 = b1-(learning_rate*db1)\n",
    "    w2 = w2-(learning_rate*dw2)\n",
    "    b2 = b2-(learning_rate*db2)\n",
    "    ## Your code ends ##\n",
    "    \n",
    "    # Returning the updated parameters\n",
    "    Parameters = {\n",
    "        \"w1\" : w1, \n",
    "        \"b1\" : b1, \n",
    "        \"w2\" : w2,\n",
    "        \"b2\" : b2\n",
    "    }\n",
    "    \n",
    "    return Parameters"
   ]
  },
  {
   "cell_type": "markdown",
   "id": "45b0e3d0",
   "metadata": {
    "papermill": {
     "duration": 0.006196,
     "end_time": "2025-02-24T01:59:36.914577",
     "exception": false,
     "start_time": "2025-02-24T01:59:36.908381",
     "status": "completed"
    },
    "tags": []
   },
   "source": [
    "# Complete Model\n",
    "\n",
    "Implement the entire Neural Network here\n",
    "\n",
    "### Instructions :\n",
    "\n",
    "We need to initialize parameters once, and after that, we will run the following in a loop:\n",
    "- forward_prop(x, parameters)\n",
    "- cost_function(a2, y)\n",
    "- backward_prop(x, y, parameters, forward_cache)\n",
    "- parameters = update_parameters(parameters, gradients, learning_rate)\n",
    "\n",
    "### Return :\n",
    "- parameters, which will be our trained parameters\n",
    "- cost_list, which contains cost for every iterations."
   ]
  },
  {
   "cell_type": "code",
   "execution_count": 15,
   "id": "ff7a43af",
   "metadata": {
    "execution": {
     "iopub.execute_input": "2025-02-24T01:59:36.928516Z",
     "iopub.status.busy": "2025-02-24T01:59:36.928127Z",
     "iopub.status.idle": "2025-02-24T01:59:36.934426Z",
     "shell.execute_reply": "2025-02-24T01:59:36.933389Z"
    },
    "papermill": {
     "duration": 0.015203,
     "end_time": "2025-02-24T01:59:36.936110",
     "exception": false,
     "start_time": "2025-02-24T01:59:36.920907",
     "status": "completed"
    },
    "tags": []
   },
   "outputs": [],
   "source": [
    "def model(x, y, n_h, learning_rate, iterations):\n",
    "    \n",
    "    ## Complete the Code Below ##\n",
    "    n_x = x.shape[0]                       # must return the number of neurons/features in input layer\n",
    "    n_y = y.shape[0]                       # must return the number of neurons in output layer\n",
    "    ## Your Code ends ##\n",
    "    \n",
    "    cost_list = []\n",
    "    \n",
    "    ## Complete the Code Below ##\n",
    "    parameters = initialize_parameters(n_x,n_h,n_y)\n",
    "    ## Your Code ends ##\n",
    "    \n",
    "    ## Complete the Code Below ##\n",
    "    for i in range(iterations):\n",
    "        \n",
    "        # Forward Propagation\n",
    "        forward_cache = forward_prop(x,parameters)\n",
    "        # Cost Function\n",
    "        cost = cost_function(forward_cache['a2'],y)\n",
    "        # Backward propagation\n",
    "        gradients = backward_prop(x, y, parameters, forward_cache)\n",
    "        # Update Parameters\n",
    "        parameters = update_parameters(parameters, gradients, learning_rate)\n",
    "        cost_list.append(cost)\n",
    "        \n",
    "        if (i%(iterations/10) == 0):\n",
    "            print(\"cost after\", i, \"iters is\" ,     cost   )\n",
    "            \n",
    "            \n",
    "    ## Your Code ends ##\n",
    "    \n",
    "    \n",
    "    return parameters, cost_list"
   ]
  },
  {
   "cell_type": "code",
   "execution_count": 16,
   "id": "7d180ca4",
   "metadata": {
    "execution": {
     "iopub.execute_input": "2025-02-24T01:59:36.950646Z",
     "iopub.status.busy": "2025-02-24T01:59:36.950237Z",
     "iopub.status.idle": "2025-02-24T02:00:31.894511Z",
     "shell.execute_reply": "2025-02-24T02:00:31.893066Z"
    },
    "papermill": {
     "duration": 54.953924,
     "end_time": "2025-02-24T02:00:31.896786",
     "exception": false,
     "start_time": "2025-02-24T01:59:36.942862",
     "status": "completed"
    },
    "tags": []
   },
   "outputs": [
    {
     "name": "stdout",
     "output_type": "stream",
     "text": [
      "cost after 0 iters is 8.188754933640421\n",
      "cost after 60 iters is 0.12773884570791932\n",
      "cost after 120 iters is 0.006643990054038996\n",
      "cost after 180 iters is 0.00370557727693388\n",
      "cost after 240 iters is 0.0027003614143688666\n",
      "cost after 300 iters is 0.0021610639622301883\n",
      "cost after 360 iters is 0.0018170346583609453\n",
      "cost after 420 iters is 0.0015758400721878113\n",
      "cost after 480 iters is 0.001396258160364982\n",
      "cost after 540 iters is 0.0012568107714418587\n"
     ]
    }
   ],
   "source": [
    "# Complete the Code Below ##\n",
    "\n",
    "n_h = 1000\n",
    "learning_rate = 0.0025\n",
    "iterations = 600\n",
    "\n",
    "# Your Code ends ##\n",
    "\n",
    "Parameters, Cost_list = model(X_train, Y_train, n_h = n_h, learning_rate = learning_rate, iterations = iterations)"
   ]
  },
  {
   "cell_type": "code",
   "execution_count": 17,
   "id": "4cd59162",
   "metadata": {
    "execution": {
     "iopub.execute_input": "2025-02-24T02:00:31.915782Z",
     "iopub.status.busy": "2025-02-24T02:00:31.915323Z",
     "iopub.status.idle": "2025-02-24T02:00:32.080170Z",
     "shell.execute_reply": "2025-02-24T02:00:32.078984Z"
    },
    "papermill": {
     "duration": 0.176643,
     "end_time": "2025-02-24T02:00:32.082111",
     "exception": false,
     "start_time": "2025-02-24T02:00:31.905468",
     "status": "completed"
    },
    "tags": []
   },
   "outputs": [
    {
     "data": {
      "image/png": "[encoded data removed]",
      "text/plain": [
       "<Figure size 640x480 with 1 Axes>"
      ]
     },
     "metadata": {},
     "output_type": "display_data"
    }
   ],
   "source": [
    "t = np.arange(0, iterations)\n",
    "plt.plot(t, Cost_list)\n",
    "plt.show()"
   ]
  },
  {
   "cell_type": "markdown",
   "id": "b125b92e",
   "metadata": {
    "papermill": {
     "duration": 0.007923,
     "end_time": "2025-02-24T02:00:32.097636",
     "exception": false,
     "start_time": "2025-02-24T02:00:32.089713",
     "status": "completed"
    },
    "tags": []
   },
   "source": [
    "# Checking Accuracy\n",
    "\n",
    "Run the below cells to check your model Accuracy "
   ]
  },
  {
   "cell_type": "code",
   "execution_count": 18,
   "id": "6fac7d07",
   "metadata": {
    "execution": {
     "iopub.execute_input": "2025-02-24T02:00:32.114917Z",
     "iopub.status.busy": "2025-02-24T02:00:32.114545Z",
     "iopub.status.idle": "2025-02-24T02:00:32.119844Z",
     "shell.execute_reply": "2025-02-24T02:00:32.118678Z"
    },
    "papermill": {
     "duration": 0.015607,
     "end_time": "2025-02-24T02:00:32.121525",
     "exception": false,
     "start_time": "2025-02-24T02:00:32.105918",
     "status": "completed"
    },
    "tags": []
   },
   "outputs": [],
   "source": [
    "def accuracy(inp, labels, parameters):\n",
    "    forward_cache = forward_prop(inp, parameters)\n",
    "    a_out = forward_cache['a2']   # containes propabilities with shape(10, 1)\n",
    "    \n",
    "    a_out = np.argmax(a_out, 0)  # 0 represents row wise \n",
    "    \n",
    "    labels = np.argmax(labels, 0)\n",
    "    \n",
    "    acc = np.mean(a_out == labels)*100\n",
    "    \n",
    "    return acc"
   ]
  },
  {
   "cell_type": "code",
   "execution_count": 19,
   "id": "6feed6b0",
   "metadata": {
    "execution": {
     "iopub.execute_input": "2025-02-24T02:00:32.138673Z",
     "iopub.status.busy": "2025-02-24T02:00:32.138232Z",
     "iopub.status.idle": "2025-02-24T02:00:32.203951Z",
     "shell.execute_reply": "2025-02-24T02:00:32.202662Z"
    },
    "papermill": {
     "duration": 0.076501,
     "end_time": "2025-02-24T02:00:32.206012",
     "exception": false,
     "start_time": "2025-02-24T02:00:32.129511",
     "status": "completed"
    },
    "tags": []
   },
   "outputs": [
    {
     "name": "stdout",
     "output_type": "stream",
     "text": [
      "Accuracy of Train Dataset 100.0 %\n",
      "Accuracy of Test Dataset 86.86 %\n"
     ]
    }
   ],
   "source": [
    "print(\"Accuracy of Train Dataset\", accuracy(X_train, Y_train, Parameters), \"%\")\n",
    "print(\"Accuracy of Test Dataset\", round(accuracy(X_test, Y_test, Parameters), 2), \"%\")"
   ]
  },
  {
   "cell_type": "code",
   "execution_count": 20,
   "id": "7d4a13ea",
   "metadata": {
    "execution": {
     "iopub.execute_input": "2025-02-24T02:00:32.226568Z",
     "iopub.status.busy": "2025-02-24T02:00:32.226123Z",
     "iopub.status.idle": "2025-02-24T02:00:32.440868Z",
     "shell.execute_reply": "2025-02-24T02:00:32.439344Z"
    },
    "papermill": {
     "duration": 0.225213,
     "end_time": "2025-02-24T02:00:32.442881",
     "exception": false,
     "start_time": "2025-02-24T02:00:32.217668",
     "status": "completed"
    },
    "tags": []
   },
   "outputs": [
    {
     "data": {
      "image/png": "[encoded data removed]",
      "text/plain": [
       "<Figure size 640x480 with 1 Axes>"
      ]
     },
     "metadata": {},
     "output_type": "display_data"
    },
    {
     "name": "stdout",
     "output_type": "stream",
     "text": [
      "Our model says it is : 0\n"
     ]
    }
   ],
   "source": [
    "idx = int(random.randrange(0,X_test.shape[1]))\n",
    "plt.imshow(X_test[:, idx].reshape((28,28)),cmap='gray')\n",
    "plt.show()\n",
    "\n",
    "cache = forward_prop(X_test[:, idx].reshape(X_test[:, idx].shape[0], 1), Parameters)\n",
    "a_pred = cache['a2']  \n",
    "a_pred = np.argmax(a_pred, 0)\n",
    "\n",
    "print(\"Our model says it is :\", a_pred[0])"
   ]
  },
  {
   "cell_type": "code",
   "execution_count": null,
   "id": "bd689ba7",
   "metadata": {
    "papermill": {
     "duration": 0.007698,
     "end_time": "2025-02-24T02:00:32.460710",
     "exception": false,
     "start_time": "2025-02-24T02:00:32.453012",
     "status": "completed"
    },
    "tags": []
   },
   "outputs": [],
   "source": []
  }
 ],
 "metadata": {
  "kaggle": {
   "accelerator": "none",
   "dataSources": [
    {
     "datasetId": 6702547,
     "sourceId": 10799257,
     "sourceType": "datasetVersion"
    }
   ],
   "dockerImageVersionId": 30886,
   "isGpuEnabled": false,
   "isInternetEnabled": false,
   "language": "python",
   "sourceType": "notebook"
  },
  "kernelspec": {
   "display_name": "Python 3",
   "language": "python",
   "name": "python3"
  },
  "language_info": {
   "codemirror_mode": {
    "name": "ipython",
    "version": 3
   },
   "file_extension": ".py",
   "mimetype": "text/x-python",
   "name": "python",
   "nbconvert_exporter": "python",
   "pygments_lexer": "ipython3",
   "version": "3.10.12"
  },
  "papermill": {
   "default_parameters": {},
   "duration": 59.98774,
   "end_time": "2025-02-24T02:00:32.988586",
   "environment_variables": {},
   "exception": null,
   "input_path": "__notebook__.ipynb",
   "output_path": "__notebook__.ipynb",
   "parameters": {},
   "start_time": "2025-02-24T01:59:33.000846",
   "version": "2.6.0"
  }
 },
 "nbformat": 4,
 "nbformat_minor": 5
}
