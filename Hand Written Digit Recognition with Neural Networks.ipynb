{
 "cells": [
  {
   "cell_type": "markdown",
   "id": "505610a2",
   "metadata": {
    "papermill": {
     "duration": 0.007443,
     "end_time": "2025-02-23T06:23:41.237180",
     "exception": false,
     "start_time": "2025-02-23T06:23:41.229737",
     "status": "completed"
    },
    "tags": []
   },
   "source": [
    "#### Importing Libraries"
   ]
  },
  {
   "cell_type": "code",
   "execution_count": 1,
   "id": "b5001a1d",
   "metadata": {
    "execution": {
     "iopub.execute_input": "2025-02-23T06:23:41.251157Z",
     "iopub.status.busy": "2025-02-23T06:23:41.250735Z",
     "iopub.status.idle": "2025-02-23T06:23:41.257011Z",
     "shell.execute_reply": "2025-02-23T06:23:41.256036Z"
    },
    "papermill": {
     "duration": 0.015216,
     "end_time": "2025-02-23T06:23:41.258790",
     "exception": false,
     "start_time": "2025-02-23T06:23:41.243574",
     "status": "completed"
    },
    "tags": []
   },
   "outputs": [],
   "source": [
    "import numpy as np\n",
    "import matplotlib.pyplot as plt\n",
    "import random"
   ]
  },
  {
   "cell_type": "markdown",
   "id": "10714f18",
   "metadata": {
    "papermill": {
     "duration": 0.006261,
     "end_time": "2025-02-23T06:23:41.271578",
     "exception": false,
     "start_time": "2025-02-23T06:23:41.265317",
     "status": "completed"
    },
    "tags": []
   },
   "source": [
    "# Importing Datasets\n",
    "\n",
    "I have already imported the dataset. If you want to use a different dataset, then you can give its path down below.\n",
    "\n",
    "The shape of X should be (n, m),\n",
    "And that of Y should be (10, m)\n",
    "\n",
    "Here, \n",
    "- n = total number of features\n",
    "- m = total number of observations in our dataset\n",
    "- 10 = number of output classes"
   ]
  },
  {
   "cell_type": "code",
   "execution_count": 2,
   "id": "df212493",
   "metadata": {
    "execution": {
     "iopub.execute_input": "2025-02-23T06:23:41.286040Z",
     "iopub.status.busy": "2025-02-23T06:23:41.285557Z",
     "iopub.status.idle": "2025-02-23T06:23:41.363317Z",
     "shell.execute_reply": "2025-02-23T06:23:41.361972Z"
    },
    "papermill": {
     "duration": 0.087405,
     "end_time": "2025-02-23T06:23:41.365472",
     "exception": false,
     "start_time": "2025-02-23T06:23:41.278067",
     "status": "completed"
    },
    "tags": []
   },
   "outputs": [],
   "source": [
    "X_train = np.loadtxt('/kaggle/input/handwrittendataset/train_X.csv', delimiter = ',')\n",
    "Y_train = np.loadtxt('/kaggle/input/handwrittendataset/train_label.csv', delimiter = ',')\n",
    "\n",
    "X_train = X_train.T\n",
    "Y_train = Y_train.T"
   ]
  },
  {
   "cell_type": "code",
   "execution_count": 3,
   "id": "6fbeae5e",
   "metadata": {
    "execution": {
     "iopub.execute_input": "2025-02-23T06:23:41.379470Z",
     "iopub.status.busy": "2025-02-23T06:23:41.379142Z",
     "iopub.status.idle": "2025-02-23T06:23:41.413214Z",
     "shell.execute_reply": "2025-02-23T06:23:41.412028Z"
    },
    "papermill": {
     "duration": 0.04372,
     "end_time": "2025-02-23T06:23:41.415652",
     "exception": false,
     "start_time": "2025-02-23T06:23:41.371932",
     "status": "completed"
    },
    "tags": []
   },
   "outputs": [],
   "source": [
    "X_test = np.loadtxt('/kaggle/input/handwrittendataset/test_X.csv', delimiter = ',')\n",
    "Y_test = np.loadtxt('/kaggle/input/handwrittendataset/test_label.csv', delimiter = ',')\n",
    "\n",
    "X_test = X_test.T\n",
    "Y_test = Y_test.T"
   ]
  },
  {
   "cell_type": "code",
   "execution_count": 4,
   "id": "17b49ff1",
   "metadata": {
    "execution": {
     "iopub.execute_input": "2025-02-23T06:23:41.429762Z",
     "iopub.status.busy": "2025-02-23T06:23:41.429436Z",
     "iopub.status.idle": "2025-02-23T06:23:41.436159Z",
     "shell.execute_reply": "2025-02-23T06:23:41.434999Z"
    },
    "papermill": {
     "duration": 0.015756,
     "end_time": "2025-02-23T06:23:41.437957",
     "exception": false,
     "start_time": "2025-02-23T06:23:41.422201",
     "status": "completed"
    },
    "tags": []
   },
   "outputs": [
    {
     "name": "stdout",
     "output_type": "stream",
     "text": [
      "shape of X_train :  (784, 1000)\n",
      "shape of Y_train :  (10, 1000)\n",
      "shape of X_test :  (784, 350)\n",
      "shape of Y_test :  (10, 350)\n"
     ]
    }
   ],
   "source": [
    "print(\"shape of X_train : \", X_train.shape)\n",
    "print(\"shape of Y_train : \", Y_train.shape)\n",
    "\n",
    "print(\"shape of X_test : \", X_test.shape)\n",
    "print(\"shape of Y_test : \", Y_test.shape)"
   ]
  },
  {
   "cell_type": "markdown",
   "id": "c459cdc2",
   "metadata": {
    "papermill": {
     "duration": 0.006066,
     "end_time": "2025-02-23T06:23:41.451606",
     "exception": false,
     "start_time": "2025-02-23T06:23:41.445540",
     "status": "completed"
    },
    "tags": []
   },
   "source": [
    "### Visualizing our Dataset\n",
    "\n",
    "Our dataset is in the form of numbers. So, to visualize it properly, we will display it in the form of image"
   ]
  },
  {
   "cell_type": "code",
   "execution_count": 5,
   "id": "818211c8",
   "metadata": {
    "execution": {
     "iopub.execute_input": "2025-02-23T06:23:41.465897Z",
     "iopub.status.busy": "2025-02-23T06:23:41.465390Z",
     "iopub.status.idle": "2025-02-23T06:23:41.768326Z",
     "shell.execute_reply": "2025-02-23T06:23:41.767014Z"
    },
    "papermill": {
     "duration": 0.312312,
     "end_time": "2025-02-23T06:23:41.770193",
     "exception": false,
     "start_time": "2025-02-23T06:23:41.457881",
     "status": "completed"
    },
    "tags": []
   },
   "outputs": [
    {
     "data": {
      "image/png": "[encoded data removed]",
      "text/plain": [
       "<Figure size 640x480 with 1 Axes>"
      ]
     },
     "metadata": {},
     "output_type": "display_data"
    }
   ],
   "source": [
    "index = int(random.randrange(0,X_train.shape[1]))\n",
    "plt.imshow(X_train[:, index].reshape((28,28)),cmap='gray')\n",
    "plt.show()"
   ]
  },
  {
   "cell_type": "markdown",
   "id": "f0ac2fb5",
   "metadata": {
    "papermill": {
     "duration": 0.006387,
     "end_time": "2025-02-23T06:23:41.783692",
     "exception": false,
     "start_time": "2025-02-23T06:23:41.777305",
     "status": "completed"
    },
    "tags": []
   },
   "source": [
    "# Model\n",
    "\n",
    "![nn](Images/nn.png)\n",
    "\n",
    "## Initialize parameters Randomly\n",
    "$ W_1 = np.random.randn(n_1, n_0) $\n",
    "\n",
    "$ b_1 = np.zeros((n_1, 1))$\n",
    "\n",
    "$ W_2 = np.random.randn(n_2, n_1) $\n",
    "\n",
    "$ b_2 = np.zeros((n_2, 1))$\n",
    "\n",
    "\n",
    "## *Repeat Below Steps for many times : *\n",
    "\n",
    "\n",
    "## Forward Propagation \n",
    "\n",
    "$ Z_1 = W_1 * X + B_1 $\n",
    "\n",
    "$ A_1 = f ( Z_1 ) $  \n",
    "\n",
    "$ Z_2 = W2 * A_1 + B_2 $\n",
    "\n",
    "$ A_2 = Softmax( Z_2 ) $\n",
    "\n",
    "## Softmax \n",
    "\n",
    "$ a_i = \\frac{e^{z_i}}{\\sum_{i=k}^ne^{z_k}}$\n",
    "\n",
    "\n",
    "## Cost Function \n",
    "\n",
    "$Loss = - \\sum_{i=k}^{n}[ y_k*log(a_k) ]$\n",
    "\n",
    "$Cost = - \\frac{1}{m}\\sum_{i=1}^{m}\\sum_{k=1}^{n}[ y_k*log(a_k) ]$\n",
    "\n",
    "\n",
    "\n",
    "## Backward Propagation\n",
    "$dZ_2 = ( A_2 - Y )$\n",
    "\n",
    "$ dW_2 = \\frac{1}{m}. dZ_2 . A_1^T$\n",
    "\n",
    "$ dB_2 = \\frac{1}{m}.sum(dZ_2, 1)$\n",
    "\n",
    "\n",
    "\n",
    "$dZ_1 = W_2^T . dZ_2 * f_1^|(Z_1) $\n",
    "\n",
    "$dW_1 = \\frac{1}{m}.dZ_1.X^T$\n",
    "\n",
    "$dB_1 = \\frac{1}{m}.sum(dZ_1, 1)$\n",
    "\n",
    "\n",
    "## Updating Parameters\n",
    "\n",
    "$ W_2 = W_2 -  \\alpha * \\frac{\\partial Cost }{\\partial W_2}$ \n",
    "\n",
    "$ B_2 = B_2 -  \\alpha * \\frac{\\partial Cost }{\\partial B_2}$ \n",
    "\n",
    "$ W_1 = W_1 -  \\alpha * \\frac{\\partial Cost }{\\partial W_1}$ \n",
    "\n",
    "$ B_1 = B_1 -  \\alpha * \\frac{\\partial Cost }{\\partial B_1}$ \n"
   ]
  },
  {
   "cell_type": "markdown",
   "id": "28d8de4b",
   "metadata": {
    "papermill": {
     "duration": 0.007401,
     "end_time": "2025-02-23T06:23:41.797775",
     "exception": false,
     "start_time": "2025-02-23T06:23:41.790374",
     "status": "completed"
    },
    "tags": []
   },
   "source": [
    "# Activation Functions\n",
    "\n",
    "***Now, its your time to implement !***\n",
    "\n",
    "Complete the below functions for Activations."
   ]
  },
  {
   "cell_type": "code",
   "execution_count": 6,
   "id": "8fa44e8b",
   "metadata": {
    "execution": {
     "iopub.execute_input": "2025-02-23T06:23:41.813499Z",
     "iopub.status.busy": "2025-02-23T06:23:41.813162Z",
     "iopub.status.idle": "2025-02-23T06:23:41.817890Z",
     "shell.execute_reply": "2025-02-23T06:23:41.816665Z"
    },
    "papermill": {
     "duration": 0.014944,
     "end_time": "2025-02-23T06:23:41.819846",
     "exception": false,
     "start_time": "2025-02-23T06:23:41.804902",
     "status": "completed"
    },
    "tags": []
   },
   "outputs": [],
   "source": [
    "def tanh(x):\n",
    "    return np.tanh(x)"
   ]
  },
  {
   "cell_type": "code",
   "execution_count": 7,
   "id": "b70f26d3",
   "metadata": {
    "execution": {
     "iopub.execute_input": "2025-02-23T06:23:41.836424Z",
     "iopub.status.busy": "2025-02-23T06:23:41.836089Z",
     "iopub.status.idle": "2025-02-23T06:23:41.840337Z",
     "shell.execute_reply": "2025-02-23T06:23:41.839374Z"
    },
    "papermill": {
     "duration": 0.013712,
     "end_time": "2025-02-23T06:23:41.842179",
     "exception": false,
     "start_time": "2025-02-23T06:23:41.828467",
     "status": "completed"
    },
    "tags": []
   },
   "outputs": [],
   "source": [
    "def relu(x):\n",
    "    return np.maximum(x,0)"
   ]
  },
  {
   "cell_type": "code",
   "execution_count": 8,
   "id": "99d9999d",
   "metadata": {
    "execution": {
     "iopub.execute_input": "2025-02-23T06:23:41.858281Z",
     "iopub.status.busy": "2025-02-23T06:23:41.857925Z",
     "iopub.status.idle": "2025-02-23T06:23:41.862365Z",
     "shell.execute_reply": "2025-02-23T06:23:41.861239Z"
    },
    "papermill": {
     "duration": 0.014489,
     "end_time": "2025-02-23T06:23:41.864595",
     "exception": false,
     "start_time": "2025-02-23T06:23:41.850106",
     "status": "completed"
    },
    "tags": []
   },
   "outputs": [],
   "source": [
    "def softmax(x):\n",
    "    expX = np.exp(x)\n",
    "    return expX/np.sum(expX,axis=0)"
   ]
  },
  {
   "cell_type": "markdown",
   "id": "fec2eefc",
   "metadata": {
    "papermill": {
     "duration": 0.006567,
     "end_time": "2025-02-23T06:23:41.878070",
     "exception": false,
     "start_time": "2025-02-23T06:23:41.871503",
     "status": "completed"
    },
    "tags": []
   },
   "source": [
    "The function *derivative_tanh* must return the derivative of tanh.\n",
    "The function *derivative_relu* must return the derivative of ReLU\n",
    "\n",
    "\n",
    "Also note, I made a small mistake in video. derivative of tanh is given by 1 - tanh^2(x).\n",
    "\n",
    "\n",
    "so, derivative_tanh(x):\n",
    "\n",
    "return 1 - np.power(np.tanh(x), 2)"
   ]
  },
  {
   "cell_type": "code",
   "execution_count": 9,
   "id": "17a1f3d9",
   "metadata": {
    "execution": {
     "iopub.execute_input": "2025-02-23T06:23:41.892636Z",
     "iopub.status.busy": "2025-02-23T06:23:41.892272Z",
     "iopub.status.idle": "2025-02-23T06:23:41.897150Z",
     "shell.execute_reply": "2025-02-23T06:23:41.895989Z"
    },
    "papermill": {
     "duration": 0.014172,
     "end_time": "2025-02-23T06:23:41.898903",
     "exception": false,
     "start_time": "2025-02-23T06:23:41.884731",
     "status": "completed"
    },
    "tags": []
   },
   "outputs": [],
   "source": [
    "def derivative_tanh(x):\n",
    "    return (1-np.power(np.tanh(x),2))\n",
    "\n",
    "def derivative_relu(x):\n",
    "    return np.array(x>0, dtype = np.float32)"
   ]
  },
  {
   "cell_type": "markdown",
   "id": "1abf4d2d",
   "metadata": {
    "papermill": {
     "duration": 0.006188,
     "end_time": "2025-02-23T06:23:41.911909",
     "exception": false,
     "start_time": "2025-02-23T06:23:41.905721",
     "status": "completed"
    },
    "tags": []
   },
   "source": [
    "# Initialize Parameters\n",
    "\n",
    "We need to initialize the **W** parameters randomly, and **B** with zeros\n",
    "\n",
    "- np.random.randn(a, b) return a numpy array of shape(a, b) with small random values\n",
    "- For making the values small, we multiply 0.01\n",
    "- np.zeros((a, b) return a numpy array of shape(a, b) with zeros \n",
    "\n",
    "### Why need small weights W?\n",
    "If we initialize weights will large values, then Z = W * X + B, will be large. For functions like tanh and sigmoid, the slope becomes very less for large Z value, thus learning can be very slow.\n",
    "\n",
    "#### Remember, we had an increase in the cost function at the beginning while training the model with ReLU activation function?\n",
    "It is because our weights were still very large and it was creating problem for training our model.\n",
    "\n",
    "Multiply weights with 0.001 instead of 0.01, and you will see that the graph becomes normal, with a smooth decrease in cost value.\n",
    "\n",
    "There are many weight initialization techniques available as well, to solve other such problems. We will learn those in the upcoming videos.\n",
    "\n",
    "Now, We need to return a dictionary containing all the parameters.\n",
    "\n",
    "More about np.random.randn here : https://numpy.org/doc/stable/reference/random/generated/numpy.random.randn.html"
   ]
  },
  {
   "cell_type": "code",
   "execution_count": 10,
   "id": "d4ea981a",
   "metadata": {
    "execution": {
     "iopub.execute_input": "2025-02-23T06:23:41.926664Z",
     "iopub.status.busy": "2025-02-23T06:23:41.926320Z",
     "iopub.status.idle": "2025-02-23T06:23:41.932098Z",
     "shell.execute_reply": "2025-02-23T06:23:41.930952Z"
    },
    "papermill": {
     "duration": 0.015738,
     "end_time": "2025-02-23T06:23:41.934134",
     "exception": false,
     "start_time": "2025-02-23T06:23:41.918396",
     "status": "completed"
    },
    "tags": []
   },
   "outputs": [],
   "source": [
    "def initialize_parameters(n_x, n_h, n_y):\n",
    "    \n",
    "    ## Complete the code below ##\n",
    "    w1 = np.random.rand(n_h,n_x)*0.001\n",
    "    b1 = np.zeros((n_h,1))\n",
    "    w2 = np.random.rand(n_y,n_h)*0.001\n",
    "    b2 = np.zeros((n_y,1))\n",
    "    ## Your Code ends ##\n",
    "    \n",
    "    parameters = {\n",
    "        \"w1\" : w1, \n",
    "        \"b1\" : b1, \n",
    "        \"w2\" : w2,\n",
    "        \"b2\" : b2\n",
    "    }\n",
    "    \n",
    "    return parameters"
   ]
  },
  {
   "cell_type": "markdown",
   "id": "60b058a9",
   "metadata": {
    "papermill": {
     "duration": 0.006336,
     "end_time": "2025-02-23T06:23:41.948267",
     "exception": false,
     "start_time": "2025-02-23T06:23:41.941931",
     "status": "completed"
    },
    "tags": []
   },
   "source": [
    "# Forward Propagation\n",
    "\n",
    "We need to impletement the following equation for forward propagation :\n",
    "\n",
    "$ Z_1 = W_1 * X + B_1 $\n",
    "\n",
    "$ A_1 = f ( Z_1 ) $  \n",
    "\n",
    "$ Z_2 = W2 * A_1 + B_2 $\n",
    "\n",
    "$ A_2 = Softmax( Z_2 ) $\n",
    "\n",
    "For f(x), you can use either tanh or ReLU activation function. \n",
    "\n",
    "But also use the same for Backpropagation as well"
   ]
  },
  {
   "cell_type": "code",
   "execution_count": 11,
   "id": "d9a94c6d",
   "metadata": {
    "execution": {
     "iopub.execute_input": "2025-02-23T06:23:41.963989Z",
     "iopub.status.busy": "2025-02-23T06:23:41.963556Z",
     "iopub.status.idle": "2025-02-23T06:23:41.969088Z",
     "shell.execute_reply": "2025-02-23T06:23:41.967971Z"
    },
    "papermill": {
     "duration": 0.014959,
     "end_time": "2025-02-23T06:23:41.970773",
     "exception": false,
     "start_time": "2025-02-23T06:23:41.955814",
     "status": "completed"
    },
    "tags": []
   },
   "outputs": [],
   "source": [
    "def forward_prop(x, parameters):\n",
    "    \n",
    "    # To fetch the parameters\n",
    "    w1 = parameters['w1']\n",
    "    b1 = parameters['b1']\n",
    "    w2 = parameters['w2']\n",
    "    b2 = parameters['b2']\n",
    "    \n",
    "    ## Complete the Code below : ##\n",
    "    z1 = np.dot(w1,x) + b1\n",
    "    a1 = tanh(z1)\n",
    "    z2 = np.dot(w2,a1) + b2\n",
    "    a2 = softmax(z2)\n",
    "    ## Your Code ends ##\n",
    "    \n",
    "    # To return our Zs and As\n",
    "    forward_cache = {\n",
    "        \"z1\" : z1,\n",
    "        \"a1\" : a1,\n",
    "        \"z2\" : z2,\n",
    "        \"a2\" : a2\n",
    "    }\n",
    "    \n",
    "    return forward_cache"
   ]
  },
  {
   "cell_type": "markdown",
   "id": "e83928a5",
   "metadata": {
    "papermill": {
     "duration": 0.006492,
     "end_time": "2025-02-23T06:23:41.984112",
     "exception": false,
     "start_time": "2025-02-23T06:23:41.977620",
     "status": "completed"
    },
    "tags": []
   },
   "source": [
    "# Cost Function\n",
    "\n",
    "$Loss = - \\sum_{k=1}^{n}[ y_k*log(a_k) ]$ .. *for 1 observation*\n",
    "\n",
    "$Cost = - \\frac{1}{m}\\sum_{i=1}^{m}\\sum_{k=1}^{n}[ y_k*log(a_k) ]$  .. *for all m observations*\n",
    "\n",
    "You need to return the cost in the below function\n",
    "\n",
    "You can use np.sum()\n",
    "- np.sum(A, axis = 1, keepdims = True) return the column-wise sum for a matrix A\n",
    "- np.sum(A, axis = 0, keepdims = True) returns the row-wise sum for a matrix A\n",
    "- np.sum(A) returns the summation of all the elements of A\n",
    "\n",
    "*keepdims = True keeps the dimenstion in place. In certain cases, the returned sum can be of shape(m,) instead of shape(m, 1).\n",
    "So, keepdims = True forces it to return the sum in shape(m, 1) instead of shape(m,)*\n",
    "\n",
    "\n",
    "More about np.sum() here : https://numpy.org/doc/stable/reference/generated/numpy.sum.html"
   ]
  },
  {
   "cell_type": "code",
   "execution_count": 12,
   "id": "c887a160",
   "metadata": {
    "execution": {
     "iopub.execute_input": "2025-02-23T06:23:41.998357Z",
     "iopub.status.busy": "2025-02-23T06:23:41.998021Z",
     "iopub.status.idle": "2025-02-23T06:23:42.002752Z",
     "shell.execute_reply": "2025-02-23T06:23:42.001607Z"
    },
    "papermill": {
     "duration": 0.013886,
     "end_time": "2025-02-23T06:23:42.004443",
     "exception": false,
     "start_time": "2025-02-23T06:23:41.990557",
     "status": "completed"
    },
    "tags": []
   },
   "outputs": [],
   "source": [
    "def cost_function(a2, y):\n",
    "    m = y.shape[1]\n",
    "    cost = -(1/m)*np.sum(y*np.log(a2))\n",
    "    return cost"
   ]
  },
  {
   "cell_type": "markdown",
   "id": "e0c9cd4c",
   "metadata": {
    "papermill": {
     "duration": 0.006164,
     "end_time": "2025-02-23T06:23:42.017345",
     "exception": false,
     "start_time": "2025-02-23T06:23:42.011181",
     "status": "completed"
    },
    "tags": []
   },
   "source": [
    "# Backward Propagation\n",
    "\n",
    "We need to implement the below equations\n",
    "\n",
    "$dZ_2 = ( A_2 - Y )$\n",
    "\n",
    "$ dW_2 = \\frac{1}{m}. dZ_2 . A_2^T$\n",
    "\n",
    "$ dB_2 = \\frac{1}{m}.sum(dZ_2, 1)$\n",
    "\n",
    "\n",
    "\n",
    "$dZ_1 = W_2^T . dZ_2 * f_1^|(Z_1) $\n",
    "\n",
    "$dW_1 = \\frac{1}{m}.dZ_1.A_1^T$\n",
    "\n",
    "$dB_1 = \\frac{1}{m}.sum(dZ_1, 1)$\n",
    "\n",
    "Helper python functions :\n",
    "- A.T returns the transpose of matrix A\n",
    "- np.dot(A, B) returns the matrix multiplication of A and B\n",
    "- A*B returns the element wise multi-plication for A and B\n",
    "- np.sum(A, axis = 1, keepdims = True) return the column-wise sum for a matrix A\n",
    "- np.sum(A, axis = 0, keepdims = True) returns the row-wise sum for a matrix A"
   ]
  },
  {
   "cell_type": "code",
   "execution_count": 13,
   "id": "6e622e6d",
   "metadata": {
    "execution": {
     "iopub.execute_input": "2025-02-23T06:23:42.031875Z",
     "iopub.status.busy": "2025-02-23T06:23:42.031365Z",
     "iopub.status.idle": "2025-02-23T06:23:42.038323Z",
     "shell.execute_reply": "2025-02-23T06:23:42.037133Z"
    },
    "papermill": {
     "duration": 0.016512,
     "end_time": "2025-02-23T06:23:42.040390",
     "exception": false,
     "start_time": "2025-02-23T06:23:42.023878",
     "status": "completed"
    },
    "tags": []
   },
   "outputs": [],
   "source": [
    "def backward_prop(x, y, parameters, forward_cache):\n",
    "    \n",
    "    m = x.shape[1]\n",
    "    \n",
    "    # Fetching our parameters\n",
    "    w1 = parameters['w1']\n",
    "    b1 = parameters['b1']\n",
    "    w2 = parameters['w2']\n",
    "    b2 = parameters['b2'] \n",
    "    \n",
    "    # Fetching our forward_cache\n",
    "    a1 = forward_cache['a1']\n",
    "    a2 = forward_cache['a2']\n",
    "    \n",
    "    \n",
    "    ## Complete the Code below ##\n",
    "    dz2 = a2-y\n",
    "    dw2 = (1/m)*(np.dot(dz2,a1.T))\n",
    "    db2 = (1/m)*np.sum(dz2,axis = 1, keepdims = True)\n",
    "    \n",
    "    dz1 = (1/m)*np.dot(w2.T, dz2)*derivative_tanh(a1)\n",
    "    dw1 = (1/m)*np.dot(dz1,x.T)\n",
    "    db1 = (1/m)*np.sum(dz1, axis=1, keepdims = True)\n",
    "    ## Your Code ends ##\n",
    "    \n",
    "    ## Returning the Gradients\n",
    "    gradients = {\n",
    "        \"dw1\" : dw1,\n",
    "        \"db1\" : db1,\n",
    "        \"dw2\" : dw2, \n",
    "        \"db2\" : db2\n",
    "    }\n",
    "    \n",
    "    return gradients"
   ]
  },
  {
   "cell_type": "markdown",
   "id": "05e77fc3",
   "metadata": {
    "papermill": {
     "duration": 0.006273,
     "end_time": "2025-02-23T06:23:42.053446",
     "exception": false,
     "start_time": "2025-02-23T06:23:42.047173",
     "status": "completed"
    },
    "tags": []
   },
   "source": [
    "# Update Parameters"
   ]
  },
  {
   "cell_type": "code",
   "execution_count": 14,
   "id": "4585fcf3",
   "metadata": {
    "execution": {
     "iopub.execute_input": "2025-02-23T06:23:42.068685Z",
     "iopub.status.busy": "2025-02-23T06:23:42.068296Z",
     "iopub.status.idle": "2025-02-23T06:23:42.074299Z",
     "shell.execute_reply": "2025-02-23T06:23:42.073108Z"
    },
    "papermill": {
     "duration": 0.016033,
     "end_time": "2025-02-23T06:23:42.076217",
     "exception": false,
     "start_time": "2025-02-23T06:23:42.060184",
     "status": "completed"
    },
    "tags": []
   },
   "outputs": [],
   "source": [
    "def update_parameters(parameters, gradients, learning_rate):\n",
    "    \n",
    "    # Fetching our parameters\n",
    "    w1 = parameters['w1']\n",
    "    b1 = parameters['b1']\n",
    "    w2 = parameters['w2']\n",
    "    b2 = parameters['b2'] \n",
    "    \n",
    "    # Fetching our gradients\n",
    "    dw1 = gradients['dw1']\n",
    "    db1 = gradients['db1']\n",
    "    dw2 = gradients['dw2']\n",
    "    db2 = gradients['db2']\n",
    "    \n",
    "    ## Complete the Code below ##\n",
    "    w1 = w1-(learning_rate*dw1)\n",
    "    b1 = b1-(learning_rate*db1)\n",
    "    w2 = w2-(learning_rate*dw2)\n",
    "    b2 = b2-(learning_rate*db2)\n",
    "    ## Your code ends ##\n",
    "    \n",
    "    # Returning the updated parameters\n",
    "    Parameters = {\n",
    "        \"w1\" : w1, \n",
    "        \"b1\" : b1, \n",
    "        \"w2\" : w2,\n",
    "        \"b2\" : b2\n",
    "    }\n",
    "    \n",
    "    return Parameters"
   ]
  },
  {
   "cell_type": "markdown",
   "id": "40de2df9",
   "metadata": {
    "papermill": {
     "duration": 0.006376,
     "end_time": "2025-02-23T06:23:42.089806",
     "exception": false,
     "start_time": "2025-02-23T06:23:42.083430",
     "status": "completed"
    },
    "tags": []
   },
   "source": [
    "# Complete Model\n",
    "\n",
    "Implement the entire Neural Network here\n",
    "\n",
    "### Instructions :\n",
    "\n",
    "We need to initialize parameters once, and after that, we will run the following in a loop:\n",
    "- forward_prop(x, parameters)\n",
    "- cost_function(a2, y)\n",
    "- backward_prop(x, y, parameters, forward_cache)\n",
    "- parameters = update_parameters(parameters, gradients, learning_rate)\n",
    "\n",
    "### Return :\n",
    "- parameters, which will be our trained parameters\n",
    "- cost_list, which contains cost for every iterations."
   ]
  },
  {
   "cell_type": "code",
   "execution_count": 15,
   "id": "fd02eea8",
   "metadata": {
    "execution": {
     "iopub.execute_input": "2025-02-23T06:23:42.105074Z",
     "iopub.status.busy": "2025-02-23T06:23:42.104626Z",
     "iopub.status.idle": "2025-02-23T06:23:42.112075Z",
     "shell.execute_reply": "2025-02-23T06:23:42.110813Z"
    },
    "papermill": {
     "duration": 0.017893,
     "end_time": "2025-02-23T06:23:42.114226",
     "exception": false,
     "start_time": "2025-02-23T06:23:42.096333",
     "status": "completed"
    },
    "tags": []
   },
   "outputs": [],
   "source": [
    "def model(x, y, n_h, learning_rate, iterations):\n",
    "    \n",
    "    ## Complete the Code Below ##\n",
    "    n_x = x.shape[0]                       # must return the number of neurons/features in input layer\n",
    "    n_y = y.shape[0]                       # must return the number of neurons in output layer\n",
    "    ## Your Code ends ##\n",
    "    \n",
    "    cost_list = []\n",
    "    \n",
    "    ## Complete the Code Below ##\n",
    "    parameters = initialize_parameters(n_x,n_h,n_y)\n",
    "    ## Your Code ends ##\n",
    "    \n",
    "    ## Complete the Code Below ##\n",
    "    for i in range(iterations):\n",
    "        \n",
    "        # Forward Propagation\n",
    "        forward_cache = forward_prop(x,parameters)\n",
    "        # Cost Function\n",
    "        cost = cost_function(forward_cache['a2'],y)\n",
    "        # Backward propagation\n",
    "        gradients = backward_prop(x, y, parameters, forward_cache)\n",
    "        # Update Parameters\n",
    "        parameters = update_parameters(parameters, gradients, learning_rate)\n",
    "        cost_list.append(cost)\n",
    "        \n",
    "        if i%(iterations/10) == 0 :\n",
    "            print(\"cost after\", i, \"iters is\" ,     cost   )\n",
    "            \n",
    "            \n",
    "    ## Your Code ends ##\n",
    "    \n",
    "    \n",
    "    return parameters, cost_list"
   ]
  },
  {
   "cell_type": "code",
   "execution_count": 16,
   "id": "4d346698",
   "metadata": {
    "execution": {
     "iopub.execute_input": "2025-02-23T06:23:42.129490Z",
     "iopub.status.busy": "2025-02-23T06:23:42.129098Z",
     "iopub.status.idle": "2025-02-23T06:24:44.584443Z",
     "shell.execute_reply": "2025-02-23T06:24:44.583232Z"
    },
    "papermill": {
     "duration": 62.464997,
     "end_time": "2025-02-23T06:24:44.586514",
     "exception": false,
     "start_time": "2025-02-23T06:23:42.121517",
     "status": "completed"
    },
    "tags": []
   },
   "outputs": [
    {
     "name": "stdout",
     "output_type": "stream",
     "text": [
      "cost after 0 iters is 2.3024619150826884\n",
      "cost after 60 iters is 2.298494422110315\n",
      "cost after 120 iters is 2.298494413825302\n",
      "cost after 180 iters is 2.298494405570901\n",
      "cost after 240 iters is 2.298494397346593\n",
      "cost after 300 iters is 2.2984943891518648\n",
      "cost after 360 iters is 2.2984943809862055\n",
      "cost after 420 iters is 2.29849437284911\n",
      "cost after 480 iters is 2.298494364740076\n",
      "cost after 540 iters is 2.298494356658606\n"
     ]
    }
   ],
   "source": [
    "# Complete the Code Below ##\n",
    "\n",
    "n_h = 1000\n",
    "learning_rate = 0.0025\n",
    "iterations = 600\n",
    "\n",
    "# Your Code ends ##\n",
    "\n",
    "Parameters, Cost_list = model(X_train, Y_train, n_h = n_h, learning_rate = learning_rate, iterations = iterations)"
   ]
  },
  {
   "cell_type": "code",
   "execution_count": 17,
   "id": "4a300ec6",
   "metadata": {
    "execution": {
     "iopub.execute_input": "2025-02-23T06:24:44.604873Z",
     "iopub.status.busy": "2025-02-23T06:24:44.604387Z",
     "iopub.status.idle": "2025-02-23T06:24:44.840096Z",
     "shell.execute_reply": "2025-02-23T06:24:44.838973Z"
    },
    "papermill": {
     "duration": 0.246451,
     "end_time": "2025-02-23T06:24:44.842247",
     "exception": false,
     "start_time": "2025-02-23T06:24:44.595796",
     "status": "completed"
    },
    "tags": []
   },
   "outputs": [
    {
     "data": {
      "image/png": "[encoded data removed]",
      "text/plain": [
       "<Figure size 640x480 with 1 Axes>"
      ]
     },
     "metadata": {},
     "output_type": "display_data"
    }
   ],
   "source": [
    "t = np.arange(0, iterations)\n",
    "plt.plot(t, Cost_list)\n",
    "plt.show()"
   ]
  },
  {
   "cell_type": "markdown",
   "id": "9bd97548",
   "metadata": {
    "papermill": {
     "duration": 0.007983,
     "end_time": "2025-02-23T06:24:44.858130",
     "exception": false,
     "start_time": "2025-02-23T06:24:44.850147",
     "status": "completed"
    },
    "tags": []
   },
   "source": [
    "# Checking Accuracy\n",
    "\n",
    "Run the below cells to check your model Accuracy "
   ]
  },
  {
   "cell_type": "code",
   "execution_count": 18,
   "id": "224d2bf8",
   "metadata": {
    "execution": {
     "iopub.execute_input": "2025-02-23T06:24:44.876178Z",
     "iopub.status.busy": "2025-02-23T06:24:44.875638Z",
     "iopub.status.idle": "2025-02-23T06:24:44.881133Z",
     "shell.execute_reply": "2025-02-23T06:24:44.879910Z"
    },
    "papermill": {
     "duration": 0.017453,
     "end_time": "2025-02-23T06:24:44.883330",
     "exception": false,
     "start_time": "2025-02-23T06:24:44.865877",
     "status": "completed"
    },
    "tags": []
   },
   "outputs": [],
   "source": [
    "def accuracy(inp, labels, parameters):\n",
    "    forward_cache = forward_prop(inp, parameters)\n",
    "    a_out = forward_cache['a2']   # containes propabilities with shape(10, 1)\n",
    "    \n",
    "    a_out = np.argmax(a_out, 0)  # 0 represents row wise \n",
    "    \n",
    "    labels = np.argmax(labels, 0)\n",
    "    \n",
    "    acc = np.mean(a_out == labels)*100\n",
    "    \n",
    "    return acc"
   ]
  },
  {
   "cell_type": "code",
   "execution_count": 19,
   "id": "238e3856",
   "metadata": {
    "execution": {
     "iopub.execute_input": "2025-02-23T06:24:44.901054Z",
     "iopub.status.busy": "2025-02-23T06:24:44.900624Z",
     "iopub.status.idle": "2025-02-23T06:24:44.962759Z",
     "shell.execute_reply": "2025-02-23T06:24:44.961426Z"
    },
    "papermill": {
     "duration": 0.072884,
     "end_time": "2025-02-23T06:24:44.964509",
     "exception": false,
     "start_time": "2025-02-23T06:24:44.891625",
     "status": "completed"
    },
    "tags": []
   },
   "outputs": [
    {
     "name": "stdout",
     "output_type": "stream",
     "text": [
      "Accuracy of Train Dataset 11.799999999999999 %\n",
      "Accuracy of Test Dataset 12.57 %\n"
     ]
    }
   ],
   "source": [
    "print(\"Accuracy of Train Dataset\", accuracy(X_train, Y_train, Parameters), \"%\")\n",
    "print(\"Accuracy of Test Dataset\", round(accuracy(X_test, Y_test, Parameters), 2), \"%\")"
   ]
  },
  {
   "cell_type": "code",
   "execution_count": 20,
   "id": "54b37d23",
   "metadata": {
    "execution": {
     "iopub.execute_input": "2025-02-23T06:24:44.983967Z",
     "iopub.status.busy": "2025-02-23T06:24:44.983492Z",
     "iopub.status.idle": "2025-02-23T06:24:45.161107Z",
     "shell.execute_reply": "2025-02-23T06:24:45.159770Z"
    },
    "papermill": {
     "duration": 0.188584,
     "end_time": "2025-02-23T06:24:45.162941",
     "exception": false,
     "start_time": "2025-02-23T06:24:44.974357",
     "status": "completed"
    },
    "tags": []
   },
   "outputs": [
    {
     "data": {
      "image/png": "[encoded data removed]",
      "text/plain": [
       "<Figure size 640x480 with 1 Axes>"
      ]
     },
     "metadata": {},
     "output_type": "display_data"
    },
    {
     "name": "stdout",
     "output_type": "stream",
     "text": [
      "Our model says it is : 1\n"
     ]
    }
   ],
   "source": [
    "idx = int(random.randrange(0,X_test.shape[1]))\n",
    "plt.imshow(X_test[:, idx].reshape((28,28)),cmap='gray')\n",
    "plt.show()\n",
    "\n",
    "cache = forward_prop(X_test[:, idx].reshape(X_test[:, idx].shape[0], 1), Parameters)\n",
    "a_pred = cache['a2']  \n",
    "a_pred = np.argmax(a_pred, 0)\n",
    "\n",
    "print(\"Our model says it is :\", a_pred[0])"
   ]
  },
  {
   "cell_type": "code",
   "execution_count": null,
   "id": "7410d880",
   "metadata": {
    "papermill": {
     "duration": 0.007936,
     "end_time": "2025-02-23T06:24:45.179362",
     "exception": false,
     "start_time": "2025-02-23T06:24:45.171426",
     "status": "completed"
    },
    "tags": []
   },
   "outputs": [],
   "source": []
  }
 ],
 "metadata": {
  "kaggle": {
   "accelerator": "none",
   "dataSources": [
    {
     "datasetId": 6702547,
     "sourceId": 10799257,
     "sourceType": "datasetVersion"
    }
   ],
   "dockerImageVersionId": 30886,
   "isGpuEnabled": false,
   "isInternetEnabled": false,
   "language": "python",
   "sourceType": "notebook"
  },
  "kernelspec": {
   "display_name": "Python 3",
   "language": "python",
   "name": "python3"
  },
  "language_info": {
   "codemirror_mode": {
    "name": "ipython",
    "version": 3
   },
   "file_extension": ".py",
   "mimetype": "text/x-python",
   "name": "python",
   "nbconvert_exporter": "python",
   "pygments_lexer": "ipython3",
   "version": "3.10.12"
  },
  "papermill": {
   "default_parameters": {},
   "duration": 67.675352,
   "end_time": "2025-02-23T06:24:45.708321",
   "environment_variables": {},
   "exception": null,
   "input_path": "__notebook__.ipynb",
   "output_path": "__notebook__.ipynb",
   "parameters": {},
   "start_time": "2025-02-23T06:23:38.032969",
   "version": "2.6.0"
  }
 },
 "nbformat": 4,
 "nbformat_minor": 5
}
