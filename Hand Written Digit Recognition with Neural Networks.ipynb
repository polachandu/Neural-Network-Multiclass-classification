{
 "cells": [
  {
   "cell_type": "markdown",
   "id": "351f245d",
   "metadata": {
    "papermill": {
     "duration": 0.006103,
     "end_time": "2025-02-20T02:09:34.101657",
     "exception": false,
     "start_time": "2025-02-20T02:09:34.095554",
     "status": "completed"
    },
    "tags": []
   },
   "source": [
    "#### Importing Libraries"
   ]
  },
  {
   "cell_type": "code",
   "execution_count": 1,
   "id": "9e97a61a",
   "metadata": {
    "execution": {
     "iopub.execute_input": "2025-02-20T02:09:34.113932Z",
     "iopub.status.busy": "2025-02-20T02:09:34.113470Z",
     "iopub.status.idle": "2025-02-20T02:09:34.119667Z",
     "shell.execute_reply": "2025-02-20T02:09:34.118247Z"
    },
    "papermill": {
     "duration": 0.014178,
     "end_time": "2025-02-20T02:09:34.121323",
     "exception": false,
     "start_time": "2025-02-20T02:09:34.107145",
     "status": "completed"
    },
    "tags": []
   },
   "outputs": [],
   "source": [
    "import numpy as np\n",
    "import matplotlib.pyplot as plt\n",
    "import random"
   ]
  },
  {
   "cell_type": "markdown",
   "id": "e4e1b7e9",
   "metadata": {
    "papermill": {
     "duration": 0.005137,
     "end_time": "2025-02-20T02:09:34.132123",
     "exception": false,
     "start_time": "2025-02-20T02:09:34.126986",
     "status": "completed"
    },
    "tags": []
   },
   "source": [
    "# Importing Datasets\n",
    "\n",
    "I have already imported the dataset. If you want to use a different dataset, then you can give its path down below.\n",
    "\n",
    "The shape of X should be (n, m),\n",
    "And that of Y should be (10, m)\n",
    "\n",
    "Here, \n",
    "- n = total number of features\n",
    "- m = total number of observations in our dataset\n",
    "- 10 = number of output classes"
   ]
  },
  {
   "cell_type": "code",
   "execution_count": 2,
   "id": "2f054b90",
   "metadata": {
    "execution": {
     "iopub.execute_input": "2025-02-20T02:09:34.144113Z",
     "iopub.status.busy": "2025-02-20T02:09:34.143783Z",
     "iopub.status.idle": "2025-02-20T02:09:34.184191Z",
     "shell.execute_reply": "2025-02-20T02:09:34.183101Z"
    },
    "papermill": {
     "duration": 0.048611,
     "end_time": "2025-02-20T02:09:34.186034",
     "exception": false,
     "start_time": "2025-02-20T02:09:34.137423",
     "status": "completed"
    },
    "tags": []
   },
   "outputs": [],
   "source": [
    "X_train = np.loadtxt('/kaggle/input/handwrittendataset/test_X.csv', delimiter = ',')\n",
    "Y_train = np.loadtxt('/kaggle/input/handwrittendataset/train_label.csv', delimiter = ',')\n",
    "\n",
    "X_train = X_train.T\n",
    "Y_train = Y_train.T"
   ]
  },
  {
   "cell_type": "code",
   "execution_count": 3,
   "id": "8e235c56",
   "metadata": {
    "execution": {
     "iopub.execute_input": "2025-02-20T02:09:34.198515Z",
     "iopub.status.busy": "2025-02-20T02:09:34.198194Z",
     "iopub.status.idle": "2025-02-20T02:09:34.225753Z",
     "shell.execute_reply": "2025-02-20T02:09:34.224837Z"
    },
    "papermill": {
     "duration": 0.035653,
     "end_time": "2025-02-20T02:09:34.227538",
     "exception": false,
     "start_time": "2025-02-20T02:09:34.191885",
     "status": "completed"
    },
    "tags": []
   },
   "outputs": [],
   "source": [
    "X_test = np.loadtxt('/kaggle/input/handwrittendataset/test_X.csv', delimiter = ',')\n",
    "Y_test = np.loadtxt('/kaggle/input/handwrittendataset/test_label.csv', delimiter = ',')\n",
    "\n",
    "X_test = X_test.T\n",
    "Y_test = Y_test.T"
   ]
  },
  {
   "cell_type": "code",
   "execution_count": 4,
   "id": "ff971ad3",
   "metadata": {
    "execution": {
     "iopub.execute_input": "2025-02-20T02:09:34.239774Z",
     "iopub.status.busy": "2025-02-20T02:09:34.239403Z",
     "iopub.status.idle": "2025-02-20T02:09:34.246471Z",
     "shell.execute_reply": "2025-02-20T02:09:34.245483Z"
    },
    "papermill": {
     "duration": 0.014973,
     "end_time": "2025-02-20T02:09:34.248159",
     "exception": false,
     "start_time": "2025-02-20T02:09:34.233186",
     "status": "completed"
    },
    "tags": []
   },
   "outputs": [
    {
     "name": "stdout",
     "output_type": "stream",
     "text": [
      "shape of X_train :  (784, 350)\n",
      "shape of Y_train :  (10, 1000)\n",
      "shape of X_test :  (784, 350)\n",
      "shape of Y_test :  (10, 350)\n"
     ]
    }
   ],
   "source": [
    "print(\"shape of X_train : \", X_train.shape)\n",
    "print(\"shape of Y_train : \", Y_train.shape)\n",
    "\n",
    "print(\"shape of X_test : \", X_test.shape)\n",
    "print(\"shape of Y_test : \", Y_test.shape)"
   ]
  },
  {
   "cell_type": "markdown",
   "id": "2e5b383e",
   "metadata": {
    "papermill": {
     "duration": 0.005237,
     "end_time": "2025-02-20T02:09:34.259187",
     "exception": false,
     "start_time": "2025-02-20T02:09:34.253950",
     "status": "completed"
    },
    "tags": []
   },
   "source": [
    "### Visualizing our Dataset\n",
    "\n",
    "Our dataset is in the form of numbers. So, to visualize it properly, we will display it in the form of image"
   ]
  },
  {
   "cell_type": "code",
   "execution_count": 5,
   "id": "7db84ef0",
   "metadata": {
    "execution": {
     "iopub.execute_input": "2025-02-20T02:09:34.271381Z",
     "iopub.status.busy": "2025-02-20T02:09:34.271074Z",
     "iopub.status.idle": "2025-02-20T02:09:34.543877Z",
     "shell.execute_reply": "2025-02-20T02:09:34.542658Z"
    },
    "papermill": {
     "duration": 0.281076,
     "end_time": "2025-02-20T02:09:34.545868",
     "exception": false,
     "start_time": "2025-02-20T02:09:34.264792",
     "status": "completed"
    },
    "tags": []
   },
   "outputs": [
    {
     "data": {
      "image/png": "[encoded data removed]",
      "text/plain": [
       "<Figure size 640x480 with 1 Axes>"
      ]
     },
     "metadata": {},
     "output_type": "display_data"
    }
   ],
   "source": [
    "index = int(random.randrange(0,X_train.shape[1]))\n",
    "plt.imshow(X_train[:, index].reshape((28,28)),cmap='gray')\n",
    "plt.show()"
   ]
  },
  {
   "cell_type": "markdown",
   "id": "4a032940",
   "metadata": {
    "papermill": {
     "duration": 0.005503,
     "end_time": "2025-02-20T02:09:34.557420",
     "exception": false,
     "start_time": "2025-02-20T02:09:34.551917",
     "status": "completed"
    },
    "tags": []
   },
   "source": [
    "# Model\n",
    "\n",
    "![nn](Images/nn.png)\n",
    "\n",
    "## Initialize parameters Randomly\n",
    "$ W_1 = np.random.randn(n_1, n_0) $\n",
    "\n",
    "$ b_1 = np.zeros((n_1, 1))$\n",
    "\n",
    "$ W_2 = np.random.randn(n_2, n_1) $\n",
    "\n",
    "$ b_2 = np.zeros((n_2, 1))$\n",
    "\n",
    "\n",
    "## *Repeat Below Steps for many times : *\n",
    "\n",
    "\n",
    "## Forward Propagation \n",
    "\n",
    "$ Z_1 = W_1 * X + B_1 $\n",
    "\n",
    "$ A_1 = f ( Z_1 ) $  \n",
    "\n",
    "$ Z_2 = W2 * A_1 + B_2 $\n",
    "\n",
    "$ A_2 = Softmax( Z_2 ) $\n",
    "\n",
    "## Softmax \n",
    "\n",
    "$ a_i = \\frac{e^{z_i}}{\\sum_{i=k}^ne^{z_k}}$\n",
    "\n",
    "\n",
    "## Cost Function \n",
    "\n",
    "$Loss = - \\sum_{i=k}^{n}[ y_k*log(a_k) ]$\n",
    "\n",
    "$Cost = - \\frac{1}{m}\\sum_{i=1}^{m}\\sum_{k=1}^{n}[ y_k*log(a_k) ]$\n",
    "\n",
    "\n",
    "\n",
    "## Backward Propagation\n",
    "$dZ_2 = ( A_2 - Y )$\n",
    "\n",
    "$ dW_2 = \\frac{1}{m}. dZ_2 . A_1^T$\n",
    "\n",
    "$ dB_2 = \\frac{1}{m}.sum(dZ_2, 1)$\n",
    "\n",
    "\n",
    "\n",
    "$dZ_1 = W_2^T . dZ_2 * f_1^|(Z_1) $\n",
    "\n",
    "$dW_1 = \\frac{1}{m}.dZ_1.X^T$\n",
    "\n",
    "$dB_1 = \\frac{1}{m}.sum(dZ_1, 1)$\n",
    "\n",
    "\n",
    "## Updating Parameters\n",
    "\n",
    "$ W_2 = W_2 -  \\alpha * \\frac{\\partial Cost }{\\partial W_2}$ \n",
    "\n",
    "$ B_2 = B_2 -  \\alpha * \\frac{\\partial Cost }{\\partial B_2}$ \n",
    "\n",
    "$ W_1 = W_1 -  \\alpha * \\frac{\\partial Cost }{\\partial W_1}$ \n",
    "\n",
    "$ B_1 = B_1 -  \\alpha * \\frac{\\partial Cost }{\\partial B_1}$ \n"
   ]
  },
  {
   "cell_type": "markdown",
   "id": "111e6ae4",
   "metadata": {
    "papermill": {
     "duration": 0.005495,
     "end_time": "2025-02-20T02:09:34.568615",
     "exception": false,
     "start_time": "2025-02-20T02:09:34.563120",
     "status": "completed"
    },
    "tags": []
   },
   "source": [
    "# Activation Functions\n",
    "\n",
    "***Now, its your time to implement !***\n",
    "\n",
    "Complete the below functions for Activations."
   ]
  },
  {
   "cell_type": "code",
   "execution_count": 6,
   "id": "e12c663d",
   "metadata": {
    "execution": {
     "iopub.execute_input": "2025-02-20T02:09:34.581340Z",
     "iopub.status.busy": "2025-02-20T02:09:34.581011Z",
     "iopub.status.idle": "2025-02-20T02:09:34.584834Z",
     "shell.execute_reply": "2025-02-20T02:09:34.583851Z"
    },
    "papermill": {
     "duration": 0.012036,
     "end_time": "2025-02-20T02:09:34.586336",
     "exception": false,
     "start_time": "2025-02-20T02:09:34.574300",
     "status": "completed"
    },
    "tags": []
   },
   "outputs": [],
   "source": [
    "# def tanh(x):\n",
    "    ## Your Code Here ##\n",
    "    \n",
    "    ## Code Ends ##"
   ]
  },
  {
   "cell_type": "code",
   "execution_count": 7,
   "id": "8734eef0",
   "metadata": {
    "execution": {
     "iopub.execute_input": "2025-02-20T02:09:34.599437Z",
     "iopub.status.busy": "2025-02-20T02:09:34.599121Z",
     "iopub.status.idle": "2025-02-20T02:09:34.602984Z",
     "shell.execute_reply": "2025-02-20T02:09:34.601953Z"
    },
    "papermill": {
     "duration": 0.012193,
     "end_time": "2025-02-20T02:09:34.604629",
     "exception": false,
     "start_time": "2025-02-20T02:09:34.592436",
     "status": "completed"
    },
    "tags": []
   },
   "outputs": [],
   "source": [
    "# def relu(x):\n",
    "    ## Your Code Here ##\n",
    "    \n",
    "    ## Code Ends ##"
   ]
  },
  {
   "cell_type": "code",
   "execution_count": 8,
   "id": "883e2a31",
   "metadata": {
    "execution": {
     "iopub.execute_input": "2025-02-20T02:09:34.618096Z",
     "iopub.status.busy": "2025-02-20T02:09:34.617755Z",
     "iopub.status.idle": "2025-02-20T02:09:34.621431Z",
     "shell.execute_reply": "2025-02-20T02:09:34.620423Z"
    },
    "papermill": {
     "duration": 0.01255,
     "end_time": "2025-02-20T02:09:34.623132",
     "exception": false,
     "start_time": "2025-02-20T02:09:34.610582",
     "status": "completed"
    },
    "tags": []
   },
   "outputs": [],
   "source": [
    "# def softmax(z):\n",
    "    ## Your Code Here ##\n",
    "    \n",
    "    ## Code Ends ##"
   ]
  },
  {
   "cell_type": "markdown",
   "id": "d2708d72",
   "metadata": {
    "papermill": {
     "duration": 0.005634,
     "end_time": "2025-02-20T02:09:34.634820",
     "exception": false,
     "start_time": "2025-02-20T02:09:34.629186",
     "status": "completed"
    },
    "tags": []
   },
   "source": [
    "The function *derivative_tanh* must return the derivative of tanh.\n",
    "The function *derivative_relu* must return the derivative of ReLU\n",
    "\n",
    "\n",
    "Also note, I made a small mistake in video. derivative of tanh is given by 1 - tanh^2(x).\n",
    "\n",
    "\n",
    "so, derivative_tanh(x):\n",
    "\n",
    "return 1 - np.power(np.tanh(x), 2)"
   ]
  },
  {
   "cell_type": "code",
   "execution_count": 9,
   "id": "4a83db12",
   "metadata": {
    "execution": {
     "iopub.execute_input": "2025-02-20T02:09:34.647790Z",
     "iopub.status.busy": "2025-02-20T02:09:34.647361Z",
     "iopub.status.idle": "2025-02-20T02:09:34.651418Z",
     "shell.execute_reply": "2025-02-20T02:09:34.650359Z"
    },
    "papermill": {
     "duration": 0.012336,
     "end_time": "2025-02-20T02:09:34.653114",
     "exception": false,
     "start_time": "2025-02-20T02:09:34.640778",
     "status": "completed"
    },
    "tags": []
   },
   "outputs": [],
   "source": [
    "# def derivative_tanh(x):\n",
    "    ## Your Code Here ##\n",
    "    \n",
    "    ## Code Ends ##\n",
    "\n",
    "# def derivative_relu(x):\n",
    "    ## Your Code Here ##\n",
    "    \n",
    "    ## Code Ends ##"
   ]
  },
  {
   "cell_type": "markdown",
   "id": "47bf52e2",
   "metadata": {
    "papermill": {
     "duration": 0.005803,
     "end_time": "2025-02-20T02:09:34.664922",
     "exception": false,
     "start_time": "2025-02-20T02:09:34.659119",
     "status": "completed"
    },
    "tags": []
   },
   "source": [
    "# Initialize Parameters\n",
    "\n",
    "We need to initialize the **W** parameters randomly, and **B** with zeros\n",
    "\n",
    "- np.random.randn(a, b) return a numpy array of shape(a, b) with small random values\n",
    "- For making the values small, we multiply 0.01\n",
    "- np.zeros((a, b) return a numpy array of shape(a, b) with zeros \n",
    "\n",
    "### Why need small weights W?\n",
    "If we initialize weights will large values, then Z = W * X + B, will be large. For functions like tanh and sigmoid, the slope becomes very less for large Z value, thus learning can be very slow.\n",
    "\n",
    "#### Remember, we had an increase in the cost function at the beginning while training the model with ReLU activation function?\n",
    "It is because our weights were still very large and it was creating problem for training our model.\n",
    "\n",
    "Multiply weights with 0.001 instead of 0.01, and you will see that the graph becomes normal, with a smooth decrease in cost value.\n",
    "\n",
    "There are many weight initialization techniques available as well, to solve other such problems. We will learn those in the upcoming videos.\n",
    "\n",
    "Now, We need to return a dictionary containing all the parameters.\n",
    "\n",
    "More about np.random.randn here : https://numpy.org/doc/stable/reference/random/generated/numpy.random.randn.html"
   ]
  },
  {
   "cell_type": "code",
   "execution_count": 10,
   "id": "bcf14e67",
   "metadata": {
    "execution": {
     "iopub.execute_input": "2025-02-20T02:09:34.677835Z",
     "iopub.status.busy": "2025-02-20T02:09:34.677441Z",
     "iopub.status.idle": "2025-02-20T02:09:34.681526Z",
     "shell.execute_reply": "2025-02-20T02:09:34.680539Z"
    },
    "papermill": {
     "duration": 0.012596,
     "end_time": "2025-02-20T02:09:34.683305",
     "exception": false,
     "start_time": "2025-02-20T02:09:34.670709",
     "status": "completed"
    },
    "tags": []
   },
   "outputs": [],
   "source": [
    "# def initialize_parameters(n_x, n_h, n_y):\n",
    "    \n",
    "#     ## Complete the code below ##\n",
    "#     w1 = \n",
    "#     b1 = \n",
    "#     w2 = \n",
    "#     b2 = \n",
    "#     ## Your Code ends ##\n",
    "    \n",
    "#     parameters = {\n",
    "#         \"w1\" : w1, \n",
    "#         \"b1\" : b1, \n",
    "#         \"w2\" : w2,\n",
    "#         \"b2\" : b2\n",
    "#     }\n",
    "    \n",
    "#     return parameters"
   ]
  },
  {
   "cell_type": "markdown",
   "id": "53dbe676",
   "metadata": {
    "papermill": {
     "duration": 0.005586,
     "end_time": "2025-02-20T02:09:34.695378",
     "exception": false,
     "start_time": "2025-02-20T02:09:34.689792",
     "status": "completed"
    },
    "tags": []
   },
   "source": [
    "# Forward Propagation\n",
    "\n",
    "We need to impletement the following equation for forward propagation :\n",
    "\n",
    "$ Z_1 = W_1 * X + B_1 $\n",
    "\n",
    "$ A_1 = f ( Z_1 ) $  \n",
    "\n",
    "$ Z_2 = W2 * A_1 + B_2 $\n",
    "\n",
    "$ A_2 = Softmax( Z_2 ) $\n",
    "\n",
    "For f(x), you can use either tanh or ReLU activation function. \n",
    "\n",
    "But also use the same for Backpropagation as well"
   ]
  },
  {
   "cell_type": "code",
   "execution_count": 11,
   "id": "21b73cf9",
   "metadata": {
    "execution": {
     "iopub.execute_input": "2025-02-20T02:09:34.708478Z",
     "iopub.status.busy": "2025-02-20T02:09:34.708141Z",
     "iopub.status.idle": "2025-02-20T02:09:34.712358Z",
     "shell.execute_reply": "2025-02-20T02:09:34.711353Z"
    },
    "papermill": {
     "duration": 0.012775,
     "end_time": "2025-02-20T02:09:34.714014",
     "exception": false,
     "start_time": "2025-02-20T02:09:34.701239",
     "status": "completed"
    },
    "tags": []
   },
   "outputs": [],
   "source": [
    "# def forward_prop(x, parameters):\n",
    "    \n",
    "#     # To fetch the parameters\n",
    "#     w1 = parameters['w1']\n",
    "#     b1 = parameters['b1']\n",
    "#     w2 = parameters['w2']\n",
    "#     b2 = parameters['b2']\n",
    "    \n",
    "#     ## Complete the Code below : ##\n",
    "#     z1 = \n",
    "#     a1 = \n",
    "#     z2 = \n",
    "#     a2 = \n",
    "#     ## Your Code ends ##\n",
    "    \n",
    "#     # To return our Zs and As\n",
    "#     forward_cache = {\n",
    "#         \"z1\" : z1,\n",
    "#         \"a1\" : a1,\n",
    "#         \"z2\" : z2,\n",
    "#         \"a2\" : a2\n",
    "#     }\n",
    "    \n",
    "#     return forward_cache"
   ]
  },
  {
   "cell_type": "markdown",
   "id": "699821a8",
   "metadata": {
    "papermill": {
     "duration": 0.005654,
     "end_time": "2025-02-20T02:09:34.725743",
     "exception": false,
     "start_time": "2025-02-20T02:09:34.720089",
     "status": "completed"
    },
    "tags": []
   },
   "source": [
    "# Cost Function\n",
    "\n",
    "$Loss = - \\sum_{k=1}^{n}[ y_k*log(a_k) ]$ .. *for 1 observation*\n",
    "\n",
    "$Cost = - \\frac{1}{m}\\sum_{i=1}^{m}\\sum_{k=1}^{n}[ y_k*log(a_k) ]$  .. *for all m observations*\n",
    "\n",
    "You need to return the cost in the below function\n",
    "\n",
    "You can use np.sum()\n",
    "- np.sum(A, axis = 1, keepdims = True) return the column-wise sum for a matrix A\n",
    "- np.sum(A, axis = 0, keepdims = True) returns the row-wise sum for a matrix A\n",
    "- np.sum(A) returns the summation of all the elements of A\n",
    "\n",
    "*keepdims = True keeps the dimenstion in place. In certain cases, the returned sum can be of shape(m,) instead of shape(m, 1).\n",
    "So, keepdims = True forces it to return the sum in shape(m, 1) instead of shape(m,)*\n",
    "\n",
    "\n",
    "More about np.sum() here : https://numpy.org/doc/stable/reference/generated/numpy.sum.html"
   ]
  },
  {
   "cell_type": "code",
   "execution_count": 12,
   "id": "cbe5b624",
   "metadata": {
    "execution": {
     "iopub.execute_input": "2025-02-20T02:09:34.738828Z",
     "iopub.status.busy": "2025-02-20T02:09:34.738435Z",
     "iopub.status.idle": "2025-02-20T02:09:34.742356Z",
     "shell.execute_reply": "2025-02-20T02:09:34.741293Z"
    },
    "papermill": {
     "duration": 0.01227,
     "end_time": "2025-02-20T02:09:34.744040",
     "exception": false,
     "start_time": "2025-02-20T02:09:34.731770",
     "status": "completed"
    },
    "tags": []
   },
   "outputs": [],
   "source": [
    "# def cost_function(a2, y):\n",
    "    \n",
    "    ## Your Code Here ##\n",
    "     \n",
    "    \n",
    "    ## Code Ends ##"
   ]
  },
  {
   "cell_type": "markdown",
   "id": "ff4e1cf0",
   "metadata": {
    "papermill": {
     "duration": 0.005806,
     "end_time": "2025-02-20T02:09:34.755981",
     "exception": false,
     "start_time": "2025-02-20T02:09:34.750175",
     "status": "completed"
    },
    "tags": []
   },
   "source": [
    "# Backward Propagation\n",
    "\n",
    "We need to implement the below equations\n",
    "\n",
    "$dZ_2 = ( A_2 - Y )$\n",
    "\n",
    "$ dW_2 = \\frac{1}{m}. dZ_2 . A_2^T$\n",
    "\n",
    "$ dB_2 = \\frac{1}{m}.sum(dZ_2, 1)$\n",
    "\n",
    "\n",
    "\n",
    "$dZ_1 = W_2^T . dZ_2 * f_1^|(Z_1) $\n",
    "\n",
    "$dW_1 = \\frac{1}{m}.dZ_1.A_1^T$\n",
    "\n",
    "$dB_1 = \\frac{1}{m}.sum(dZ_1, 1)$\n",
    "\n",
    "Helper python functions :\n",
    "- A.T returns the transpose of matrix A\n",
    "- np.dot(A, B) returns the matrix multiplication of A and B\n",
    "- A*B returns the element wise multi-plication for A and B\n",
    "- np.sum(A, axis = 1, keepdims = True) return the column-wise sum for a matrix A\n",
    "- np.sum(A, axis = 0, keepdims = True) returns the row-wise sum for a matrix A"
   ]
  },
  {
   "cell_type": "code",
   "execution_count": 13,
   "id": "b13f5188",
   "metadata": {
    "execution": {
     "iopub.execute_input": "2025-02-20T02:09:34.769195Z",
     "iopub.status.busy": "2025-02-20T02:09:34.768875Z",
     "iopub.status.idle": "2025-02-20T02:09:34.772939Z",
     "shell.execute_reply": "2025-02-20T02:09:34.771845Z"
    },
    "papermill": {
     "duration": 0.012776,
     "end_time": "2025-02-20T02:09:34.774728",
     "exception": false,
     "start_time": "2025-02-20T02:09:34.761952",
     "status": "completed"
    },
    "tags": []
   },
   "outputs": [],
   "source": [
    "# def backward_prop(x, y, parameters, forward_cache):\n",
    "    \n",
    "#     m = x.shape[1]\n",
    "    \n",
    "#     # Fetching our parameters\n",
    "#     w1 = parameters['w1']\n",
    "#     b1 = parameters['b1']\n",
    "#     w2 = parameters['w2']\n",
    "#     b2 = parameters['b2'] \n",
    "    \n",
    "#     # Fetching our forward_cache\n",
    "#     a1 = forward_cache['a1']\n",
    "#     a2 = forward_cache['a2']\n",
    "    \n",
    "    \n",
    "#     ## Complete the Code below ##\n",
    "#     dz2 = \n",
    "#     dw2 = \n",
    "#     db2 = \n",
    "    \n",
    "#     dz1 = \n",
    "#     dw1 = \n",
    "#     db1 = \n",
    "#     ## Your Code ends ##\n",
    "    \n",
    "#     ## Returning the Gradients\n",
    "#     gradients = {\n",
    "#         \"dw1\" : dw1,\n",
    "#         \"db1\" : db1,\n",
    "#         \"dw2\" : dw2, \n",
    "#         \"db2\" : db2\n",
    "#     }\n",
    "    \n",
    "#     return gradients"
   ]
  },
  {
   "cell_type": "markdown",
   "id": "c6de84bf",
   "metadata": {
    "papermill": {
     "duration": 0.005811,
     "end_time": "2025-02-20T02:09:34.786907",
     "exception": false,
     "start_time": "2025-02-20T02:09:34.781096",
     "status": "completed"
    },
    "tags": []
   },
   "source": [
    "# Update Parameters"
   ]
  },
  {
   "cell_type": "code",
   "execution_count": 14,
   "id": "3f4bacb8",
   "metadata": {
    "execution": {
     "iopub.execute_input": "2025-02-20T02:09:34.800294Z",
     "iopub.status.busy": "2025-02-20T02:09:34.799946Z",
     "iopub.status.idle": "2025-02-20T02:09:34.803931Z",
     "shell.execute_reply": "2025-02-20T02:09:34.802985Z"
    },
    "papermill": {
     "duration": 0.012493,
     "end_time": "2025-02-20T02:09:34.805413",
     "exception": false,
     "start_time": "2025-02-20T02:09:34.792920",
     "status": "completed"
    },
    "tags": []
   },
   "outputs": [],
   "source": [
    "# def update_parameters(parameters, gradients, learning_rate):\n",
    "    \n",
    "#     # Fetching our parameters\n",
    "#     w1 = parameters['w1']\n",
    "#     b1 = parameters['b1']\n",
    "#     w2 = parameters['w2']\n",
    "#     b2 = parameters['b2'] \n",
    "    \n",
    "#     # Fetching our gradients\n",
    "#     dw1 = gradients['dw1']\n",
    "#     db1 = gradients['db1']\n",
    "#     dw2 = gradients['dw2']\n",
    "#     db2 = gradients['db2']\n",
    "    \n",
    "#     ## Complete the Code below ##\n",
    "#     w1 = \n",
    "#     b1 = \n",
    "#     w2 = \n",
    "#     b2 = \n",
    "#     ## Your code ends ##\n",
    "    \n",
    "#     # Returning the updated parameters\n",
    "#     Parameters = {\n",
    "#         \"w1\" : w1, \n",
    "#         \"b1\" : b1, \n",
    "#         \"w2\" : w2,\n",
    "#         \"b2\" : b2\n",
    "#     }\n",
    "    \n",
    "#     return Parameters"
   ]
  },
  {
   "cell_type": "markdown",
   "id": "7580f133",
   "metadata": {
    "papermill": {
     "duration": 0.005734,
     "end_time": "2025-02-20T02:09:34.817425",
     "exception": false,
     "start_time": "2025-02-20T02:09:34.811691",
     "status": "completed"
    },
    "tags": []
   },
   "source": [
    "# Complete Model\n",
    "\n",
    "Implement the entire Neural Network here\n",
    "\n",
    "### Instructions :\n",
    "\n",
    "We need to initialize parameters once, and after that, we will run the following in a loop:\n",
    "- forward_prop(x, parameters)\n",
    "- cost_function(a2, y)\n",
    "- backward_prop(x, y, parameters, forward_cache)\n",
    "- parameters = update_parameters(parameters, gradients, learning_rate)\n",
    "\n",
    "### Return :\n",
    "- parameters, which will be our trained parameters\n",
    "- cost_list, which contains cost for every iterations."
   ]
  },
  {
   "cell_type": "code",
   "execution_count": 15,
   "id": "71e9a0a3",
   "metadata": {
    "execution": {
     "iopub.execute_input": "2025-02-20T02:09:34.830998Z",
     "iopub.status.busy": "2025-02-20T02:09:34.830665Z",
     "iopub.status.idle": "2025-02-20T02:09:34.834514Z",
     "shell.execute_reply": "2025-02-20T02:09:34.833575Z"
    },
    "papermill": {
     "duration": 0.012553,
     "end_time": "2025-02-20T02:09:34.836105",
     "exception": false,
     "start_time": "2025-02-20T02:09:34.823552",
     "status": "completed"
    },
    "tags": []
   },
   "outputs": [],
   "source": [
    "# def model(x, y, n_h, learning_rate, iterations):\n",
    "    \n",
    "#     ## Complete the Code Below ##\n",
    "#     n_x =                        # must return the number of neurons/features in input layer\n",
    "#     n_y =                        # must return the number of neurons in output layer\n",
    "#     ## Your Code ends ##\n",
    "    \n",
    "#     cost_list = []\n",
    "    \n",
    "#     ## Complete the Code Below ##\n",
    "#     parameters = \n",
    "#     ## Your Code ends ##\n",
    "    \n",
    "#     ## Complete the Code Below ##\n",
    "#     for i in range(          ):\n",
    "        \n",
    "#         # Forward Propagation\n",
    "     \n",
    "#         # Cost Function\n",
    "        \n",
    "#         # Backward propagation\n",
    "        \n",
    "#         # Update Parameters\n",
    "        \n",
    "#         cost_list.append(    )\n",
    "        \n",
    "#         if i%(iterations/10) == 0 :\n",
    "#             print(\"cost after\", i, \"iters is\" ,     cost   )\n",
    "            \n",
    "            \n",
    "#     ## Your Code ends ##\n",
    "    \n",
    "    \n",
    "#     return parameters, cost_list"
   ]
  },
  {
   "cell_type": "code",
   "execution_count": 16,
   "id": "b26f37e6",
   "metadata": {
    "execution": {
     "iopub.execute_input": "2025-02-20T02:09:34.849781Z",
     "iopub.status.busy": "2025-02-20T02:09:34.849344Z",
     "iopub.status.idle": "2025-02-20T02:09:34.853434Z",
     "shell.execute_reply": "2025-02-20T02:09:34.852557Z"
    },
    "papermill": {
     "duration": 0.012729,
     "end_time": "2025-02-20T02:09:34.855018",
     "exception": false,
     "start_time": "2025-02-20T02:09:34.842289",
     "status": "completed"
    },
    "tags": []
   },
   "outputs": [],
   "source": [
    "## Complete the Code Below ##\n",
    "\n",
    "# n_h = \n",
    "# learning_rate = \n",
    "# iterations = \n",
    "\n",
    "## Your Code ends ##\n",
    "\n",
    "# Parameters, Cost_list = model(X, Y, n_h = n_h, learning_rate = learning_rate, iterations = iterations)"
   ]
  },
  {
   "cell_type": "code",
   "execution_count": 17,
   "id": "d2ec73fe",
   "metadata": {
    "execution": {
     "iopub.execute_input": "2025-02-20T02:09:34.868800Z",
     "iopub.status.busy": "2025-02-20T02:09:34.868400Z",
     "iopub.status.idle": "2025-02-20T02:09:34.872252Z",
     "shell.execute_reply": "2025-02-20T02:09:34.871307Z"
    },
    "papermill": {
     "duration": 0.01275,
     "end_time": "2025-02-20T02:09:34.874114",
     "exception": false,
     "start_time": "2025-02-20T02:09:34.861364",
     "status": "completed"
    },
    "tags": []
   },
   "outputs": [],
   "source": [
    "# t = np.arange(0, iterations+1)\n",
    "# plt.plot(t, Cost_list)\n",
    "# plt.show()"
   ]
  },
  {
   "cell_type": "markdown",
   "id": "c9217489",
   "metadata": {
    "papermill": {
     "duration": 0.006343,
     "end_time": "2025-02-20T02:09:34.887002",
     "exception": false,
     "start_time": "2025-02-20T02:09:34.880659",
     "status": "completed"
    },
    "tags": []
   },
   "source": [
    "# Checking Accuracy\n",
    "\n",
    "Run the below cells to check your model Accuracy "
   ]
  },
  {
   "cell_type": "code",
   "execution_count": 18,
   "id": "0180c966",
   "metadata": {
    "execution": {
     "iopub.execute_input": "2025-02-20T02:09:34.901267Z",
     "iopub.status.busy": "2025-02-20T02:09:34.900834Z",
     "iopub.status.idle": "2025-02-20T02:09:34.904944Z",
     "shell.execute_reply": "2025-02-20T02:09:34.903875Z"
    },
    "papermill": {
     "duration": 0.01357,
     "end_time": "2025-02-20T02:09:34.906759",
     "exception": false,
     "start_time": "2025-02-20T02:09:34.893189",
     "status": "completed"
    },
    "tags": []
   },
   "outputs": [],
   "source": [
    "# def accuracy(inp, labels, parameters):\n",
    "#     forward_cache = forward_prop(inp, parameters)\n",
    "#     a_out = forward_cache['a2']   # containes propabilities with shape(10, 1)\n",
    "    \n",
    "#     a_out = np.argmax(a_out, 0)  # 0 represents row wise \n",
    "    \n",
    "#     labels = np.argmax(labels, 0)\n",
    "    \n",
    "#     acc = np.mean(a_out == labels)*100\n",
    "    \n",
    "#     return acc"
   ]
  },
  {
   "cell_type": "code",
   "execution_count": 19,
   "id": "6e7a1669",
   "metadata": {
    "execution": {
     "iopub.execute_input": "2025-02-20T02:09:34.920998Z",
     "iopub.status.busy": "2025-02-20T02:09:34.920564Z",
     "iopub.status.idle": "2025-02-20T02:09:34.924535Z",
     "shell.execute_reply": "2025-02-20T02:09:34.923453Z"
    },
    "papermill": {
     "duration": 0.012989,
     "end_time": "2025-02-20T02:09:34.926195",
     "exception": false,
     "start_time": "2025-02-20T02:09:34.913206",
     "status": "completed"
    },
    "tags": []
   },
   "outputs": [],
   "source": [
    "# print(\"Accuracy of Train Dataset\", accuracy(X_train, Y_train, Parameters), \"%\")\n",
    "# print(\"Accuracy of Test Dataset\", round(accuracy(X_test, Y_test, Parameters), 2), \"%\")"
   ]
  },
  {
   "cell_type": "code",
   "execution_count": 20,
   "id": "41e09e9b",
   "metadata": {
    "execution": {
     "iopub.execute_input": "2025-02-20T02:09:34.940541Z",
     "iopub.status.busy": "2025-02-20T02:09:34.940165Z",
     "iopub.status.idle": "2025-02-20T02:09:34.944084Z",
     "shell.execute_reply": "2025-02-20T02:09:34.943040Z"
    },
    "papermill": {
     "duration": 0.012992,
     "end_time": "2025-02-20T02:09:34.945793",
     "exception": false,
     "start_time": "2025-02-20T02:09:34.932801",
     "status": "completed"
    },
    "tags": []
   },
   "outputs": [],
   "source": [
    "# idx = int(random.randrange(0,X_test.shape[1]))\n",
    "# plt.imshow(X_test[:, idx].reshape((28,28)),cmap='gray')\n",
    "# plt.show()\n",
    "\n",
    "# cache = forward_prop(X_test[:, idx].reshape(X_test[:, idx].shape[0], 1), Parameters)\n",
    "# a_pred = cache['a2']  \n",
    "# a_pred = np.argmax(a_pred, 0)\n",
    "\n",
    "# print(\"Our model says it is :\", a_pred[0])"
   ]
  },
  {
   "cell_type": "code",
   "execution_count": null,
   "id": "c7edcf0d",
   "metadata": {
    "papermill": {
     "duration": 0.006184,
     "end_time": "2025-02-20T02:09:34.958563",
     "exception": false,
     "start_time": "2025-02-20T02:09:34.952379",
     "status": "completed"
    },
    "tags": []
   },
   "outputs": [],
   "source": []
  }
 ],
 "metadata": {
  "kaggle": {
   "accelerator": "none",
   "dataSources": [
    {
     "datasetId": 6702547,
     "sourceId": 10799257,
     "sourceType": "datasetVersion"
    }
   ],
   "isGpuEnabled": false,
   "isInternetEnabled": false,
   "language": "python",
   "sourceType": "notebook"
  },
  "kernelspec": {
   "display_name": "Python 3",
   "language": "python",
   "name": "python3"
  },
  "language_info": {
   "codemirror_mode": {
    "name": "ipython",
    "version": 3
   },
   "file_extension": ".py",
   "mimetype": "text/x-python",
   "name": "python",
   "nbconvert_exporter": "python",
   "pygments_lexer": "ipython3",
   "version": "3.10.12"
  },
  "papermill": {
   "default_parameters": {},
   "duration": 4.184855,
   "end_time": "2025-02-20T02:09:35.484748",
   "environment_variables": {},
   "exception": null,
   "input_path": "__notebook__.ipynb",
   "output_path": "__notebook__.ipynb",
   "parameters": {},
   "start_time": "2025-02-20T02:09:31.299893",
   "version": "2.6.0"
  }
 },
 "nbformat": 4,
 "nbformat_minor": 5
}
