{
 "cells": [
  {
   "cell_type": "markdown",
   "id": "163c537e",
   "metadata": {
    "papermill": {
     "duration": 0.006517,
     "end_time": "2025-02-20T04:21:09.602724",
     "exception": false,
     "start_time": "2025-02-20T04:21:09.596207",
     "status": "completed"
    },
    "tags": []
   },
   "source": [
    "#### Importing Libraries"
   ]
  },
  {
   "cell_type": "code",
   "execution_count": 1,
   "id": "32811f23",
   "metadata": {
    "execution": {
     "iopub.execute_input": "2025-02-20T04:21:09.617069Z",
     "iopub.status.busy": "2025-02-20T04:21:09.616516Z",
     "iopub.status.idle": "2025-02-20T04:21:09.623719Z",
     "shell.execute_reply": "2025-02-20T04:21:09.622233Z"
    },
    "papermill": {
     "duration": 0.016656,
     "end_time": "2025-02-20T04:21:09.625550",
     "exception": false,
     "start_time": "2025-02-20T04:21:09.608894",
     "status": "completed"
    },
    "tags": []
   },
   "outputs": [],
   "source": [
    "import numpy as np\n",
    "import matplotlib.pyplot as plt\n",
    "import random"
   ]
  },
  {
   "cell_type": "markdown",
   "id": "5d5188c2",
   "metadata": {
    "papermill": {
     "duration": 0.007575,
     "end_time": "2025-02-20T04:21:09.644476",
     "exception": false,
     "start_time": "2025-02-20T04:21:09.636901",
     "status": "completed"
    },
    "tags": []
   },
   "source": [
    "# Importing Datasets\n",
    "\n",
    "I have already imported the dataset. If you want to use a different dataset, then you can give its path down below.\n",
    "\n",
    "The shape of X should be (n, m),\n",
    "And that of Y should be (10, m)\n",
    "\n",
    "Here, \n",
    "- n = total number of features\n",
    "- m = total number of observations in our dataset\n",
    "- 10 = number of output classes"
   ]
  },
  {
   "cell_type": "code",
   "execution_count": 2,
   "id": "0da45732",
   "metadata": {
    "execution": {
     "iopub.execute_input": "2025-02-20T04:21:09.665095Z",
     "iopub.status.busy": "2025-02-20T04:21:09.664606Z",
     "iopub.status.idle": "2025-02-20T04:21:09.751981Z",
     "shell.execute_reply": "2025-02-20T04:21:09.750826Z"
    },
    "papermill": {
     "duration": 0.099418,
     "end_time": "2025-02-20T04:21:09.754054",
     "exception": false,
     "start_time": "2025-02-20T04:21:09.654636",
     "status": "completed"
    },
    "tags": []
   },
   "outputs": [],
   "source": [
    "X_train = np.loadtxt('/kaggle/input/handwrittendataset/train_X.csv', delimiter = ',')\n",
    "Y_train = np.loadtxt('/kaggle/input/handwrittendataset/train_label.csv', delimiter = ',')\n",
    "\n",
    "X_train = X_train.T\n",
    "Y_train = Y_train.T"
   ]
  },
  {
   "cell_type": "code",
   "execution_count": 3,
   "id": "a76a6b56",
   "metadata": {
    "execution": {
     "iopub.execute_input": "2025-02-20T04:21:09.768109Z",
     "iopub.status.busy": "2025-02-20T04:21:09.767525Z",
     "iopub.status.idle": "2025-02-20T04:21:09.809146Z",
     "shell.execute_reply": "2025-02-20T04:21:09.808019Z"
    },
    "papermill": {
     "duration": 0.05117,
     "end_time": "2025-02-20T04:21:09.811416",
     "exception": false,
     "start_time": "2025-02-20T04:21:09.760246",
     "status": "completed"
    },
    "tags": []
   },
   "outputs": [],
   "source": [
    "X_test = np.loadtxt('/kaggle/input/handwrittendataset/test_X.csv', delimiter = ',')\n",
    "Y_test = np.loadtxt('/kaggle/input/handwrittendataset/test_label.csv', delimiter = ',')\n",
    "\n",
    "X_test = X_test.T\n",
    "Y_test = Y_test.T"
   ]
  },
  {
   "cell_type": "code",
   "execution_count": 4,
   "id": "e23ffcca",
   "metadata": {
    "execution": {
     "iopub.execute_input": "2025-02-20T04:21:09.835204Z",
     "iopub.status.busy": "2025-02-20T04:21:09.834725Z",
     "iopub.status.idle": "2025-02-20T04:21:09.847676Z",
     "shell.execute_reply": "2025-02-20T04:21:09.846597Z"
    },
    "papermill": {
     "duration": 0.027544,
     "end_time": "2025-02-20T04:21:09.850049",
     "exception": false,
     "start_time": "2025-02-20T04:21:09.822505",
     "status": "completed"
    },
    "tags": []
   },
   "outputs": [
    {
     "name": "stdout",
     "output_type": "stream",
     "text": [
      "shape of X_train :  (784, 1000)\n",
      "shape of Y_train :  (10, 1000)\n",
      "shape of X_test :  (784, 350)\n",
      "shape of Y_test :  (10, 350)\n"
     ]
    }
   ],
   "source": [
    "print(\"shape of X_train : \", X_train.shape)\n",
    "print(\"shape of Y_train : \", Y_train.shape)\n",
    "\n",
    "print(\"shape of X_test : \", X_test.shape)\n",
    "print(\"shape of Y_test : \", Y_test.shape)"
   ]
  },
  {
   "cell_type": "markdown",
   "id": "55883b3f",
   "metadata": {
    "papermill": {
     "duration": 0.005868,
     "end_time": "2025-02-20T04:21:09.862567",
     "exception": false,
     "start_time": "2025-02-20T04:21:09.856699",
     "status": "completed"
    },
    "tags": []
   },
   "source": [
    "### Visualizing our Dataset\n",
    "\n",
    "Our dataset is in the form of numbers. So, to visualize it properly, we will display it in the form of image"
   ]
  },
  {
   "cell_type": "code",
   "execution_count": 5,
   "id": "12c52dfe",
   "metadata": {
    "execution": {
     "iopub.execute_input": "2025-02-20T04:21:09.876361Z",
     "iopub.status.busy": "2025-02-20T04:21:09.875892Z",
     "iopub.status.idle": "2025-02-20T04:21:10.207130Z",
     "shell.execute_reply": "2025-02-20T04:21:10.205883Z"
    },
    "papermill": {
     "duration": 0.340568,
     "end_time": "2025-02-20T04:21:10.209112",
     "exception": false,
     "start_time": "2025-02-20T04:21:09.868544",
     "status": "completed"
    },
    "tags": []
   },
   "outputs": [
    {
     "data": {
      "image/png": "[encoded data removed]",
      "text/plain": [
       "<Figure size 640x480 with 1 Axes>"
      ]
     },
     "metadata": {},
     "output_type": "display_data"
    }
   ],
   "source": [
    "index = int(random.randrange(0,X_train.shape[1]))\n",
    "plt.imshow(X_train[:, index].reshape((28,28)),cmap='gray')\n",
    "plt.show()"
   ]
  },
  {
   "cell_type": "markdown",
   "id": "3f0c1a16",
   "metadata": {
    "papermill": {
     "duration": 0.006253,
     "end_time": "2025-02-20T04:21:10.221888",
     "exception": false,
     "start_time": "2025-02-20T04:21:10.215635",
     "status": "completed"
    },
    "tags": []
   },
   "source": [
    "# Model\n",
    "\n",
    "![nn](Images/nn.png)\n",
    "\n",
    "## Initialize parameters Randomly\n",
    "$ W_1 = np.random.randn(n_1, n_0) $\n",
    "\n",
    "$ b_1 = np.zeros((n_1, 1))$\n",
    "\n",
    "$ W_2 = np.random.randn(n_2, n_1) $\n",
    "\n",
    "$ b_2 = np.zeros((n_2, 1))$\n",
    "\n",
    "\n",
    "## *Repeat Below Steps for many times : *\n",
    "\n",
    "\n",
    "## Forward Propagation \n",
    "\n",
    "$ Z_1 = W_1 * X + B_1 $\n",
    "\n",
    "$ A_1 = f ( Z_1 ) $  \n",
    "\n",
    "$ Z_2 = W2 * A_1 + B_2 $\n",
    "\n",
    "$ A_2 = Softmax( Z_2 ) $\n",
    "\n",
    "## Softmax \n",
    "\n",
    "$ a_i = \\frac{e^{z_i}}{\\sum_{i=k}^ne^{z_k}}$\n",
    "\n",
    "\n",
    "## Cost Function \n",
    "\n",
    "$Loss = - \\sum_{i=k}^{n}[ y_k*log(a_k) ]$\n",
    "\n",
    "$Cost = - \\frac{1}{m}\\sum_{i=1}^{m}\\sum_{k=1}^{n}[ y_k*log(a_k) ]$\n",
    "\n",
    "\n",
    "\n",
    "## Backward Propagation\n",
    "$dZ_2 = ( A_2 - Y )$\n",
    "\n",
    "$ dW_2 = \\frac{1}{m}. dZ_2 . A_1^T$\n",
    "\n",
    "$ dB_2 = \\frac{1}{m}.sum(dZ_2, 1)$\n",
    "\n",
    "\n",
    "\n",
    "$dZ_1 = W_2^T . dZ_2 * f_1^|(Z_1) $\n",
    "\n",
    "$dW_1 = \\frac{1}{m}.dZ_1.X^T$\n",
    "\n",
    "$dB_1 = \\frac{1}{m}.sum(dZ_1, 1)$\n",
    "\n",
    "\n",
    "## Updating Parameters\n",
    "\n",
    "$ W_2 = W_2 -  \\alpha * \\frac{\\partial Cost }{\\partial W_2}$ \n",
    "\n",
    "$ B_2 = B_2 -  \\alpha * \\frac{\\partial Cost }{\\partial B_2}$ \n",
    "\n",
    "$ W_1 = W_1 -  \\alpha * \\frac{\\partial Cost }{\\partial W_1}$ \n",
    "\n",
    "$ B_1 = B_1 -  \\alpha * \\frac{\\partial Cost }{\\partial B_1}$ \n"
   ]
  },
  {
   "cell_type": "markdown",
   "id": "a453e0a9",
   "metadata": {
    "papermill": {
     "duration": 0.006081,
     "end_time": "2025-02-20T04:21:10.234437",
     "exception": false,
     "start_time": "2025-02-20T04:21:10.228356",
     "status": "completed"
    },
    "tags": []
   },
   "source": [
    "# Activation Functions\n",
    "\n",
    "***Now, its your time to implement !***\n",
    "\n",
    "Complete the below functions for Activations."
   ]
  },
  {
   "cell_type": "code",
   "execution_count": 6,
   "id": "0fd6e719",
   "metadata": {
    "execution": {
     "iopub.execute_input": "2025-02-20T04:21:10.248978Z",
     "iopub.status.busy": "2025-02-20T04:21:10.248506Z",
     "iopub.status.idle": "2025-02-20T04:21:10.253560Z",
     "shell.execute_reply": "2025-02-20T04:21:10.252535Z"
    },
    "papermill": {
     "duration": 0.014509,
     "end_time": "2025-02-20T04:21:10.255326",
     "exception": false,
     "start_time": "2025-02-20T04:21:10.240817",
     "status": "completed"
    },
    "tags": []
   },
   "outputs": [],
   "source": [
    "def tanh(x):\n",
    "    return np.tanh(x)"
   ]
  },
  {
   "cell_type": "code",
   "execution_count": 7,
   "id": "3726ec10",
   "metadata": {
    "execution": {
     "iopub.execute_input": "2025-02-20T04:21:10.269707Z",
     "iopub.status.busy": "2025-02-20T04:21:10.269257Z",
     "iopub.status.idle": "2025-02-20T04:21:10.274284Z",
     "shell.execute_reply": "2025-02-20T04:21:10.273101Z"
    },
    "papermill": {
     "duration": 0.014254,
     "end_time": "2025-02-20T04:21:10.276131",
     "exception": false,
     "start_time": "2025-02-20T04:21:10.261877",
     "status": "completed"
    },
    "tags": []
   },
   "outputs": [],
   "source": [
    "def relu(x):\n",
    "    return np.maximum(x,0)"
   ]
  },
  {
   "cell_type": "code",
   "execution_count": 8,
   "id": "0b4410c0",
   "metadata": {
    "execution": {
     "iopub.execute_input": "2025-02-20T04:21:10.290818Z",
     "iopub.status.busy": "2025-02-20T04:21:10.290411Z",
     "iopub.status.idle": "2025-02-20T04:21:10.294885Z",
     "shell.execute_reply": "2025-02-20T04:21:10.293819Z"
    },
    "papermill": {
     "duration": 0.01348,
     "end_time": "2025-02-20T04:21:10.296770",
     "exception": false,
     "start_time": "2025-02-20T04:21:10.283290",
     "status": "completed"
    },
    "tags": []
   },
   "outputs": [],
   "source": [
    "def softmax(z):\n",
    "    expX = np.exp(x)\n",
    "    return expX/np.sum(expX)"
   ]
  },
  {
   "cell_type": "markdown",
   "id": "442bd01b",
   "metadata": {
    "papermill": {
     "duration": 0.00727,
     "end_time": "2025-02-20T04:21:10.311396",
     "exception": false,
     "start_time": "2025-02-20T04:21:10.304126",
     "status": "completed"
    },
    "tags": []
   },
   "source": [
    "The function *derivative_tanh* must return the derivative of tanh.\n",
    "The function *derivative_relu* must return the derivative of ReLU\n",
    "\n",
    "\n",
    "Also note, I made a small mistake in video. derivative of tanh is given by 1 - tanh^2(x).\n",
    "\n",
    "\n",
    "so, derivative_tanh(x):\n",
    "\n",
    "return 1 - np.power(np.tanh(x), 2)"
   ]
  },
  {
   "cell_type": "code",
   "execution_count": 9,
   "id": "67004365",
   "metadata": {
    "execution": {
     "iopub.execute_input": "2025-02-20T04:21:10.325890Z",
     "iopub.status.busy": "2025-02-20T04:21:10.325416Z",
     "iopub.status.idle": "2025-02-20T04:21:10.331252Z",
     "shell.execute_reply": "2025-02-20T04:21:10.330176Z"
    },
    "papermill": {
     "duration": 0.014923,
     "end_time": "2025-02-20T04:21:10.333059",
     "exception": false,
     "start_time": "2025-02-20T04:21:10.318136",
     "status": "completed"
    },
    "tags": []
   },
   "outputs": [],
   "source": [
    "def derivative_tanh(x):\n",
    "    return (1-np.power(np.tanh(x),2))\n",
    "\n",
    "def derivative_relu(x):\n",
    "    return np.array(x>0, dtype = np.float32)"
   ]
  },
  {
   "cell_type": "markdown",
   "id": "ff0db2c2",
   "metadata": {
    "papermill": {
     "duration": 0.005984,
     "end_time": "2025-02-20T04:21:10.345517",
     "exception": false,
     "start_time": "2025-02-20T04:21:10.339533",
     "status": "completed"
    },
    "tags": []
   },
   "source": [
    "# Initialize Parameters\n",
    "\n",
    "We need to initialize the **W** parameters randomly, and **B** with zeros\n",
    "\n",
    "- np.random.randn(a, b) return a numpy array of shape(a, b) with small random values\n",
    "- For making the values small, we multiply 0.01\n",
    "- np.zeros((a, b) return a numpy array of shape(a, b) with zeros \n",
    "\n",
    "### Why need small weights W?\n",
    "If we initialize weights will large values, then Z = W * X + B, will be large. For functions like tanh and sigmoid, the slope becomes very less for large Z value, thus learning can be very slow.\n",
    "\n",
    "#### Remember, we had an increase in the cost function at the beginning while training the model with ReLU activation function?\n",
    "It is because our weights were still very large and it was creating problem for training our model.\n",
    "\n",
    "Multiply weights with 0.001 instead of 0.01, and you will see that the graph becomes normal, with a smooth decrease in cost value.\n",
    "\n",
    "There are many weight initialization techniques available as well, to solve other such problems. We will learn those in the upcoming videos.\n",
    "\n",
    "Now, We need to return a dictionary containing all the parameters.\n",
    "\n",
    "More about np.random.randn here : https://numpy.org/doc/stable/reference/random/generated/numpy.random.randn.html"
   ]
  },
  {
   "cell_type": "code",
   "execution_count": 10,
   "id": "eea03dcb",
   "metadata": {
    "execution": {
     "iopub.execute_input": "2025-02-20T04:21:10.359469Z",
     "iopub.status.busy": "2025-02-20T04:21:10.359017Z",
     "iopub.status.idle": "2025-02-20T04:21:10.365842Z",
     "shell.execute_reply": "2025-02-20T04:21:10.364685Z"
    },
    "papermill": {
     "duration": 0.016015,
     "end_time": "2025-02-20T04:21:10.367694",
     "exception": false,
     "start_time": "2025-02-20T04:21:10.351679",
     "status": "completed"
    },
    "tags": []
   },
   "outputs": [],
   "source": [
    "def initialize_parameters(n_x, n_h, n_y):\n",
    "    \n",
    "    ## Complete the code below ##\n",
    "    w1 = np.random.rand(n_h,n_x)*0.01\n",
    "    b1 = np.zeros(n_h,1)\n",
    "    w2 = np.random.rand(n_y,n_y)\n",
    "    b2 = np.zeros(n_y,1)\n",
    "    ## Your Code ends ##\n",
    "    \n",
    "    parameters = {\n",
    "        \"w1\" : w1, \n",
    "        \"b1\" : b1, \n",
    "        \"w2\" : w2,\n",
    "        \"b2\" : b2\n",
    "    }\n",
    "    \n",
    "    return parameters"
   ]
  },
  {
   "cell_type": "markdown",
   "id": "8cc968b8",
   "metadata": {
    "papermill": {
     "duration": 0.006066,
     "end_time": "2025-02-20T04:21:10.380156",
     "exception": false,
     "start_time": "2025-02-20T04:21:10.374090",
     "status": "completed"
    },
    "tags": []
   },
   "source": [
    "# Forward Propagation\n",
    "\n",
    "We need to impletement the following equation for forward propagation :\n",
    "\n",
    "$ Z_1 = W_1 * X + B_1 $\n",
    "\n",
    "$ A_1 = f ( Z_1 ) $  \n",
    "\n",
    "$ Z_2 = W2 * A_1 + B_2 $\n",
    "\n",
    "$ A_2 = Softmax( Z_2 ) $\n",
    "\n",
    "For f(x), you can use either tanh or ReLU activation function. \n",
    "\n",
    "But also use the same for Backpropagation as well"
   ]
  },
  {
   "cell_type": "code",
   "execution_count": 11,
   "id": "dc74d080",
   "metadata": {
    "execution": {
     "iopub.execute_input": "2025-02-20T04:21:10.394317Z",
     "iopub.status.busy": "2025-02-20T04:21:10.393837Z",
     "iopub.status.idle": "2025-02-20T04:21:10.401082Z",
     "shell.execute_reply": "2025-02-20T04:21:10.399886Z"
    },
    "papermill": {
     "duration": 0.01663,
     "end_time": "2025-02-20T04:21:10.403185",
     "exception": false,
     "start_time": "2025-02-20T04:21:10.386555",
     "status": "completed"
    },
    "tags": []
   },
   "outputs": [],
   "source": [
    "def forward_prop(x, parameters):\n",
    "    \n",
    "    # To fetch the parameters\n",
    "    w1 = parameters['w1']\n",
    "    b1 = parameters['b1']\n",
    "    w2 = parameters['w2']\n",
    "    b2 = parameters['b2']\n",
    "    \n",
    "    ## Complete the Code below : ##\n",
    "    z1 = np.dot(w1,x) + b1\n",
    "    a1 = relu(z1)\n",
    "    z2 = np.dot(w2,a1) + b2\n",
    "    a2 = softmax(z2)\n",
    "    ## Your Code ends ##\n",
    "    \n",
    "    # To return our Zs and As\n",
    "    forward_cache = {\n",
    "        \"z1\" : z1,\n",
    "        \"a1\" : a1,\n",
    "        \"z2\" : z2,\n",
    "        \"a2\" : a2\n",
    "    }\n",
    "    \n",
    "    return forward_cache"
   ]
  },
  {
   "cell_type": "markdown",
   "id": "086448d6",
   "metadata": {
    "papermill": {
     "duration": 0.00634,
     "end_time": "2025-02-20T04:21:10.415879",
     "exception": false,
     "start_time": "2025-02-20T04:21:10.409539",
     "status": "completed"
    },
    "tags": []
   },
   "source": [
    "# Cost Function\n",
    "\n",
    "$Loss = - \\sum_{k=1}^{n}[ y_k*log(a_k) ]$ .. *for 1 observation*\n",
    "\n",
    "$Cost = - \\frac{1}{m}\\sum_{i=1}^{m}\\sum_{k=1}^{n}[ y_k*log(a_k) ]$  .. *for all m observations*\n",
    "\n",
    "You need to return the cost in the below function\n",
    "\n",
    "You can use np.sum()\n",
    "- np.sum(A, axis = 1, keepdims = True) return the column-wise sum for a matrix A\n",
    "- np.sum(A, axis = 0, keepdims = True) returns the row-wise sum for a matrix A\n",
    "- np.sum(A) returns the summation of all the elements of A\n",
    "\n",
    "*keepdims = True keeps the dimenstion in place. In certain cases, the returned sum can be of shape(m,) instead of shape(m, 1).\n",
    "So, keepdims = True forces it to return the sum in shape(m, 1) instead of shape(m,)*\n",
    "\n",
    "\n",
    "More about np.sum() here : https://numpy.org/doc/stable/reference/generated/numpy.sum.html"
   ]
  },
  {
   "cell_type": "code",
   "execution_count": 12,
   "id": "1abc90c7",
   "metadata": {
    "execution": {
     "iopub.execute_input": "2025-02-20T04:21:10.429579Z",
     "iopub.status.busy": "2025-02-20T04:21:10.429223Z",
     "iopub.status.idle": "2025-02-20T04:21:10.433839Z",
     "shell.execute_reply": "2025-02-20T04:21:10.432744Z"
    },
    "papermill": {
     "duration": 0.013498,
     "end_time": "2025-02-20T04:21:10.435626",
     "exception": false,
     "start_time": "2025-02-20T04:21:10.422128",
     "status": "completed"
    },
    "tags": []
   },
   "outputs": [],
   "source": [
    "def cost_function(a2, y):\n",
    "    m = y.shape[1]\n",
    "    cost = -(1/m)*np.sum(y*np.log(a2))\n",
    "    return cost"
   ]
  },
  {
   "cell_type": "markdown",
   "id": "d8585e26",
   "metadata": {
    "papermill": {
     "duration": 0.005967,
     "end_time": "2025-02-20T04:21:10.448095",
     "exception": false,
     "start_time": "2025-02-20T04:21:10.442128",
     "status": "completed"
    },
    "tags": []
   },
   "source": [
    "# Backward Propagation\n",
    "\n",
    "We need to implement the below equations\n",
    "\n",
    "$dZ_2 = ( A_2 - Y )$\n",
    "\n",
    "$ dW_2 = \\frac{1}{m}. dZ_2 . A_2^T$\n",
    "\n",
    "$ dB_2 = \\frac{1}{m}.sum(dZ_2, 1)$\n",
    "\n",
    "\n",
    "\n",
    "$dZ_1 = W_2^T . dZ_2 * f_1^|(Z_1) $\n",
    "\n",
    "$dW_1 = \\frac{1}{m}.dZ_1.A_1^T$\n",
    "\n",
    "$dB_1 = \\frac{1}{m}.sum(dZ_1, 1)$\n",
    "\n",
    "Helper python functions :\n",
    "- A.T returns the transpose of matrix A\n",
    "- np.dot(A, B) returns the matrix multiplication of A and B\n",
    "- A*B returns the element wise multi-plication for A and B\n",
    "- np.sum(A, axis = 1, keepdims = True) return the column-wise sum for a matrix A\n",
    "- np.sum(A, axis = 0, keepdims = True) returns the row-wise sum for a matrix A"
   ]
  },
  {
   "cell_type": "code",
   "execution_count": 13,
   "id": "c99b262f",
   "metadata": {
    "execution": {
     "iopub.execute_input": "2025-02-20T04:21:10.461937Z",
     "iopub.status.busy": "2025-02-20T04:21:10.461461Z",
     "iopub.status.idle": "2025-02-20T04:21:10.466403Z",
     "shell.execute_reply": "2025-02-20T04:21:10.465372Z"
    },
    "papermill": {
     "duration": 0.01386,
     "end_time": "2025-02-20T04:21:10.468042",
     "exception": false,
     "start_time": "2025-02-20T04:21:10.454182",
     "status": "completed"
    },
    "tags": []
   },
   "outputs": [],
   "source": [
    "# def backward_prop(x, y, parameters, forward_cache):\n",
    "    \n",
    "#     m = x.shape[1]\n",
    "    \n",
    "#     # Fetching our parameters\n",
    "#     w1 = parameters['w1']\n",
    "#     b1 = parameters['b1']\n",
    "#     w2 = parameters['w2']\n",
    "#     b2 = parameters['b2'] \n",
    "    \n",
    "#     # Fetching our forward_cache\n",
    "#     a1 = forward_cache['a1']\n",
    "#     a2 = forward_cache['a2']\n",
    "    \n",
    "    \n",
    "#     ## Complete the Code below ##\n",
    "#     dz2 = \n",
    "#     dw2 = \n",
    "#     db2 = \n",
    "    \n",
    "#     dz1 = \n",
    "#     dw1 = \n",
    "#     db1 = \n",
    "#     ## Your Code ends ##\n",
    "    \n",
    "#     ## Returning the Gradients\n",
    "#     gradients = {\n",
    "#         \"dw1\" : dw1,\n",
    "#         \"db1\" : db1,\n",
    "#         \"dw2\" : dw2, \n",
    "#         \"db2\" : db2\n",
    "#     }\n",
    "    \n",
    "#     return gradients"
   ]
  },
  {
   "cell_type": "markdown",
   "id": "faf799a2",
   "metadata": {
    "papermill": {
     "duration": 0.006066,
     "end_time": "2025-02-20T04:21:10.480491",
     "exception": false,
     "start_time": "2025-02-20T04:21:10.474425",
     "status": "completed"
    },
    "tags": []
   },
   "source": [
    "# Update Parameters"
   ]
  },
  {
   "cell_type": "code",
   "execution_count": 14,
   "id": "f2b93b81",
   "metadata": {
    "execution": {
     "iopub.execute_input": "2025-02-20T04:21:10.494681Z",
     "iopub.status.busy": "2025-02-20T04:21:10.494245Z",
     "iopub.status.idle": "2025-02-20T04:21:10.499188Z",
     "shell.execute_reply": "2025-02-20T04:21:10.498096Z"
    },
    "papermill": {
     "duration": 0.014073,
     "end_time": "2025-02-20T04:21:10.500986",
     "exception": false,
     "start_time": "2025-02-20T04:21:10.486913",
     "status": "completed"
    },
    "tags": []
   },
   "outputs": [],
   "source": [
    "# def update_parameters(parameters, gradients, learning_rate):\n",
    "    \n",
    "#     # Fetching our parameters\n",
    "#     w1 = parameters['w1']\n",
    "#     b1 = parameters['b1']\n",
    "#     w2 = parameters['w2']\n",
    "#     b2 = parameters['b2'] \n",
    "    \n",
    "#     # Fetching our gradients\n",
    "#     dw1 = gradients['dw1']\n",
    "#     db1 = gradients['db1']\n",
    "#     dw2 = gradients['dw2']\n",
    "#     db2 = gradients['db2']\n",
    "    \n",
    "#     ## Complete the Code below ##\n",
    "#     w1 = \n",
    "#     b1 = \n",
    "#     w2 = \n",
    "#     b2 = \n",
    "#     ## Your code ends ##\n",
    "    \n",
    "#     # Returning the updated parameters\n",
    "#     Parameters = {\n",
    "#         \"w1\" : w1, \n",
    "#         \"b1\" : b1, \n",
    "#         \"w2\" : w2,\n",
    "#         \"b2\" : b2\n",
    "#     }\n",
    "    \n",
    "#     return Parameters"
   ]
  },
  {
   "cell_type": "markdown",
   "id": "3df6e5a1",
   "metadata": {
    "papermill": {
     "duration": 0.006139,
     "end_time": "2025-02-20T04:21:10.513681",
     "exception": false,
     "start_time": "2025-02-20T04:21:10.507542",
     "status": "completed"
    },
    "tags": []
   },
   "source": [
    "# Complete Model\n",
    "\n",
    "Implement the entire Neural Network here\n",
    "\n",
    "### Instructions :\n",
    "\n",
    "We need to initialize parameters once, and after that, we will run the following in a loop:\n",
    "- forward_prop(x, parameters)\n",
    "- cost_function(a2, y)\n",
    "- backward_prop(x, y, parameters, forward_cache)\n",
    "- parameters = update_parameters(parameters, gradients, learning_rate)\n",
    "\n",
    "### Return :\n",
    "- parameters, which will be our trained parameters\n",
    "- cost_list, which contains cost for every iterations."
   ]
  },
  {
   "cell_type": "code",
   "execution_count": 15,
   "id": "78f8a519",
   "metadata": {
    "execution": {
     "iopub.execute_input": "2025-02-20T04:21:10.527844Z",
     "iopub.status.busy": "2025-02-20T04:21:10.527377Z",
     "iopub.status.idle": "2025-02-20T04:21:10.532229Z",
     "shell.execute_reply": "2025-02-20T04:21:10.531225Z"
    },
    "papermill": {
     "duration": 0.014083,
     "end_time": "2025-02-20T04:21:10.534189",
     "exception": false,
     "start_time": "2025-02-20T04:21:10.520106",
     "status": "completed"
    },
    "tags": []
   },
   "outputs": [],
   "source": [
    "# def model(x, y, n_h, learning_rate, iterations):\n",
    "    \n",
    "#     ## Complete the Code Below ##\n",
    "#     n_x =                        # must return the number of neurons/features in input layer\n",
    "#     n_y =                        # must return the number of neurons in output layer\n",
    "#     ## Your Code ends ##\n",
    "    \n",
    "#     cost_list = []\n",
    "    \n",
    "#     ## Complete the Code Below ##\n",
    "#     parameters = \n",
    "#     ## Your Code ends ##\n",
    "    \n",
    "#     ## Complete the Code Below ##\n",
    "#     for i in range(          ):\n",
    "        \n",
    "#         # Forward Propagation\n",
    "     \n",
    "#         # Cost Function\n",
    "        \n",
    "#         # Backward propagation\n",
    "        \n",
    "#         # Update Parameters\n",
    "        \n",
    "#         cost_list.append(    )\n",
    "        \n",
    "#         if i%(iterations/10) == 0 :\n",
    "#             print(\"cost after\", i, \"iters is\" ,     cost   )\n",
    "            \n",
    "            \n",
    "#     ## Your Code ends ##\n",
    "    \n",
    "    \n",
    "#     return parameters, cost_list"
   ]
  },
  {
   "cell_type": "code",
   "execution_count": 16,
   "id": "f95e035c",
   "metadata": {
    "execution": {
     "iopub.execute_input": "2025-02-20T04:21:10.548950Z",
     "iopub.status.busy": "2025-02-20T04:21:10.548563Z",
     "iopub.status.idle": "2025-02-20T04:21:10.552419Z",
     "shell.execute_reply": "2025-02-20T04:21:10.551378Z"
    },
    "papermill": {
     "duration": 0.013694,
     "end_time": "2025-02-20T04:21:10.554560",
     "exception": false,
     "start_time": "2025-02-20T04:21:10.540866",
     "status": "completed"
    },
    "tags": []
   },
   "outputs": [],
   "source": [
    "## Complete the Code Below ##\n",
    "\n",
    "# n_h = \n",
    "# learning_rate = \n",
    "# iterations = \n",
    "\n",
    "## Your Code ends ##\n",
    "\n",
    "# Parameters, Cost_list = model(X, Y, n_h = n_h, learning_rate = learning_rate, iterations = iterations)"
   ]
  },
  {
   "cell_type": "code",
   "execution_count": 17,
   "id": "8f938d9d",
   "metadata": {
    "execution": {
     "iopub.execute_input": "2025-02-20T04:21:10.579437Z",
     "iopub.status.busy": "2025-02-20T04:21:10.579078Z",
     "iopub.status.idle": "2025-02-20T04:21:10.583033Z",
     "shell.execute_reply": "2025-02-20T04:21:10.581960Z"
    },
    "papermill": {
     "duration": 0.018486,
     "end_time": "2025-02-20T04:21:10.584927",
     "exception": false,
     "start_time": "2025-02-20T04:21:10.566441",
     "status": "completed"
    },
    "tags": []
   },
   "outputs": [],
   "source": [
    "# t = np.arange(0, iterations+1)\n",
    "# plt.plot(t, Cost_list)\n",
    "# plt.show()"
   ]
  },
  {
   "cell_type": "markdown",
   "id": "41e4d2c1",
   "metadata": {
    "papermill": {
     "duration": 0.009554,
     "end_time": "2025-02-20T04:21:10.606332",
     "exception": false,
     "start_time": "2025-02-20T04:21:10.596778",
     "status": "completed"
    },
    "tags": []
   },
   "source": [
    "# Checking Accuracy\n",
    "\n",
    "Run the below cells to check your model Accuracy "
   ]
  },
  {
   "cell_type": "code",
   "execution_count": 18,
   "id": "6a5268bc",
   "metadata": {
    "execution": {
     "iopub.execute_input": "2025-02-20T04:21:10.621053Z",
     "iopub.status.busy": "2025-02-20T04:21:10.620540Z",
     "iopub.status.idle": "2025-02-20T04:21:10.625395Z",
     "shell.execute_reply": "2025-02-20T04:21:10.624247Z"
    },
    "papermill": {
     "duration": 0.014316,
     "end_time": "2025-02-20T04:21:10.627304",
     "exception": false,
     "start_time": "2025-02-20T04:21:10.612988",
     "status": "completed"
    },
    "tags": []
   },
   "outputs": [],
   "source": [
    "# def accuracy(inp, labels, parameters):\n",
    "#     forward_cache = forward_prop(inp, parameters)\n",
    "#     a_out = forward_cache['a2']   # containes propabilities with shape(10, 1)\n",
    "    \n",
    "#     a_out = np.argmax(a_out, 0)  # 0 represents row wise \n",
    "    \n",
    "#     labels = np.argmax(labels, 0)\n",
    "    \n",
    "#     acc = np.mean(a_out == labels)*100\n",
    "    \n",
    "#     return acc"
   ]
  },
  {
   "cell_type": "code",
   "execution_count": 19,
   "id": "268ee093",
   "metadata": {
    "execution": {
     "iopub.execute_input": "2025-02-20T04:21:10.642067Z",
     "iopub.status.busy": "2025-02-20T04:21:10.641648Z",
     "iopub.status.idle": "2025-02-20T04:21:10.645843Z",
     "shell.execute_reply": "2025-02-20T04:21:10.644537Z"
    },
    "papermill": {
     "duration": 0.013475,
     "end_time": "2025-02-20T04:21:10.647572",
     "exception": false,
     "start_time": "2025-02-20T04:21:10.634097",
     "status": "completed"
    },
    "tags": []
   },
   "outputs": [],
   "source": [
    "# print(\"Accuracy of Train Dataset\", accuracy(X_train, Y_train, Parameters), \"%\")\n",
    "# print(\"Accuracy of Test Dataset\", round(accuracy(X_test, Y_test, Parameters), 2), \"%\")"
   ]
  },
  {
   "cell_type": "code",
   "execution_count": 20,
   "id": "dc6d36ad",
   "metadata": {
    "execution": {
     "iopub.execute_input": "2025-02-20T04:21:10.662641Z",
     "iopub.status.busy": "2025-02-20T04:21:10.662179Z",
     "iopub.status.idle": "2025-02-20T04:21:10.666809Z",
     "shell.execute_reply": "2025-02-20T04:21:10.665666Z"
    },
    "papermill": {
     "duration": 0.014291,
     "end_time": "2025-02-20T04:21:10.668747",
     "exception": false,
     "start_time": "2025-02-20T04:21:10.654456",
     "status": "completed"
    },
    "tags": []
   },
   "outputs": [],
   "source": [
    "# idx = int(random.randrange(0,X_test.shape[1]))\n",
    "# plt.imshow(X_test[:, idx].reshape((28,28)),cmap='gray')\n",
    "# plt.show()\n",
    "\n",
    "# cache = forward_prop(X_test[:, idx].reshape(X_test[:, idx].shape[0], 1), Parameters)\n",
    "# a_pred = cache['a2']  \n",
    "# a_pred = np.argmax(a_pred, 0)\n",
    "\n",
    "# print(\"Our model says it is :\", a_pred[0])"
   ]
  },
  {
   "cell_type": "code",
   "execution_count": null,
   "id": "caed5900",
   "metadata": {
    "papermill": {
     "duration": 0.008907,
     "end_time": "2025-02-20T04:21:10.689906",
     "exception": false,
     "start_time": "2025-02-20T04:21:10.680999",
     "status": "completed"
    },
    "tags": []
   },
   "outputs": [],
   "source": []
  }
 ],
 "metadata": {
  "kaggle": {
   "accelerator": "none",
   "dataSources": [
    {
     "datasetId": 6702547,
     "sourceId": 10799257,
     "sourceType": "datasetVersion"
    }
   ],
   "dockerImageVersionId": 30886,
   "isGpuEnabled": false,
   "isInternetEnabled": false,
   "language": "python",
   "sourceType": "notebook"
  },
  "kernelspec": {
   "display_name": "Python 3",
   "language": "python",
   "name": "python3"
  },
  "language_info": {
   "codemirror_mode": {
    "name": "ipython",
    "version": 3
   },
   "file_extension": ".py",
   "mimetype": "text/x-python",
   "name": "python",
   "nbconvert_exporter": "python",
   "pygments_lexer": "ipython3",
   "version": "3.10.12"
  },
  "papermill": {
   "default_parameters": {},
   "duration": 4.54516,
   "end_time": "2025-02-20T04:21:11.217907",
   "environment_variables": {},
   "exception": null,
   "input_path": "__notebook__.ipynb",
   "output_path": "__notebook__.ipynb",
   "parameters": {},
   "start_time": "2025-02-20T04:21:06.672747",
   "version": "2.6.0"
  }
 },
 "nbformat": 4,
 "nbformat_minor": 5
}
