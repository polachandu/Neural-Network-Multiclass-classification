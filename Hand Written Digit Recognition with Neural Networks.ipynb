{
 "cells": [
  {
   "cell_type": "markdown",
   "id": "b00b07d9",
   "metadata": {
    "papermill": {
     "duration": 0.006912,
     "end_time": "2025-02-22T04:07:31.881873",
     "exception": false,
     "start_time": "2025-02-22T04:07:31.874961",
     "status": "completed"
    },
    "tags": []
   },
   "source": [
    "#### Importing Libraries"
   ]
  },
  {
   "cell_type": "code",
   "execution_count": 1,
   "id": "a714ad0a",
   "metadata": {
    "execution": {
     "iopub.execute_input": "2025-02-22T04:07:31.895732Z",
     "iopub.status.busy": "2025-02-22T04:07:31.895301Z",
     "iopub.status.idle": "2025-02-22T04:07:31.900397Z",
     "shell.execute_reply": "2025-02-22T04:07:31.899572Z"
    },
    "papermill": {
     "duration": 0.013687,
     "end_time": "2025-02-22T04:07:31.901875",
     "exception": false,
     "start_time": "2025-02-22T04:07:31.888188",
     "status": "completed"
    },
    "tags": []
   },
   "outputs": [],
   "source": [
    "import numpy as np\n",
    "import matplotlib.pyplot as plt\n",
    "import random"
   ]
  },
  {
   "cell_type": "markdown",
   "id": "968b8c26",
   "metadata": {
    "papermill": {
     "duration": 0.005686,
     "end_time": "2025-02-22T04:07:31.913617",
     "exception": false,
     "start_time": "2025-02-22T04:07:31.907931",
     "status": "completed"
    },
    "tags": []
   },
   "source": [
    "# Importing Datasets\n",
    "\n",
    "I have already imported the dataset. If you want to use a different dataset, then you can give its path down below.\n",
    "\n",
    "The shape of X should be (n, m),\n",
    "And that of Y should be (10, m)\n",
    "\n",
    "Here, \n",
    "- n = total number of features\n",
    "- m = total number of observations in our dataset\n",
    "- 10 = number of output classes"
   ]
  },
  {
   "cell_type": "code",
   "execution_count": 2,
   "id": "fb212c03",
   "metadata": {
    "execution": {
     "iopub.execute_input": "2025-02-22T04:07:31.926630Z",
     "iopub.status.busy": "2025-02-22T04:07:31.926273Z",
     "iopub.status.idle": "2025-02-22T04:07:32.007383Z",
     "shell.execute_reply": "2025-02-22T04:07:32.006458Z"
    },
    "papermill": {
     "duration": 0.089762,
     "end_time": "2025-02-22T04:07:32.009271",
     "exception": false,
     "start_time": "2025-02-22T04:07:31.919509",
     "status": "completed"
    },
    "tags": []
   },
   "outputs": [],
   "source": [
    "X_train = np.loadtxt('/kaggle/input/handwrittendataset/train_X.csv', delimiter = ',')\n",
    "Y_train = np.loadtxt('/kaggle/input/handwrittendataset/train_label.csv', delimiter = ',')\n",
    "\n",
    "X_train = X_train.T\n",
    "Y_train = Y_train.T"
   ]
  },
  {
   "cell_type": "code",
   "execution_count": 3,
   "id": "42a76088",
   "metadata": {
    "execution": {
     "iopub.execute_input": "2025-02-22T04:07:32.022565Z",
     "iopub.status.busy": "2025-02-22T04:07:32.022249Z",
     "iopub.status.idle": "2025-02-22T04:07:32.054194Z",
     "shell.execute_reply": "2025-02-22T04:07:32.053160Z"
    },
    "papermill": {
     "duration": 0.040624,
     "end_time": "2025-02-22T04:07:32.056107",
     "exception": false,
     "start_time": "2025-02-22T04:07:32.015483",
     "status": "completed"
    },
    "tags": []
   },
   "outputs": [],
   "source": [
    "X_test = np.loadtxt('/kaggle/input/handwrittendataset/test_X.csv', delimiter = ',')\n",
    "Y_test = np.loadtxt('/kaggle/input/handwrittendataset/test_label.csv', delimiter = ',')\n",
    "\n",
    "X_test = X_test.T\n",
    "Y_test = Y_test.T"
   ]
  },
  {
   "cell_type": "code",
   "execution_count": 4,
   "id": "9624b421",
   "metadata": {
    "execution": {
     "iopub.execute_input": "2025-02-22T04:07:32.069788Z",
     "iopub.status.busy": "2025-02-22T04:07:32.069375Z",
     "iopub.status.idle": "2025-02-22T04:07:32.075470Z",
     "shell.execute_reply": "2025-02-22T04:07:32.074446Z"
    },
    "papermill": {
     "duration": 0.014894,
     "end_time": "2025-02-22T04:07:32.077193",
     "exception": false,
     "start_time": "2025-02-22T04:07:32.062299",
     "status": "completed"
    },
    "tags": []
   },
   "outputs": [
    {
     "name": "stdout",
     "output_type": "stream",
     "text": [
      "shape of X_train :  (784, 1000)\n",
      "shape of Y_train :  (10, 1000)\n",
      "shape of X_test :  (784, 350)\n",
      "shape of Y_test :  (10, 350)\n"
     ]
    }
   ],
   "source": [
    "print(\"shape of X_train : \", X_train.shape)\n",
    "print(\"shape of Y_train : \", Y_train.shape)\n",
    "\n",
    "print(\"shape of X_test : \", X_test.shape)\n",
    "print(\"shape of Y_test : \", Y_test.shape)"
   ]
  },
  {
   "cell_type": "markdown",
   "id": "f6aefa70",
   "metadata": {
    "papermill": {
     "duration": 0.005888,
     "end_time": "2025-02-22T04:07:32.089198",
     "exception": false,
     "start_time": "2025-02-22T04:07:32.083310",
     "status": "completed"
    },
    "tags": []
   },
   "source": [
    "### Visualizing our Dataset\n",
    "\n",
    "Our dataset is in the form of numbers. So, to visualize it properly, we will display it in the form of image"
   ]
  },
  {
   "cell_type": "code",
   "execution_count": 5,
   "id": "e1ee3a81",
   "metadata": {
    "execution": {
     "iopub.execute_input": "2025-02-22T04:07:32.102443Z",
     "iopub.status.busy": "2025-02-22T04:07:32.102127Z",
     "iopub.status.idle": "2025-02-22T04:07:32.371808Z",
     "shell.execute_reply": "2025-02-22T04:07:32.370799Z"
    },
    "papermill": {
     "duration": 0.278226,
     "end_time": "2025-02-22T04:07:32.373399",
     "exception": false,
     "start_time": "2025-02-22T04:07:32.095173",
     "status": "completed"
    },
    "tags": []
   },
   "outputs": [
    {
     "data": {
      "image/png": "[encoded data removed]",
      "text/plain": [
       "<Figure size 640x480 with 1 Axes>"
      ]
     },
     "metadata": {},
     "output_type": "display_data"
    }
   ],
   "source": [
    "index = int(random.randrange(0,X_train.shape[1]))\n",
    "plt.imshow(X_train[:, index].reshape((28,28)),cmap='gray')\n",
    "plt.show()"
   ]
  },
  {
   "cell_type": "markdown",
   "id": "67c2e2bc",
   "metadata": {
    "papermill": {
     "duration": 0.006078,
     "end_time": "2025-02-22T04:07:32.385930",
     "exception": false,
     "start_time": "2025-02-22T04:07:32.379852",
     "status": "completed"
    },
    "tags": []
   },
   "source": [
    "# Model\n",
    "\n",
    "![nn](Images/nn.png)\n",
    "\n",
    "## Initialize parameters Randomly\n",
    "$ W_1 = np.random.randn(n_1, n_0) $\n",
    "\n",
    "$ b_1 = np.zeros((n_1, 1))$\n",
    "\n",
    "$ W_2 = np.random.randn(n_2, n_1) $\n",
    "\n",
    "$ b_2 = np.zeros((n_2, 1))$\n",
    "\n",
    "\n",
    "## *Repeat Below Steps for many times : *\n",
    "\n",
    "\n",
    "## Forward Propagation \n",
    "\n",
    "$ Z_1 = W_1 * X + B_1 $\n",
    "\n",
    "$ A_1 = f ( Z_1 ) $  \n",
    "\n",
    "$ Z_2 = W2 * A_1 + B_2 $\n",
    "\n",
    "$ A_2 = Softmax( Z_2 ) $\n",
    "\n",
    "## Softmax \n",
    "\n",
    "$ a_i = \\frac{e^{z_i}}{\\sum_{i=k}^ne^{z_k}}$\n",
    "\n",
    "\n",
    "## Cost Function \n",
    "\n",
    "$Loss = - \\sum_{i=k}^{n}[ y_k*log(a_k) ]$\n",
    "\n",
    "$Cost = - \\frac{1}{m}\\sum_{i=1}^{m}\\sum_{k=1}^{n}[ y_k*log(a_k) ]$\n",
    "\n",
    "\n",
    "\n",
    "## Backward Propagation\n",
    "$dZ_2 = ( A_2 - Y )$\n",
    "\n",
    "$ dW_2 = \\frac{1}{m}. dZ_2 . A_1^T$\n",
    "\n",
    "$ dB_2 = \\frac{1}{m}.sum(dZ_2, 1)$\n",
    "\n",
    "\n",
    "\n",
    "$dZ_1 = W_2^T . dZ_2 * f_1^|(Z_1) $\n",
    "\n",
    "$dW_1 = \\frac{1}{m}.dZ_1.X^T$\n",
    "\n",
    "$dB_1 = \\frac{1}{m}.sum(dZ_1, 1)$\n",
    "\n",
    "\n",
    "## Updating Parameters\n",
    "\n",
    "$ W_2 = W_2 -  \\alpha * \\frac{\\partial Cost }{\\partial W_2}$ \n",
    "\n",
    "$ B_2 = B_2 -  \\alpha * \\frac{\\partial Cost }{\\partial B_2}$ \n",
    "\n",
    "$ W_1 = W_1 -  \\alpha * \\frac{\\partial Cost }{\\partial W_1}$ \n",
    "\n",
    "$ B_1 = B_1 -  \\alpha * \\frac{\\partial Cost }{\\partial B_1}$ \n"
   ]
  },
  {
   "cell_type": "markdown",
   "id": "c32ec436",
   "metadata": {
    "papermill": {
     "duration": 0.006092,
     "end_time": "2025-02-22T04:07:32.398522",
     "exception": false,
     "start_time": "2025-02-22T04:07:32.392430",
     "status": "completed"
    },
    "tags": []
   },
   "source": [
    "# Activation Functions\n",
    "\n",
    "***Now, its your time to implement !***\n",
    "\n",
    "Complete the below functions for Activations."
   ]
  },
  {
   "cell_type": "code",
   "execution_count": 6,
   "id": "2c6df8a9",
   "metadata": {
    "execution": {
     "iopub.execute_input": "2025-02-22T04:07:32.412719Z",
     "iopub.status.busy": "2025-02-22T04:07:32.412341Z",
     "iopub.status.idle": "2025-02-22T04:07:32.416572Z",
     "shell.execute_reply": "2025-02-22T04:07:32.415725Z"
    },
    "papermill": {
     "duration": 0.013331,
     "end_time": "2025-02-22T04:07:32.418121",
     "exception": false,
     "start_time": "2025-02-22T04:07:32.404790",
     "status": "completed"
    },
    "tags": []
   },
   "outputs": [],
   "source": [
    "def tanh(x):\n",
    "    return np.tanh(x)"
   ]
  },
  {
   "cell_type": "code",
   "execution_count": 7,
   "id": "1a480705",
   "metadata": {
    "execution": {
     "iopub.execute_input": "2025-02-22T04:07:32.432709Z",
     "iopub.status.busy": "2025-02-22T04:07:32.432331Z",
     "iopub.status.idle": "2025-02-22T04:07:32.436491Z",
     "shell.execute_reply": "2025-02-22T04:07:32.435453Z"
    },
    "papermill": {
     "duration": 0.013428,
     "end_time": "2025-02-22T04:07:32.438260",
     "exception": false,
     "start_time": "2025-02-22T04:07:32.424832",
     "status": "completed"
    },
    "tags": []
   },
   "outputs": [],
   "source": [
    "def relu(x):\n",
    "    return np.maximum(x,0)"
   ]
  },
  {
   "cell_type": "code",
   "execution_count": 8,
   "id": "a9886bf6",
   "metadata": {
    "execution": {
     "iopub.execute_input": "2025-02-22T04:07:32.452939Z",
     "iopub.status.busy": "2025-02-22T04:07:32.452526Z",
     "iopub.status.idle": "2025-02-22T04:07:32.456947Z",
     "shell.execute_reply": "2025-02-22T04:07:32.455919Z"
    },
    "papermill": {
     "duration": 0.013292,
     "end_time": "2025-02-22T04:07:32.458547",
     "exception": false,
     "start_time": "2025-02-22T04:07:32.445255",
     "status": "completed"
    },
    "tags": []
   },
   "outputs": [],
   "source": [
    "def softmax(x):\n",
    "    expX = np.exp(x)\n",
    "    return expX/np.sum(expX,axis=0)"
   ]
  },
  {
   "cell_type": "markdown",
   "id": "451310be",
   "metadata": {
    "papermill": {
     "duration": 0.006163,
     "end_time": "2025-02-22T04:07:32.471473",
     "exception": false,
     "start_time": "2025-02-22T04:07:32.465310",
     "status": "completed"
    },
    "tags": []
   },
   "source": [
    "The function *derivative_tanh* must return the derivative of tanh.\n",
    "The function *derivative_relu* must return the derivative of ReLU\n",
    "\n",
    "\n",
    "Also note, I made a small mistake in video. derivative of tanh is given by 1 - tanh^2(x).\n",
    "\n",
    "\n",
    "so, derivative_tanh(x):\n",
    "\n",
    "return 1 - np.power(np.tanh(x), 2)"
   ]
  },
  {
   "cell_type": "code",
   "execution_count": 9,
   "id": "2135211b",
   "metadata": {
    "execution": {
     "iopub.execute_input": "2025-02-22T04:07:32.485541Z",
     "iopub.status.busy": "2025-02-22T04:07:32.485224Z",
     "iopub.status.idle": "2025-02-22T04:07:32.489873Z",
     "shell.execute_reply": "2025-02-22T04:07:32.488903Z"
    },
    "papermill": {
     "duration": 0.013467,
     "end_time": "2025-02-22T04:07:32.491486",
     "exception": false,
     "start_time": "2025-02-22T04:07:32.478019",
     "status": "completed"
    },
    "tags": []
   },
   "outputs": [],
   "source": [
    "def derivative_tanh(x):\n",
    "    return (1-np.power(np.tanh(x),2))\n",
    "\n",
    "def derivative_relu(x):\n",
    "    return np.array(x>0, dtype = np.float32)"
   ]
  },
  {
   "cell_type": "markdown",
   "id": "dcae0c7e",
   "metadata": {
    "papermill": {
     "duration": 0.006369,
     "end_time": "2025-02-22T04:07:32.504656",
     "exception": false,
     "start_time": "2025-02-22T04:07:32.498287",
     "status": "completed"
    },
    "tags": []
   },
   "source": [
    "# Initialize Parameters\n",
    "\n",
    "We need to initialize the **W** parameters randomly, and **B** with zeros\n",
    "\n",
    "- np.random.randn(a, b) return a numpy array of shape(a, b) with small random values\n",
    "- For making the values small, we multiply 0.01\n",
    "- np.zeros((a, b) return a numpy array of shape(a, b) with zeros \n",
    "\n",
    "### Why need small weights W?\n",
    "If we initialize weights will large values, then Z = W * X + B, will be large. For functions like tanh and sigmoid, the slope becomes very less for large Z value, thus learning can be very slow.\n",
    "\n",
    "#### Remember, we had an increase in the cost function at the beginning while training the model with ReLU activation function?\n",
    "It is because our weights were still very large and it was creating problem for training our model.\n",
    "\n",
    "Multiply weights with 0.001 instead of 0.01, and you will see that the graph becomes normal, with a smooth decrease in cost value.\n",
    "\n",
    "There are many weight initialization techniques available as well, to solve other such problems. We will learn those in the upcoming videos.\n",
    "\n",
    "Now, We need to return a dictionary containing all the parameters.\n",
    "\n",
    "More about np.random.randn here : https://numpy.org/doc/stable/reference/random/generated/numpy.random.randn.html"
   ]
  },
  {
   "cell_type": "code",
   "execution_count": 10,
   "id": "4c6ca9de",
   "metadata": {
    "execution": {
     "iopub.execute_input": "2025-02-22T04:07:32.518339Z",
     "iopub.status.busy": "2025-02-22T04:07:32.518016Z",
     "iopub.status.idle": "2025-02-22T04:07:32.522964Z",
     "shell.execute_reply": "2025-02-22T04:07:32.522135Z"
    },
    "papermill": {
     "duration": 0.013588,
     "end_time": "2025-02-22T04:07:32.524455",
     "exception": false,
     "start_time": "2025-02-22T04:07:32.510867",
     "status": "completed"
    },
    "tags": []
   },
   "outputs": [],
   "source": [
    "def initialize_parameters(n_x, n_h, n_y):\n",
    "    \n",
    "    ## Complete the code below ##\n",
    "    w1 = np.random.rand(n_h,n_x)*0.01\n",
    "    b1 = np.zeros((n_h,1))\n",
    "    w2 = np.random.rand(n_y,n_h)*0.01\n",
    "    b2 = np.zeros((n_y,1))\n",
    "    ## Your Code ends ##\n",
    "    \n",
    "    parameters = {\n",
    "        \"w1\" : w1, \n",
    "        \"b1\" : b1, \n",
    "        \"w2\" : w2,\n",
    "        \"b2\" : b2\n",
    "    }\n",
    "    \n",
    "    return parameters"
   ]
  },
  {
   "cell_type": "markdown",
   "id": "1ce313d6",
   "metadata": {
    "papermill": {
     "duration": 0.006053,
     "end_time": "2025-02-22T04:07:32.536993",
     "exception": false,
     "start_time": "2025-02-22T04:07:32.530940",
     "status": "completed"
    },
    "tags": []
   },
   "source": [
    "# Forward Propagation\n",
    "\n",
    "We need to impletement the following equation for forward propagation :\n",
    "\n",
    "$ Z_1 = W_1 * X + B_1 $\n",
    "\n",
    "$ A_1 = f ( Z_1 ) $  \n",
    "\n",
    "$ Z_2 = W2 * A_1 + B_2 $\n",
    "\n",
    "$ A_2 = Softmax( Z_2 ) $\n",
    "\n",
    "For f(x), you can use either tanh or ReLU activation function. \n",
    "\n",
    "But also use the same for Backpropagation as well"
   ]
  },
  {
   "cell_type": "code",
   "execution_count": 11,
   "id": "bb250507",
   "metadata": {
    "execution": {
     "iopub.execute_input": "2025-02-22T04:07:32.552722Z",
     "iopub.status.busy": "2025-02-22T04:07:32.552335Z",
     "iopub.status.idle": "2025-02-22T04:07:32.557697Z",
     "shell.execute_reply": "2025-02-22T04:07:32.556722Z"
    },
    "papermill": {
     "duration": 0.014164,
     "end_time": "2025-02-22T04:07:32.559253",
     "exception": false,
     "start_time": "2025-02-22T04:07:32.545089",
     "status": "completed"
    },
    "tags": []
   },
   "outputs": [],
   "source": [
    "def forward_prop(x, parameters):\n",
    "    \n",
    "    # To fetch the parameters\n",
    "    w1 = parameters['w1']\n",
    "    b1 = parameters['b1']\n",
    "    w2 = parameters['w2']\n",
    "    b2 = parameters['b2']\n",
    "    \n",
    "    ## Complete the Code below : ##\n",
    "    z1 = np.dot(w1,x) + b1\n",
    "    a1 = relu(z1)\n",
    "    z2 = np.dot(w2,a1) + b2\n",
    "    a2 = softmax(z2)\n",
    "    ## Your Code ends ##\n",
    "    \n",
    "    # To return our Zs and As\n",
    "    forward_cache = {\n",
    "        \"z1\" : z1,\n",
    "        \"a1\" : a1,\n",
    "        \"z2\" : z2,\n",
    "        \"a2\" : a2\n",
    "    }\n",
    "    \n",
    "    return forward_cache"
   ]
  },
  {
   "cell_type": "markdown",
   "id": "c799c05a",
   "metadata": {
    "papermill": {
     "duration": 0.006082,
     "end_time": "2025-02-22T04:07:32.571805",
     "exception": false,
     "start_time": "2025-02-22T04:07:32.565723",
     "status": "completed"
    },
    "tags": []
   },
   "source": [
    "# Cost Function\n",
    "\n",
    "$Loss = - \\sum_{k=1}^{n}[ y_k*log(a_k) ]$ .. *for 1 observation*\n",
    "\n",
    "$Cost = - \\frac{1}{m}\\sum_{i=1}^{m}\\sum_{k=1}^{n}[ y_k*log(a_k) ]$  .. *for all m observations*\n",
    "\n",
    "You need to return the cost in the below function\n",
    "\n",
    "You can use np.sum()\n",
    "- np.sum(A, axis = 1, keepdims = True) return the column-wise sum for a matrix A\n",
    "- np.sum(A, axis = 0, keepdims = True) returns the row-wise sum for a matrix A\n",
    "- np.sum(A) returns the summation of all the elements of A\n",
    "\n",
    "*keepdims = True keeps the dimenstion in place. In certain cases, the returned sum can be of shape(m,) instead of shape(m, 1).\n",
    "So, keepdims = True forces it to return the sum in shape(m, 1) instead of shape(m,)*\n",
    "\n",
    "\n",
    "More about np.sum() here : https://numpy.org/doc/stable/reference/generated/numpy.sum.html"
   ]
  },
  {
   "cell_type": "code",
   "execution_count": 12,
   "id": "40fc77e7",
   "metadata": {
    "execution": {
     "iopub.execute_input": "2025-02-22T04:07:32.585787Z",
     "iopub.status.busy": "2025-02-22T04:07:32.585406Z",
     "iopub.status.idle": "2025-02-22T04:07:32.589739Z",
     "shell.execute_reply": "2025-02-22T04:07:32.588795Z"
    },
    "papermill": {
     "duration": 0.013265,
     "end_time": "2025-02-22T04:07:32.591294",
     "exception": false,
     "start_time": "2025-02-22T04:07:32.578029",
     "status": "completed"
    },
    "tags": []
   },
   "outputs": [],
   "source": [
    "def cost_function(a2, y):\n",
    "    m = y.shape[1]\n",
    "    cost = -(1/m)*np.sum(y*np.log(a2))\n",
    "    return cost"
   ]
  },
  {
   "cell_type": "markdown",
   "id": "dcd6c554",
   "metadata": {
    "papermill": {
     "duration": 0.005886,
     "end_time": "2025-02-22T04:07:32.603561",
     "exception": false,
     "start_time": "2025-02-22T04:07:32.597675",
     "status": "completed"
    },
    "tags": []
   },
   "source": [
    "# Backward Propagation\n",
    "\n",
    "We need to implement the below equations\n",
    "\n",
    "$dZ_2 = ( A_2 - Y )$\n",
    "\n",
    "$ dW_2 = \\frac{1}{m}. dZ_2 . A_2^T$\n",
    "\n",
    "$ dB_2 = \\frac{1}{m}.sum(dZ_2, 1)$\n",
    "\n",
    "\n",
    "\n",
    "$dZ_1 = W_2^T . dZ_2 * f_1^|(Z_1) $\n",
    "\n",
    "$dW_1 = \\frac{1}{m}.dZ_1.A_1^T$\n",
    "\n",
    "$dB_1 = \\frac{1}{m}.sum(dZ_1, 1)$\n",
    "\n",
    "Helper python functions :\n",
    "- A.T returns the transpose of matrix A\n",
    "- np.dot(A, B) returns the matrix multiplication of A and B\n",
    "- A*B returns the element wise multi-plication for A and B\n",
    "- np.sum(A, axis = 1, keepdims = True) return the column-wise sum for a matrix A\n",
    "- np.sum(A, axis = 0, keepdims = True) returns the row-wise sum for a matrix A"
   ]
  },
  {
   "cell_type": "code",
   "execution_count": 13,
   "id": "c2098d13",
   "metadata": {
    "execution": {
     "iopub.execute_input": "2025-02-22T04:07:32.617181Z",
     "iopub.status.busy": "2025-02-22T04:07:32.616807Z",
     "iopub.status.idle": "2025-02-22T04:07:32.623049Z",
     "shell.execute_reply": "2025-02-22T04:07:32.622153Z"
    },
    "papermill": {
     "duration": 0.014857,
     "end_time": "2025-02-22T04:07:32.624618",
     "exception": false,
     "start_time": "2025-02-22T04:07:32.609761",
     "status": "completed"
    },
    "tags": []
   },
   "outputs": [],
   "source": [
    "def backward_prop(x, y, parameters, forward_cache):\n",
    "    \n",
    "    m = x.shape[1]\n",
    "    \n",
    "    # Fetching our parameters\n",
    "    w1 = parameters['w1']\n",
    "    b1 = parameters['b1']\n",
    "    w2 = parameters['w2']\n",
    "    b2 = parameters['b2'] \n",
    "    \n",
    "    # Fetching our forward_cache\n",
    "    a1 = forward_cache['a1']\n",
    "    a2 = forward_cache['a2']\n",
    "    \n",
    "    \n",
    "    ## Complete the Code below ##\n",
    "    dz2 = a2-y\n",
    "    dw2 = (1/m)*(np.dot(dz2,a1.T))\n",
    "    db2 = (1/m)*np.sum(dz2,axis = 1, keepdims = True)\n",
    "    \n",
    "    dz1 = (1/m)*np.dot(w2.T, dz2)*derivative_relu(a1)\n",
    "    dw1 = (1/m)*np.dot(dz1,x.T)\n",
    "    db1 = (1/m)*np.sum(dz1, axis=1, keepdims = True)\n",
    "    ## Your Code ends ##\n",
    "    \n",
    "    ## Returning the Gradients\n",
    "    gradients = {\n",
    "        \"dw1\" : dw1,\n",
    "        \"db1\" : db1,\n",
    "        \"dw2\" : dw2, \n",
    "        \"db2\" : db2\n",
    "    }\n",
    "    \n",
    "    return gradients"
   ]
  },
  {
   "cell_type": "markdown",
   "id": "7f390962",
   "metadata": {
    "papermill": {
     "duration": 0.005953,
     "end_time": "2025-02-22T04:07:32.637015",
     "exception": false,
     "start_time": "2025-02-22T04:07:32.631062",
     "status": "completed"
    },
    "tags": []
   },
   "source": [
    "# Update Parameters"
   ]
  },
  {
   "cell_type": "code",
   "execution_count": 14,
   "id": "da06c53b",
   "metadata": {
    "execution": {
     "iopub.execute_input": "2025-02-22T04:07:32.650744Z",
     "iopub.status.busy": "2025-02-22T04:07:32.650350Z",
     "iopub.status.idle": "2025-02-22T04:07:32.656064Z",
     "shell.execute_reply": "2025-02-22T04:07:32.654989Z"
    },
    "papermill": {
     "duration": 0.014539,
     "end_time": "2025-02-22T04:07:32.657850",
     "exception": false,
     "start_time": "2025-02-22T04:07:32.643311",
     "status": "completed"
    },
    "tags": []
   },
   "outputs": [],
   "source": [
    "def update_parameters(parameters, gradients, learning_rate):\n",
    "    \n",
    "    # Fetching our parameters\n",
    "    w1 = parameters['w1']\n",
    "    b1 = parameters['b1']\n",
    "    w2 = parameters['w2']\n",
    "    b2 = parameters['b2'] \n",
    "    \n",
    "    # Fetching our gradients\n",
    "    dw1 = gradients['dw1']\n",
    "    db1 = gradients['db1']\n",
    "    dw2 = gradients['dw2']\n",
    "    db2 = gradients['db2']\n",
    "    \n",
    "    ## Complete the Code below ##\n",
    "    w1 = w1-(learning_rate*dw1)\n",
    "    b1 = b1-(learning_rate*db1)\n",
    "    w2 = w2-(learning_rate*dw2)\n",
    "    b2 = b2-(learning_rate*db2)\n",
    "    ## Your code ends ##\n",
    "    \n",
    "    # Returning the updated parameters\n",
    "    Parameters = {\n",
    "        \"w1\" : w1, \n",
    "        \"b1\" : b1, \n",
    "        \"w2\" : w2,\n",
    "        \"b2\" : b2\n",
    "    }\n",
    "    \n",
    "    return Parameters"
   ]
  },
  {
   "cell_type": "markdown",
   "id": "b24c561b",
   "metadata": {
    "papermill": {
     "duration": 0.006306,
     "end_time": "2025-02-22T04:07:32.670625",
     "exception": false,
     "start_time": "2025-02-22T04:07:32.664319",
     "status": "completed"
    },
    "tags": []
   },
   "source": [
    "# Complete Model\n",
    "\n",
    "Implement the entire Neural Network here\n",
    "\n",
    "### Instructions :\n",
    "\n",
    "We need to initialize parameters once, and after that, we will run the following in a loop:\n",
    "- forward_prop(x, parameters)\n",
    "- cost_function(a2, y)\n",
    "- backward_prop(x, y, parameters, forward_cache)\n",
    "- parameters = update_parameters(parameters, gradients, learning_rate)\n",
    "\n",
    "### Return :\n",
    "- parameters, which will be our trained parameters\n",
    "- cost_list, which contains cost for every iterations."
   ]
  },
  {
   "cell_type": "code",
   "execution_count": 15,
   "id": "fbd7c143",
   "metadata": {
    "execution": {
     "iopub.execute_input": "2025-02-22T04:07:32.684650Z",
     "iopub.status.busy": "2025-02-22T04:07:32.684261Z",
     "iopub.status.idle": "2025-02-22T04:07:32.690324Z",
     "shell.execute_reply": "2025-02-22T04:07:32.689384Z"
    },
    "papermill": {
     "duration": 0.014895,
     "end_time": "2025-02-22T04:07:32.691904",
     "exception": false,
     "start_time": "2025-02-22T04:07:32.677009",
     "status": "completed"
    },
    "tags": []
   },
   "outputs": [],
   "source": [
    "def model(x, y, n_h, learning_rate, iterations):\n",
    "    \n",
    "    ## Complete the Code Below ##\n",
    "    n_x = x.shape[0]                       # must return the number of neurons/features in input layer\n",
    "    n_y = y.shape[0]                       # must return the number of neurons in output layer\n",
    "    ## Your Code ends ##\n",
    "    \n",
    "    cost_list = []\n",
    "    \n",
    "    ## Complete the Code Below ##\n",
    "    parameters = initialize_parameters(n_x,n_h,n_y)\n",
    "    ## Your Code ends ##\n",
    "    \n",
    "    ## Complete the Code Below ##\n",
    "    for i in range(iterations):\n",
    "        \n",
    "        # Forward Propagation\n",
    "        forward_cache = forward_prop(x,parameters)\n",
    "        # Cost Function\n",
    "        cost = cost_function(forward_cache['a2'],y)\n",
    "        # Backward propagation\n",
    "        gradients = backward_prop(x, y, parameters, forward_cache)\n",
    "        # Update Parameters\n",
    "        parameters = update_parameters(parameters, gradients, learning_rate)\n",
    "        cost_list.append(cost)\n",
    "        \n",
    "        if i%(iterations/10) == 0 :\n",
    "            print(\"cost after\", i, \"iters is\" ,     cost   )\n",
    "            \n",
    "            \n",
    "    ## Your Code ends ##\n",
    "    \n",
    "    \n",
    "    return parameters, cost_list"
   ]
  },
  {
   "cell_type": "code",
   "execution_count": 16,
   "id": "dd899fb9",
   "metadata": {
    "execution": {
     "iopub.execute_input": "2025-02-22T04:07:32.706051Z",
     "iopub.status.busy": "2025-02-22T04:07:32.705660Z",
     "iopub.status.idle": "2025-02-22T04:07:39.357787Z",
     "shell.execute_reply": "2025-02-22T04:07:39.356749Z"
    },
    "papermill": {
     "duration": 6.661428,
     "end_time": "2025-02-22T04:07:39.359883",
     "exception": false,
     "start_time": "2025-02-22T04:07:32.698455",
     "status": "completed"
    },
    "tags": []
   },
   "outputs": [
    {
     "name": "stderr",
     "output_type": "stream",
     "text": [
      "<ipython-input-8-89b79278ea59>:3: RuntimeWarning: invalid value encountered in divide\n",
      "  return expX/np.sum(expX,axis=0)\n",
      "<ipython-input-12-8d640583341b>:3: RuntimeWarning: divide by zero encountered in log\n",
      "  cost = -(1/m)*np.sum(y*np.log(a2))\n",
      "<ipython-input-12-8d640583341b>:3: RuntimeWarning: invalid value encountered in log\n",
      "  cost = -(1/m)*np.sum(y*np.log(a2))\n",
      "<ipython-input-12-8d640583341b>:3: RuntimeWarning: invalid value encountered in multiply\n",
      "  cost = -(1/m)*np.sum(y*np.log(a2))\n",
      "<ipython-input-9-a64042709148>:5: RuntimeWarning: invalid value encountered in greater\n",
      "  return np.array(x>0, dtype = np.float32)\n"
     ]
    },
    {
     "name": "stdout",
     "output_type": "stream",
     "text": [
      "cost after 0 iters is nan\n",
      "cost after 10 iters is nan\n",
      "cost after 20 iters is nan\n",
      "cost after 30 iters is nan\n",
      "cost after 40 iters is nan\n",
      "cost after 50 iters is nan\n",
      "cost after 60 iters is nan\n",
      "cost after 70 iters is nan\n",
      "cost after 80 iters is nan\n",
      "cost after 90 iters is nan\n"
     ]
    }
   ],
   "source": [
    "# Complete the Code Below ##\n",
    "\n",
    "n_h = 1000\n",
    "learning_rate = 0.01\n",
    "iterations = 100\n",
    "\n",
    "# Your Code ends ##\n",
    "\n",
    "Parameters, Cost_list = model(X_train, Y_train, n_h = n_h, learning_rate = learning_rate, iterations = iterations)"
   ]
  },
  {
   "cell_type": "code",
   "execution_count": 17,
   "id": "b895a6c3",
   "metadata": {
    "execution": {
     "iopub.execute_input": "2025-02-22T04:07:39.375790Z",
     "iopub.status.busy": "2025-02-22T04:07:39.375359Z",
     "iopub.status.idle": "2025-02-22T04:07:39.379170Z",
     "shell.execute_reply": "2025-02-22T04:07:39.378157Z"
    },
    "papermill": {
     "duration": 0.013367,
     "end_time": "2025-02-22T04:07:39.380727",
     "exception": false,
     "start_time": "2025-02-22T04:07:39.367360",
     "status": "completed"
    },
    "tags": []
   },
   "outputs": [],
   "source": [
    "# t = np.arange(0, iterations+1)\n",
    "# plt.plot(t, Cost_list)\n",
    "# plt.show()"
   ]
  },
  {
   "cell_type": "markdown",
   "id": "5a6c89ce",
   "metadata": {
    "papermill": {
     "duration": 0.006594,
     "end_time": "2025-02-22T04:07:39.394404",
     "exception": false,
     "start_time": "2025-02-22T04:07:39.387810",
     "status": "completed"
    },
    "tags": []
   },
   "source": [
    "# Checking Accuracy\n",
    "\n",
    "Run the below cells to check your model Accuracy "
   ]
  },
  {
   "cell_type": "code",
   "execution_count": 18,
   "id": "e8127f21",
   "metadata": {
    "execution": {
     "iopub.execute_input": "2025-02-22T04:07:39.409871Z",
     "iopub.status.busy": "2025-02-22T04:07:39.409394Z",
     "iopub.status.idle": "2025-02-22T04:07:39.413462Z",
     "shell.execute_reply": "2025-02-22T04:07:39.412430Z"
    },
    "papermill": {
     "duration": 0.01395,
     "end_time": "2025-02-22T04:07:39.415100",
     "exception": false,
     "start_time": "2025-02-22T04:07:39.401150",
     "status": "completed"
    },
    "tags": []
   },
   "outputs": [],
   "source": [
    "# def accuracy(inp, labels, parameters):\n",
    "#     forward_cache = forward_prop(inp, parameters)\n",
    "#     a_out = forward_cache['a2']   # containes propabilities with shape(10, 1)\n",
    "    \n",
    "#     a_out = np.argmax(a_out, 0)  # 0 represents row wise \n",
    "    \n",
    "#     labels = np.argmax(labels, 0)\n",
    "    \n",
    "#     acc = np.mean(a_out == labels)*100\n",
    "    \n",
    "#     return acc"
   ]
  },
  {
   "cell_type": "code",
   "execution_count": 19,
   "id": "614509ad",
   "metadata": {
    "execution": {
     "iopub.execute_input": "2025-02-22T04:07:39.430485Z",
     "iopub.status.busy": "2025-02-22T04:07:39.430131Z",
     "iopub.status.idle": "2025-02-22T04:07:39.433762Z",
     "shell.execute_reply": "2025-02-22T04:07:39.432791Z"
    },
    "papermill": {
     "duration": 0.013132,
     "end_time": "2025-02-22T04:07:39.435314",
     "exception": false,
     "start_time": "2025-02-22T04:07:39.422182",
     "status": "completed"
    },
    "tags": []
   },
   "outputs": [],
   "source": [
    "# print(\"Accuracy of Train Dataset\", accuracy(X_train, Y_train, Parameters), \"%\")\n",
    "# print(\"Accuracy of Test Dataset\", round(accuracy(X_test, Y_test, Parameters), 2), \"%\")"
   ]
  },
  {
   "cell_type": "code",
   "execution_count": 20,
   "id": "8db579d2",
   "metadata": {
    "execution": {
     "iopub.execute_input": "2025-02-22T04:07:39.450557Z",
     "iopub.status.busy": "2025-02-22T04:07:39.450177Z",
     "iopub.status.idle": "2025-02-22T04:07:39.454228Z",
     "shell.execute_reply": "2025-02-22T04:07:39.453248Z"
    },
    "papermill": {
     "duration": 0.01351,
     "end_time": "2025-02-22T04:07:39.455814",
     "exception": false,
     "start_time": "2025-02-22T04:07:39.442304",
     "status": "completed"
    },
    "tags": []
   },
   "outputs": [],
   "source": [
    "# idx = int(random.randrange(0,X_test.shape[1]))\n",
    "# plt.imshow(X_test[:, idx].reshape((28,28)),cmap='gray')\n",
    "# plt.show()\n",
    "\n",
    "# cache = forward_prop(X_test[:, idx].reshape(X_test[:, idx].shape[0], 1), Parameters)\n",
    "# a_pred = cache['a2']  \n",
    "# a_pred = np.argmax(a_pred, 0)\n",
    "\n",
    "# print(\"Our model says it is :\", a_pred[0])"
   ]
  }
 ],
 "metadata": {
  "kaggle": {
   "accelerator": "none",
   "dataSources": [
    {
     "datasetId": 6702547,
     "sourceId": 10799257,
     "sourceType": "datasetVersion"
    }
   ],
   "dockerImageVersionId": 30886,
   "isGpuEnabled": false,
   "isInternetEnabled": false,
   "language": "python",
   "sourceType": "notebook"
  },
  "kernelspec": {
   "display_name": "Python 3",
   "language": "python",
   "name": "python3"
  },
  "language_info": {
   "codemirror_mode": {
    "name": "ipython",
    "version": 3
   },
   "file_extension": ".py",
   "mimetype": "text/x-python",
   "name": "python",
   "nbconvert_exporter": "python",
   "pygments_lexer": "ipython3",
   "version": "3.10.12"
  },
  "papermill": {
   "default_parameters": {},
   "duration": 10.871752,
   "end_time": "2025-02-22T04:07:39.880842",
   "environment_variables": {},
   "exception": null,
   "input_path": "__notebook__.ipynb",
   "output_path": "__notebook__.ipynb",
   "parameters": {},
   "start_time": "2025-02-22T04:07:29.009090",
   "version": "2.6.0"
  }
 },
 "nbformat": 4,
 "nbformat_minor": 5
}
