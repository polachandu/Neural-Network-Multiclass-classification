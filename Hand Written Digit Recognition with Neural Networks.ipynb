{
 "cells": [
  {
   "cell_type": "markdown",
   "id": "932c693f",
   "metadata": {
    "papermill": {
     "duration": 0.00659,
     "end_time": "2025-02-23T06:19:32.432904",
     "exception": false,
     "start_time": "2025-02-23T06:19:32.426314",
     "status": "completed"
    },
    "tags": []
   },
   "source": [
    "#### Importing Libraries"
   ]
  },
  {
   "cell_type": "code",
   "execution_count": 1,
   "id": "6d07857f",
   "metadata": {
    "execution": {
     "iopub.execute_input": "2025-02-23T06:19:32.446354Z",
     "iopub.status.busy": "2025-02-23T06:19:32.446004Z",
     "iopub.status.idle": "2025-02-23T06:19:32.451293Z",
     "shell.execute_reply": "2025-02-23T06:19:32.450431Z"
    },
    "papermill": {
     "duration": 0.013703,
     "end_time": "2025-02-23T06:19:32.452693",
     "exception": false,
     "start_time": "2025-02-23T06:19:32.438990",
     "status": "completed"
    },
    "tags": []
   },
   "outputs": [],
   "source": [
    "import numpy as np\n",
    "import matplotlib.pyplot as plt\n",
    "import random"
   ]
  },
  {
   "cell_type": "markdown",
   "id": "d716e24f",
   "metadata": {
    "papermill": {
     "duration": 0.0057,
     "end_time": "2025-02-23T06:19:32.464395",
     "exception": false,
     "start_time": "2025-02-23T06:19:32.458695",
     "status": "completed"
    },
    "tags": []
   },
   "source": [
    "# Importing Datasets\n",
    "\n",
    "I have already imported the dataset. If you want to use a different dataset, then you can give its path down below.\n",
    "\n",
    "The shape of X should be (n, m),\n",
    "And that of Y should be (10, m)\n",
    "\n",
    "Here, \n",
    "- n = total number of features\n",
    "- m = total number of observations in our dataset\n",
    "- 10 = number of output classes"
   ]
  },
  {
   "cell_type": "code",
   "execution_count": 2,
   "id": "f5499ce4",
   "metadata": {
    "execution": {
     "iopub.execute_input": "2025-02-23T06:19:32.477432Z",
     "iopub.status.busy": "2025-02-23T06:19:32.477104Z",
     "iopub.status.idle": "2025-02-23T06:19:32.563852Z",
     "shell.execute_reply": "2025-02-23T06:19:32.562875Z"
    },
    "papermill": {
     "duration": 0.095684,
     "end_time": "2025-02-23T06:19:32.565955",
     "exception": false,
     "start_time": "2025-02-23T06:19:32.470271",
     "status": "completed"
    },
    "tags": []
   },
   "outputs": [],
   "source": [
    "X_train = np.loadtxt('/kaggle/input/handwrittendataset/train_X.csv', delimiter = ',')\n",
    "Y_train = np.loadtxt('/kaggle/input/handwrittendataset/train_label.csv', delimiter = ',')\n",
    "\n",
    "X_train = X_train.T\n",
    "Y_train = Y_train.T"
   ]
  },
  {
   "cell_type": "code",
   "execution_count": 3,
   "id": "4fdb42d9",
   "metadata": {
    "execution": {
     "iopub.execute_input": "2025-02-23T06:19:32.579492Z",
     "iopub.status.busy": "2025-02-23T06:19:32.579174Z",
     "iopub.status.idle": "2025-02-23T06:19:32.627694Z",
     "shell.execute_reply": "2025-02-23T06:19:32.626899Z"
    },
    "papermill": {
     "duration": 0.057277,
     "end_time": "2025-02-23T06:19:32.629506",
     "exception": false,
     "start_time": "2025-02-23T06:19:32.572229",
     "status": "completed"
    },
    "tags": []
   },
   "outputs": [],
   "source": [
    "X_test = np.loadtxt('/kaggle/input/handwrittendataset/test_X.csv', delimiter = ',')\n",
    "Y_test = np.loadtxt('/kaggle/input/handwrittendataset/test_label.csv', delimiter = ',')\n",
    "\n",
    "X_test = X_test.T\n",
    "Y_test = Y_test.T"
   ]
  },
  {
   "cell_type": "code",
   "execution_count": 4,
   "id": "161a2723",
   "metadata": {
    "execution": {
     "iopub.execute_input": "2025-02-23T06:19:32.643567Z",
     "iopub.status.busy": "2025-02-23T06:19:32.643242Z",
     "iopub.status.idle": "2025-02-23T06:19:32.650288Z",
     "shell.execute_reply": "2025-02-23T06:19:32.649162Z"
    },
    "papermill": {
     "duration": 0.016183,
     "end_time": "2025-02-23T06:19:32.651949",
     "exception": false,
     "start_time": "2025-02-23T06:19:32.635766",
     "status": "completed"
    },
    "tags": []
   },
   "outputs": [
    {
     "name": "stdout",
     "output_type": "stream",
     "text": [
      "shape of X_train :  (784, 1000)\n",
      "shape of Y_train :  (10, 1000)\n",
      "shape of X_test :  (784, 350)\n",
      "shape of Y_test :  (10, 350)\n"
     ]
    }
   ],
   "source": [
    "print(\"shape of X_train : \", X_train.shape)\n",
    "print(\"shape of Y_train : \", Y_train.shape)\n",
    "\n",
    "print(\"shape of X_test : \", X_test.shape)\n",
    "print(\"shape of Y_test : \", Y_test.shape)"
   ]
  },
  {
   "cell_type": "markdown",
   "id": "fb8fbab1",
   "metadata": {
    "papermill": {
     "duration": 0.005999,
     "end_time": "2025-02-23T06:19:32.664524",
     "exception": false,
     "start_time": "2025-02-23T06:19:32.658525",
     "status": "completed"
    },
    "tags": []
   },
   "source": [
    "### Visualizing our Dataset\n",
    "\n",
    "Our dataset is in the form of numbers. So, to visualize it properly, we will display it in the form of image"
   ]
  },
  {
   "cell_type": "code",
   "execution_count": 5,
   "id": "2483a88d",
   "metadata": {
    "execution": {
     "iopub.execute_input": "2025-02-23T06:19:32.678089Z",
     "iopub.status.busy": "2025-02-23T06:19:32.677685Z",
     "iopub.status.idle": "2025-02-23T06:19:32.930700Z",
     "shell.execute_reply": "2025-02-23T06:19:32.929483Z"
    },
    "papermill": {
     "duration": 0.261808,
     "end_time": "2025-02-23T06:19:32.932390",
     "exception": false,
     "start_time": "2025-02-23T06:19:32.670582",
     "status": "completed"
    },
    "tags": []
   },
   "outputs": [
    {
     "data": {
      "image/png": "[encoded data removed]",
      "text/plain": [
       "<Figure size 640x480 with 1 Axes>"
      ]
     },
     "metadata": {},
     "output_type": "display_data"
    }
   ],
   "source": [
    "index = int(random.randrange(0,X_train.shape[1]))\n",
    "plt.imshow(X_train[:, index].reshape((28,28)),cmap='gray')\n",
    "plt.show()"
   ]
  },
  {
   "cell_type": "markdown",
   "id": "fa2c8d85",
   "metadata": {
    "papermill": {
     "duration": 0.006025,
     "end_time": "2025-02-23T06:19:32.944921",
     "exception": false,
     "start_time": "2025-02-23T06:19:32.938896",
     "status": "completed"
    },
    "tags": []
   },
   "source": [
    "# Model\n",
    "\n",
    "![nn](Images/nn.png)\n",
    "\n",
    "## Initialize parameters Randomly\n",
    "$ W_1 = np.random.randn(n_1, n_0) $\n",
    "\n",
    "$ b_1 = np.zeros((n_1, 1))$\n",
    "\n",
    "$ W_2 = np.random.randn(n_2, n_1) $\n",
    "\n",
    "$ b_2 = np.zeros((n_2, 1))$\n",
    "\n",
    "\n",
    "## *Repeat Below Steps for many times : *\n",
    "\n",
    "\n",
    "## Forward Propagation \n",
    "\n",
    "$ Z_1 = W_1 * X + B_1 $\n",
    "\n",
    "$ A_1 = f ( Z_1 ) $  \n",
    "\n",
    "$ Z_2 = W2 * A_1 + B_2 $\n",
    "\n",
    "$ A_2 = Softmax( Z_2 ) $\n",
    "\n",
    "## Softmax \n",
    "\n",
    "$ a_i = \\frac{e^{z_i}}{\\sum_{i=k}^ne^{z_k}}$\n",
    "\n",
    "\n",
    "## Cost Function \n",
    "\n",
    "$Loss = - \\sum_{i=k}^{n}[ y_k*log(a_k) ]$\n",
    "\n",
    "$Cost = - \\frac{1}{m}\\sum_{i=1}^{m}\\sum_{k=1}^{n}[ y_k*log(a_k) ]$\n",
    "\n",
    "\n",
    "\n",
    "## Backward Propagation\n",
    "$dZ_2 = ( A_2 - Y )$\n",
    "\n",
    "$ dW_2 = \\frac{1}{m}. dZ_2 . A_1^T$\n",
    "\n",
    "$ dB_2 = \\frac{1}{m}.sum(dZ_2, 1)$\n",
    "\n",
    "\n",
    "\n",
    "$dZ_1 = W_2^T . dZ_2 * f_1^|(Z_1) $\n",
    "\n",
    "$dW_1 = \\frac{1}{m}.dZ_1.X^T$\n",
    "\n",
    "$dB_1 = \\frac{1}{m}.sum(dZ_1, 1)$\n",
    "\n",
    "\n",
    "## Updating Parameters\n",
    "\n",
    "$ W_2 = W_2 -  \\alpha * \\frac{\\partial Cost }{\\partial W_2}$ \n",
    "\n",
    "$ B_2 = B_2 -  \\alpha * \\frac{\\partial Cost }{\\partial B_2}$ \n",
    "\n",
    "$ W_1 = W_1 -  \\alpha * \\frac{\\partial Cost }{\\partial W_1}$ \n",
    "\n",
    "$ B_1 = B_1 -  \\alpha * \\frac{\\partial Cost }{\\partial B_1}$ \n"
   ]
  },
  {
   "cell_type": "markdown",
   "id": "109874ef",
   "metadata": {
    "papermill": {
     "duration": 0.006682,
     "end_time": "2025-02-23T06:19:32.958029",
     "exception": false,
     "start_time": "2025-02-23T06:19:32.951347",
     "status": "completed"
    },
    "tags": []
   },
   "source": [
    "# Activation Functions\n",
    "\n",
    "***Now, its your time to implement !***\n",
    "\n",
    "Complete the below functions for Activations."
   ]
  },
  {
   "cell_type": "code",
   "execution_count": 6,
   "id": "9d4ac004",
   "metadata": {
    "execution": {
     "iopub.execute_input": "2025-02-23T06:19:32.971709Z",
     "iopub.status.busy": "2025-02-23T06:19:32.971358Z",
     "iopub.status.idle": "2025-02-23T06:19:32.975515Z",
     "shell.execute_reply": "2025-02-23T06:19:32.974558Z"
    },
    "papermill": {
     "duration": 0.01322,
     "end_time": "2025-02-23T06:19:32.977437",
     "exception": false,
     "start_time": "2025-02-23T06:19:32.964217",
     "status": "completed"
    },
    "tags": []
   },
   "outputs": [],
   "source": [
    "def tanh(x):\n",
    "    return np.tanh(x)"
   ]
  },
  {
   "cell_type": "code",
   "execution_count": 7,
   "id": "c94c22ac",
   "metadata": {
    "execution": {
     "iopub.execute_input": "2025-02-23T06:19:32.991847Z",
     "iopub.status.busy": "2025-02-23T06:19:32.991464Z",
     "iopub.status.idle": "2025-02-23T06:19:32.995656Z",
     "shell.execute_reply": "2025-02-23T06:19:32.994736Z"
    },
    "papermill": {
     "duration": 0.013302,
     "end_time": "2025-02-23T06:19:32.997192",
     "exception": false,
     "start_time": "2025-02-23T06:19:32.983890",
     "status": "completed"
    },
    "tags": []
   },
   "outputs": [],
   "source": [
    "def relu(x):\n",
    "    return np.maximum(x,0)"
   ]
  },
  {
   "cell_type": "code",
   "execution_count": 8,
   "id": "25c52137",
   "metadata": {
    "execution": {
     "iopub.execute_input": "2025-02-23T06:19:33.011626Z",
     "iopub.status.busy": "2025-02-23T06:19:33.011300Z",
     "iopub.status.idle": "2025-02-23T06:19:33.015484Z",
     "shell.execute_reply": "2025-02-23T06:19:33.014605Z"
    },
    "papermill": {
     "duration": 0.01315,
     "end_time": "2025-02-23T06:19:33.017079",
     "exception": false,
     "start_time": "2025-02-23T06:19:33.003929",
     "status": "completed"
    },
    "tags": []
   },
   "outputs": [],
   "source": [
    "def softmax(x):\n",
    "    expX = np.exp(x)\n",
    "    return expX/np.sum(expX,axis=0)"
   ]
  },
  {
   "cell_type": "markdown",
   "id": "03217468",
   "metadata": {
    "papermill": {
     "duration": 0.006146,
     "end_time": "2025-02-23T06:19:33.029564",
     "exception": false,
     "start_time": "2025-02-23T06:19:33.023418",
     "status": "completed"
    },
    "tags": []
   },
   "source": [
    "The function *derivative_tanh* must return the derivative of tanh.\n",
    "The function *derivative_relu* must return the derivative of ReLU\n",
    "\n",
    "\n",
    "Also note, I made a small mistake in video. derivative of tanh is given by 1 - tanh^2(x).\n",
    "\n",
    "\n",
    "so, derivative_tanh(x):\n",
    "\n",
    "return 1 - np.power(np.tanh(x), 2)"
   ]
  },
  {
   "cell_type": "code",
   "execution_count": 9,
   "id": "571b69b2",
   "metadata": {
    "execution": {
     "iopub.execute_input": "2025-02-23T06:19:33.043815Z",
     "iopub.status.busy": "2025-02-23T06:19:33.043457Z",
     "iopub.status.idle": "2025-02-23T06:19:33.048124Z",
     "shell.execute_reply": "2025-02-23T06:19:33.047125Z"
    },
    "papermill": {
     "duration": 0.013538,
     "end_time": "2025-02-23T06:19:33.049709",
     "exception": false,
     "start_time": "2025-02-23T06:19:33.036171",
     "status": "completed"
    },
    "tags": []
   },
   "outputs": [],
   "source": [
    "def derivative_tanh(x):\n",
    "    return (1-np.power(np.tanh(x),2))\n",
    "\n",
    "def derivative_relu(x):\n",
    "    return np.array(x>0, dtype = np.float32)"
   ]
  },
  {
   "cell_type": "markdown",
   "id": "882d617c",
   "metadata": {
    "papermill": {
     "duration": 0.005914,
     "end_time": "2025-02-23T06:19:33.062343",
     "exception": false,
     "start_time": "2025-02-23T06:19:33.056429",
     "status": "completed"
    },
    "tags": []
   },
   "source": [
    "# Initialize Parameters\n",
    "\n",
    "We need to initialize the **W** parameters randomly, and **B** with zeros\n",
    "\n",
    "- np.random.randn(a, b) return a numpy array of shape(a, b) with small random values\n",
    "- For making the values small, we multiply 0.01\n",
    "- np.zeros((a, b) return a numpy array of shape(a, b) with zeros \n",
    "\n",
    "### Why need small weights W?\n",
    "If we initialize weights will large values, then Z = W * X + B, will be large. For functions like tanh and sigmoid, the slope becomes very less for large Z value, thus learning can be very slow.\n",
    "\n",
    "#### Remember, we had an increase in the cost function at the beginning while training the model with ReLU activation function?\n",
    "It is because our weights were still very large and it was creating problem for training our model.\n",
    "\n",
    "Multiply weights with 0.001 instead of 0.01, and you will see that the graph becomes normal, with a smooth decrease in cost value.\n",
    "\n",
    "There are many weight initialization techniques available as well, to solve other such problems. We will learn those in the upcoming videos.\n",
    "\n",
    "Now, We need to return a dictionary containing all the parameters.\n",
    "\n",
    "More about np.random.randn here : https://numpy.org/doc/stable/reference/random/generated/numpy.random.randn.html"
   ]
  },
  {
   "cell_type": "code",
   "execution_count": 10,
   "id": "44017bb6",
   "metadata": {
    "execution": {
     "iopub.execute_input": "2025-02-23T06:19:33.075925Z",
     "iopub.status.busy": "2025-02-23T06:19:33.075562Z",
     "iopub.status.idle": "2025-02-23T06:19:33.080408Z",
     "shell.execute_reply": "2025-02-23T06:19:33.079577Z"
    },
    "papermill": {
     "duration": 0.01332,
     "end_time": "2025-02-23T06:19:33.081778",
     "exception": false,
     "start_time": "2025-02-23T06:19:33.068458",
     "status": "completed"
    },
    "tags": []
   },
   "outputs": [],
   "source": [
    "def initialize_parameters(n_x, n_h, n_y):\n",
    "    \n",
    "    ## Complete the code below ##\n",
    "    w1 = np.random.rand(n_h,n_x)*0.01\n",
    "    b1 = np.zeros((n_h,1))\n",
    "    w2 = np.random.rand(n_y,n_h)*0.01\n",
    "    b2 = np.zeros((n_y,1))\n",
    "    ## Your Code ends ##\n",
    "    \n",
    "    parameters = {\n",
    "        \"w1\" : w1, \n",
    "        \"b1\" : b1, \n",
    "        \"w2\" : w2,\n",
    "        \"b2\" : b2\n",
    "    }\n",
    "    \n",
    "    return parameters"
   ]
  },
  {
   "cell_type": "markdown",
   "id": "6d831a71",
   "metadata": {
    "papermill": {
     "duration": 0.005852,
     "end_time": "2025-02-23T06:19:33.094025",
     "exception": false,
     "start_time": "2025-02-23T06:19:33.088173",
     "status": "completed"
    },
    "tags": []
   },
   "source": [
    "# Forward Propagation\n",
    "\n",
    "We need to impletement the following equation for forward propagation :\n",
    "\n",
    "$ Z_1 = W_1 * X + B_1 $\n",
    "\n",
    "$ A_1 = f ( Z_1 ) $  \n",
    "\n",
    "$ Z_2 = W2 * A_1 + B_2 $\n",
    "\n",
    "$ A_2 = Softmax( Z_2 ) $\n",
    "\n",
    "For f(x), you can use either tanh or ReLU activation function. \n",
    "\n",
    "But also use the same for Backpropagation as well"
   ]
  },
  {
   "cell_type": "code",
   "execution_count": 11,
   "id": "d5720f98",
   "metadata": {
    "execution": {
     "iopub.execute_input": "2025-02-23T06:19:33.107655Z",
     "iopub.status.busy": "2025-02-23T06:19:33.107339Z",
     "iopub.status.idle": "2025-02-23T06:19:33.112711Z",
     "shell.execute_reply": "2025-02-23T06:19:33.111720Z"
    },
    "papermill": {
     "duration": 0.014109,
     "end_time": "2025-02-23T06:19:33.114241",
     "exception": false,
     "start_time": "2025-02-23T06:19:33.100132",
     "status": "completed"
    },
    "tags": []
   },
   "outputs": [],
   "source": [
    "def forward_prop(x, parameters):\n",
    "    \n",
    "    # To fetch the parameters\n",
    "    w1 = parameters['w1']\n",
    "    b1 = parameters['b1']\n",
    "    w2 = parameters['w2']\n",
    "    b2 = parameters['b2']\n",
    "    \n",
    "    ## Complete the Code below : ##\n",
    "    z1 = np.dot(w1,x) + b1\n",
    "    a1 = tanh(z1)\n",
    "    z2 = np.dot(w2,a1) + b2\n",
    "    a2 = softmax(z2)\n",
    "    ## Your Code ends ##\n",
    "    \n",
    "    # To return our Zs and As\n",
    "    forward_cache = {\n",
    "        \"z1\" : z1,\n",
    "        \"a1\" : a1,\n",
    "        \"z2\" : z2,\n",
    "        \"a2\" : a2\n",
    "    }\n",
    "    \n",
    "    return forward_cache"
   ]
  },
  {
   "cell_type": "markdown",
   "id": "0d1d703b",
   "metadata": {
    "papermill": {
     "duration": 0.006121,
     "end_time": "2025-02-23T06:19:33.126755",
     "exception": false,
     "start_time": "2025-02-23T06:19:33.120634",
     "status": "completed"
    },
    "tags": []
   },
   "source": [
    "# Cost Function\n",
    "\n",
    "$Loss = - \\sum_{k=1}^{n}[ y_k*log(a_k) ]$ .. *for 1 observation*\n",
    "\n",
    "$Cost = - \\frac{1}{m}\\sum_{i=1}^{m}\\sum_{k=1}^{n}[ y_k*log(a_k) ]$  .. *for all m observations*\n",
    "\n",
    "You need to return the cost in the below function\n",
    "\n",
    "You can use np.sum()\n",
    "- np.sum(A, axis = 1, keepdims = True) return the column-wise sum for a matrix A\n",
    "- np.sum(A, axis = 0, keepdims = True) returns the row-wise sum for a matrix A\n",
    "- np.sum(A) returns the summation of all the elements of A\n",
    "\n",
    "*keepdims = True keeps the dimenstion in place. In certain cases, the returned sum can be of shape(m,) instead of shape(m, 1).\n",
    "So, keepdims = True forces it to return the sum in shape(m, 1) instead of shape(m,)*\n",
    "\n",
    "\n",
    "More about np.sum() here : https://numpy.org/doc/stable/reference/generated/numpy.sum.html"
   ]
  },
  {
   "cell_type": "code",
   "execution_count": 12,
   "id": "c77377af",
   "metadata": {
    "execution": {
     "iopub.execute_input": "2025-02-23T06:19:33.140495Z",
     "iopub.status.busy": "2025-02-23T06:19:33.140164Z",
     "iopub.status.idle": "2025-02-23T06:19:33.144686Z",
     "shell.execute_reply": "2025-02-23T06:19:33.143734Z"
    },
    "papermill": {
     "duration": 0.013254,
     "end_time": "2025-02-23T06:19:33.146307",
     "exception": false,
     "start_time": "2025-02-23T06:19:33.133053",
     "status": "completed"
    },
    "tags": []
   },
   "outputs": [],
   "source": [
    "def cost_function(a2, y):\n",
    "    m = y.shape[1]\n",
    "    cost = -(1/m)*np.sum(y*np.log(a2))\n",
    "    return cost"
   ]
  },
  {
   "cell_type": "markdown",
   "id": "a9eee5d4",
   "metadata": {
    "papermill": {
     "duration": 0.005909,
     "end_time": "2025-02-23T06:19:33.158648",
     "exception": false,
     "start_time": "2025-02-23T06:19:33.152739",
     "status": "completed"
    },
    "tags": []
   },
   "source": [
    "# Backward Propagation\n",
    "\n",
    "We need to implement the below equations\n",
    "\n",
    "$dZ_2 = ( A_2 - Y )$\n",
    "\n",
    "$ dW_2 = \\frac{1}{m}. dZ_2 . A_2^T$\n",
    "\n",
    "$ dB_2 = \\frac{1}{m}.sum(dZ_2, 1)$\n",
    "\n",
    "\n",
    "\n",
    "$dZ_1 = W_2^T . dZ_2 * f_1^|(Z_1) $\n",
    "\n",
    "$dW_1 = \\frac{1}{m}.dZ_1.A_1^T$\n",
    "\n",
    "$dB_1 = \\frac{1}{m}.sum(dZ_1, 1)$\n",
    "\n",
    "Helper python functions :\n",
    "- A.T returns the transpose of matrix A\n",
    "- np.dot(A, B) returns the matrix multiplication of A and B\n",
    "- A*B returns the element wise multi-plication for A and B\n",
    "- np.sum(A, axis = 1, keepdims = True) return the column-wise sum for a matrix A\n",
    "- np.sum(A, axis = 0, keepdims = True) returns the row-wise sum for a matrix A"
   ]
  },
  {
   "cell_type": "code",
   "execution_count": 13,
   "id": "aa2babe4",
   "metadata": {
    "execution": {
     "iopub.execute_input": "2025-02-23T06:19:33.172241Z",
     "iopub.status.busy": "2025-02-23T06:19:33.171891Z",
     "iopub.status.idle": "2025-02-23T06:19:33.178278Z",
     "shell.execute_reply": "2025-02-23T06:19:33.177346Z"
    },
    "papermill": {
     "duration": 0.015017,
     "end_time": "2025-02-23T06:19:33.179844",
     "exception": false,
     "start_time": "2025-02-23T06:19:33.164827",
     "status": "completed"
    },
    "tags": []
   },
   "outputs": [],
   "source": [
    "def backward_prop(x, y, parameters, forward_cache):\n",
    "    \n",
    "    m = x.shape[1]\n",
    "    \n",
    "    # Fetching our parameters\n",
    "    w1 = parameters['w1']\n",
    "    b1 = parameters['b1']\n",
    "    w2 = parameters['w2']\n",
    "    b2 = parameters['b2'] \n",
    "    \n",
    "    # Fetching our forward_cache\n",
    "    a1 = forward_cache['a1']\n",
    "    a2 = forward_cache['a2']\n",
    "    \n",
    "    \n",
    "    ## Complete the Code below ##\n",
    "    dz2 = a2-y\n",
    "    dw2 = (1/m)*(np.dot(dz2,a1.T))\n",
    "    db2 = (1/m)*np.sum(dz2,axis = 1, keepdims = True)\n",
    "    \n",
    "    dz1 = (1/m)*np.dot(w2.T, dz2)*derivative_tanh(a1)\n",
    "    dw1 = (1/m)*np.dot(dz1,x.T)\n",
    "    db1 = (1/m)*np.sum(dz1, axis=1, keepdims = True)\n",
    "    ## Your Code ends ##\n",
    "    \n",
    "    ## Returning the Gradients\n",
    "    gradients = {\n",
    "        \"dw1\" : dw1,\n",
    "        \"db1\" : db1,\n",
    "        \"dw2\" : dw2, \n",
    "        \"db2\" : db2\n",
    "    }\n",
    "    \n",
    "    return gradients"
   ]
  },
  {
   "cell_type": "markdown",
   "id": "91624038",
   "metadata": {
    "papermill": {
     "duration": 0.005901,
     "end_time": "2025-02-23T06:19:33.192045",
     "exception": false,
     "start_time": "2025-02-23T06:19:33.186144",
     "status": "completed"
    },
    "tags": []
   },
   "source": [
    "# Update Parameters"
   ]
  },
  {
   "cell_type": "code",
   "execution_count": 14,
   "id": "f50be15d",
   "metadata": {
    "execution": {
     "iopub.execute_input": "2025-02-23T06:19:33.205678Z",
     "iopub.status.busy": "2025-02-23T06:19:33.205341Z",
     "iopub.status.idle": "2025-02-23T06:19:33.210874Z",
     "shell.execute_reply": "2025-02-23T06:19:33.210004Z"
    },
    "papermill": {
     "duration": 0.014135,
     "end_time": "2025-02-23T06:19:33.212388",
     "exception": false,
     "start_time": "2025-02-23T06:19:33.198253",
     "status": "completed"
    },
    "tags": []
   },
   "outputs": [],
   "source": [
    "def update_parameters(parameters, gradients, learning_rate):\n",
    "    \n",
    "    # Fetching our parameters\n",
    "    w1 = parameters['w1']\n",
    "    b1 = parameters['b1']\n",
    "    w2 = parameters['w2']\n",
    "    b2 = parameters['b2'] \n",
    "    \n",
    "    # Fetching our gradients\n",
    "    dw1 = gradients['dw1']\n",
    "    db1 = gradients['db1']\n",
    "    dw2 = gradients['dw2']\n",
    "    db2 = gradients['db2']\n",
    "    \n",
    "    ## Complete the Code below ##\n",
    "    w1 = w1-(learning_rate*dw1)\n",
    "    b1 = b1-(learning_rate*db1)\n",
    "    w2 = w2-(learning_rate*dw2)\n",
    "    b2 = b2-(learning_rate*db2)\n",
    "    ## Your code ends ##\n",
    "    \n",
    "    # Returning the updated parameters\n",
    "    Parameters = {\n",
    "        \"w1\" : w1, \n",
    "        \"b1\" : b1, \n",
    "        \"w2\" : w2,\n",
    "        \"b2\" : b2\n",
    "    }\n",
    "    \n",
    "    return Parameters"
   ]
  },
  {
   "cell_type": "markdown",
   "id": "1369c740",
   "metadata": {
    "papermill": {
     "duration": 0.006045,
     "end_time": "2025-02-23T06:19:33.224817",
     "exception": false,
     "start_time": "2025-02-23T06:19:33.218772",
     "status": "completed"
    },
    "tags": []
   },
   "source": [
    "# Complete Model\n",
    "\n",
    "Implement the entire Neural Network here\n",
    "\n",
    "### Instructions :\n",
    "\n",
    "We need to initialize parameters once, and after that, we will run the following in a loop:\n",
    "- forward_prop(x, parameters)\n",
    "- cost_function(a2, y)\n",
    "- backward_prop(x, y, parameters, forward_cache)\n",
    "- parameters = update_parameters(parameters, gradients, learning_rate)\n",
    "\n",
    "### Return :\n",
    "- parameters, which will be our trained parameters\n",
    "- cost_list, which contains cost for every iterations."
   ]
  },
  {
   "cell_type": "code",
   "execution_count": 15,
   "id": "8e876a9b",
   "metadata": {
    "execution": {
     "iopub.execute_input": "2025-02-23T06:19:33.238436Z",
     "iopub.status.busy": "2025-02-23T06:19:33.238114Z",
     "iopub.status.idle": "2025-02-23T06:19:33.243957Z",
     "shell.execute_reply": "2025-02-23T06:19:33.243048Z"
    },
    "papermill": {
     "duration": 0.014774,
     "end_time": "2025-02-23T06:19:33.245677",
     "exception": false,
     "start_time": "2025-02-23T06:19:33.230903",
     "status": "completed"
    },
    "tags": []
   },
   "outputs": [],
   "source": [
    "def model(x, y, n_h, learning_rate, iterations):\n",
    "    \n",
    "    ## Complete the Code Below ##\n",
    "    n_x = x.shape[0]                       # must return the number of neurons/features in input layer\n",
    "    n_y = y.shape[0]                       # must return the number of neurons in output layer\n",
    "    ## Your Code ends ##\n",
    "    \n",
    "    cost_list = []\n",
    "    \n",
    "    ## Complete the Code Below ##\n",
    "    parameters = initialize_parameters(n_x,n_h,n_y)\n",
    "    ## Your Code ends ##\n",
    "    \n",
    "    ## Complete the Code Below ##\n",
    "    for i in range(iterations):\n",
    "        \n",
    "        # Forward Propagation\n",
    "        forward_cache = forward_prop(x,parameters)\n",
    "        # Cost Function\n",
    "        cost = cost_function(forward_cache['a2'],y)\n",
    "        # Backward propagation\n",
    "        gradients = backward_prop(x, y, parameters, forward_cache)\n",
    "        # Update Parameters\n",
    "        parameters = update_parameters(parameters, gradients, learning_rate)\n",
    "        cost_list.append(cost)\n",
    "        \n",
    "        if i%(iterations/10) == 0 :\n",
    "            print(\"cost after\", i, \"iters is\" ,     cost   )\n",
    "            \n",
    "            \n",
    "    ## Your Code ends ##\n",
    "    \n",
    "    \n",
    "    return parameters, cost_list"
   ]
  },
  {
   "cell_type": "code",
   "execution_count": 16,
   "id": "4ab2e102",
   "metadata": {
    "execution": {
     "iopub.execute_input": "2025-02-23T06:19:33.259949Z",
     "iopub.status.busy": "2025-02-23T06:19:33.259569Z",
     "iopub.status.idle": "2025-02-23T06:19:42.242766Z",
     "shell.execute_reply": "2025-02-23T06:19:42.241844Z"
    },
    "papermill": {
     "duration": 8.992632,
     "end_time": "2025-02-23T06:19:42.244741",
     "exception": false,
     "start_time": "2025-02-23T06:19:33.252109",
     "status": "completed"
    },
    "tags": []
   },
   "outputs": [
    {
     "name": "stdout",
     "output_type": "stream",
     "text": [
      "cost after 0 iters is 2.315442516258072\n",
      "cost after 10 iters is 2.300483174563285\n",
      "cost after 20 iters is 2.298720627286103\n",
      "cost after 30 iters is 2.298519665196711\n",
      "cost after 40 iters is 2.2984961843677367\n",
      "cost after 50 iters is 2.298493322412016\n",
      "cost after 60 iters is 2.2984929586933447\n",
      "cost after 70 iters is 2.298492910763588\n",
      "cost after 80 iters is 2.2984929042554967\n",
      "cost after 90 iters is 2.298492903350067\n"
     ]
    }
   ],
   "source": [
    "# Complete the Code Below ##\n",
    "\n",
    "n_h = 1000\n",
    "learning_rate = 0.001\n",
    "iterations = 100\n",
    "\n",
    "# Your Code ends ##\n",
    "\n",
    "Parameters, Cost_list = model(X_train, Y_train, n_h = n_h, learning_rate = learning_rate, iterations = iterations)"
   ]
  },
  {
   "cell_type": "code",
   "execution_count": 17,
   "id": "15e32507",
   "metadata": {
    "execution": {
     "iopub.execute_input": "2025-02-23T06:19:42.259972Z",
     "iopub.status.busy": "2025-02-23T06:19:42.259560Z",
     "iopub.status.idle": "2025-02-23T06:19:42.409873Z",
     "shell.execute_reply": "2025-02-23T06:19:42.408893Z"
    },
    "papermill": {
     "duration": 0.159826,
     "end_time": "2025-02-23T06:19:42.411609",
     "exception": false,
     "start_time": "2025-02-23T06:19:42.251783",
     "status": "completed"
    },
    "tags": []
   },
   "outputs": [
    {
     "data": {
      "image/png": "[encoded data removed]",
      "text/plain": [
       "<Figure size 640x480 with 1 Axes>"
      ]
     },
     "metadata": {},
     "output_type": "display_data"
    }
   ],
   "source": [
    "t = np.arange(0, iterations)\n",
    "plt.plot(t, Cost_list)\n",
    "plt.show()"
   ]
  },
  {
   "cell_type": "markdown",
   "id": "9fd32efd",
   "metadata": {
    "papermill": {
     "duration": 0.007138,
     "end_time": "2025-02-23T06:19:42.425981",
     "exception": false,
     "start_time": "2025-02-23T06:19:42.418843",
     "status": "completed"
    },
    "tags": []
   },
   "source": [
    "# Checking Accuracy\n",
    "\n",
    "Run the below cells to check your model Accuracy "
   ]
  },
  {
   "cell_type": "code",
   "execution_count": 18,
   "id": "2473898c",
   "metadata": {
    "execution": {
     "iopub.execute_input": "2025-02-23T06:19:42.441613Z",
     "iopub.status.busy": "2025-02-23T06:19:42.441275Z",
     "iopub.status.idle": "2025-02-23T06:19:42.445848Z",
     "shell.execute_reply": "2025-02-23T06:19:42.444934Z"
    },
    "papermill": {
     "duration": 0.014308,
     "end_time": "2025-02-23T06:19:42.447456",
     "exception": false,
     "start_time": "2025-02-23T06:19:42.433148",
     "status": "completed"
    },
    "tags": []
   },
   "outputs": [],
   "source": [
    "def accuracy(inp, labels, parameters):\n",
    "    forward_cache = forward_prop(inp, parameters)\n",
    "    a_out = forward_cache['a2']   # containes propabilities with shape(10, 1)\n",
    "    \n",
    "    a_out = np.argmax(a_out, 0)  # 0 represents row wise \n",
    "    \n",
    "    labels = np.argmax(labels, 0)\n",
    "    \n",
    "    acc = np.mean(a_out == labels)*100\n",
    "    \n",
    "    return acc"
   ]
  },
  {
   "cell_type": "code",
   "execution_count": 19,
   "id": "e41fab5e",
   "metadata": {
    "execution": {
     "iopub.execute_input": "2025-02-23T06:19:42.463365Z",
     "iopub.status.busy": "2025-02-23T06:19:42.463046Z",
     "iopub.status.idle": "2025-02-23T06:19:42.516630Z",
     "shell.execute_reply": "2025-02-23T06:19:42.515536Z"
    },
    "papermill": {
     "duration": 0.063346,
     "end_time": "2025-02-23T06:19:42.518286",
     "exception": false,
     "start_time": "2025-02-23T06:19:42.454940",
     "status": "completed"
    },
    "tags": []
   },
   "outputs": [
    {
     "name": "stdout",
     "output_type": "stream",
     "text": [
      "Accuracy of Train Dataset 11.799999999999999 %\n",
      "Accuracy of Test Dataset 12.57 %\n"
     ]
    }
   ],
   "source": [
    "print(\"Accuracy of Train Dataset\", accuracy(X_train, Y_train, Parameters), \"%\")\n",
    "print(\"Accuracy of Test Dataset\", round(accuracy(X_test, Y_test, Parameters), 2), \"%\")"
   ]
  },
  {
   "cell_type": "code",
   "execution_count": 20,
   "id": "754d8d1b",
   "metadata": {
    "execution": {
     "iopub.execute_input": "2025-02-23T06:19:42.534658Z",
     "iopub.status.busy": "2025-02-23T06:19:42.534320Z",
     "iopub.status.idle": "2025-02-23T06:19:42.744542Z",
     "shell.execute_reply": "2025-02-23T06:19:42.743542Z"
    },
    "papermill": {
     "duration": 0.220168,
     "end_time": "2025-02-23T06:19:42.746246",
     "exception": false,
     "start_time": "2025-02-23T06:19:42.526078",
     "status": "completed"
    },
    "tags": []
   },
   "outputs": [
    {
     "data": {
      "image/png": "[encoded data removed]",
      "text/plain": [
       "<Figure size 640x480 with 1 Axes>"
      ]
     },
     "metadata": {},
     "output_type": "display_data"
    },
    {
     "name": "stdout",
     "output_type": "stream",
     "text": [
      "Our model says it is : 1\n"
     ]
    }
   ],
   "source": [
    "idx = int(random.randrange(0,X_test.shape[1]))\n",
    "plt.imshow(X_test[:, idx].reshape((28,28)),cmap='gray')\n",
    "plt.show()\n",
    "\n",
    "cache = forward_prop(X_test[:, idx].reshape(X_test[:, idx].shape[0], 1), Parameters)\n",
    "a_pred = cache['a2']  \n",
    "a_pred = np.argmax(a_pred, 0)\n",
    "\n",
    "print(\"Our model says it is :\", a_pred[0])"
   ]
  },
  {
   "cell_type": "code",
   "execution_count": null,
   "id": "e320547a",
   "metadata": {
    "papermill": {
     "duration": 0.007365,
     "end_time": "2025-02-23T06:19:42.761270",
     "exception": false,
     "start_time": "2025-02-23T06:19:42.753905",
     "status": "completed"
    },
    "tags": []
   },
   "outputs": [],
   "source": []
  }
 ],
 "metadata": {
  "kaggle": {
   "accelerator": "none",
   "dataSources": [
    {
     "datasetId": 6702547,
     "sourceId": 10799257,
     "sourceType": "datasetVersion"
    }
   ],
   "dockerImageVersionId": 30886,
   "isGpuEnabled": false,
   "isInternetEnabled": false,
   "language": "python",
   "sourceType": "notebook"
  },
  "kernelspec": {
   "display_name": "Python 3",
   "language": "python",
   "name": "python3"
  },
  "language_info": {
   "codemirror_mode": {
    "name": "ipython",
    "version": 3
   },
   "file_extension": ".py",
   "mimetype": "text/x-python",
   "name": "python",
   "nbconvert_exporter": "python",
   "pygments_lexer": "ipython3",
   "version": "3.10.12"
  },
  "papermill": {
   "default_parameters": {},
   "duration": 13.786043,
   "end_time": "2025-02-23T06:19:43.187504",
   "environment_variables": {},
   "exception": null,
   "input_path": "__notebook__.ipynb",
   "output_path": "__notebook__.ipynb",
   "parameters": {},
   "start_time": "2025-02-23T06:19:29.401461",
   "version": "2.6.0"
  }
 },
 "nbformat": 4,
 "nbformat_minor": 5
}
